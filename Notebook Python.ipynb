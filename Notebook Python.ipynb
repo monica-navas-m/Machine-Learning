{
 "cells": [
  {
   "attachments": {},
   "cell_type": "markdown",
   "id": "310cddea",
   "metadata": {},
   "source": [
    "# MACHINE LEARNING GROUP PROJECT \n",
    "\n",
    "### Group Members: Helena Krumm (55577),Marouan Kamoun (53833), Mila Gardini (54742), Monica Navas (54577), Yassine Hafi (54466) "
   ]
  },
  {
   "attachments": {},
   "cell_type": "markdown",
   "id": "955e9e61",
   "metadata": {},
   "source": [
    "## **Index**\n",
    "* [Overview and Business Applications](#intro)\n",
    "* [Dataset Information (Metadata)](#meta)\n",
    "* [Import libraries](#libraries)\n",
    "* [Reading and Data Cleaning](#clean)\n",
    "* [Exploratory Data Analysis](#eda)\n",
    "* [Model 1 : Decision Tree ](#model1)\n",
    "* [Model 2 : Logistic Regression ](#model2)\n",
    "* [Model 3 : ANN ](#model3)\n",
    "* [Model 4 : Random Forests ](#model4)\n",
    "* [Model 5 : XG Boosting ](#model5)\n",
    "* [Model 6 : Ensemble Model ](#model5)\n",
    "* [Model Comparison](#compare)\n",
    "* [Best Model Selection and Improvement](#best)\n",
    "* [Conclusion](#conclusion)\n",
    "* [Sources](#sources)"
   ]
  },
  {
   "attachments": {},
   "cell_type": "markdown",
   "id": "a8aa4690",
   "metadata": {},
   "source": [
    "<a name=\"intro\"></a>\n",
    "## Overview and Business applications\n",
    "\n",
    "Forests are one of the most critical ecosystems on our planet, and they provide a range of benefits to both people and the environment. However, forests around the world are facing numerous threats, including deforestation, invasive species, and climate change impacts. To address these issues, we need a better understanding of the state of the forest ecosystem and the factors that influence forest health. This is where environmental monitoring comes in.\n",
    "\n",
    "Environmental monitoring is a critical aspect of sustainable forest management, as it allows us to understand the state of the forest ecosystem and identify potential threats to its health. By analyzing the cartographic variables and forest cover type data in this project, we can gain insights into the relationship between different environmental factors and forest health. This information can be used to develop more effective environmental monitoring programs that can help us identify and address issues such as deforestation, invasive species, and climate change impacts. The application of this project lies in the ability to use machine learning models to analyze the environmental variables and make predictions about forest health. Businesses and organizations in the forestry industry can use these predictions to make better decisions about forest management practices, such as where to focus conservation efforts or how to plan for potential climate change impacts. In addition, this information can be used to inform policy decisions around sustainable forest management and conservation.\n",
    "\n",
    "The study area includes four wilderness areas located in the Roosevelt National Forest of northern Colorado. These areas represent forests with minimal human-caused disturbances, so that existing forest cover types are more a result of ecological processes rather than forest management practices. By analyzing this data set using machine learning models, we can gain insights into the relationship between these cartographic variables and forest health. This, in turn, can help us develop more effective environmental monitoring programs that can identify and address issues such as deforestation, invasive species, and climate change impacts.\n",
    "\n",
    "Overall, this project has significant implications for environmental monitoring and sustainable forest management. By using machine learning to analyze cartographic variables and forest cover type data, we can gain valuable insights into the state of the forest ecosystem and develop more effective environmental monitoring programs. This, in turn, can help us address critical issues facing our forests and ensure their long-term health"
   ]
  },
  {
   "attachments": {},
   "cell_type": "markdown",
   "id": "0500cf4e",
   "metadata": {},
   "source": [
    "<a name=\"meta\"></a>\n",
    "## Dataset informations\n",
    "\n",
    "Number of instances (observations):  581,012\n",
    "\n",
    "Number of Attributes:\t12 measures, but 54 columns of data(10 quantitative variables, 4 binary wilderness areas and 40 binary soil type variables)\n",
    "\n",
    "\n",
    "1.\tAttribute information:\n",
    "\n",
    "Given is the attribute name, attribute type, the measurement unit and a brief description.  The forest cover type is the classification problem. \n",
    "\n",
    "    Name                                     Data Type    Measurement                       Description\n",
    "\n",
    "    Elevation                               quantitative    meters                       Elevation in meters\n",
    "    Aspect                                  quantitative    azimuth                      Aspect in degrees azimuth\n",
    "    Slope                                   quantitative    degrees                      Slope in degrees\n",
    "    Horizontal_Distance_To_Hydrology        quantitative    meters                       Horz Dist to nearest surface water features\n",
    "    Vertical_Distance_To_Hydrology          quantitative    meters                       Vert Dist to nearest surface water features\n",
    "    Horizontal_Distance_To_Roadways         quantitative    meters                       Horz Dist to nearest roadway\n",
    "    Hillshade_9am                           quantitative    0 to 255 index               Hillshade index at 9am, summer solstice\n",
    "    Hillshade_Noon                          quantitative    0 to 255 index               Hillshade index at noon, summer soltice\n",
    "    Hillshade_3pm                           quantitative    0 to 255 index               Hillshade index at 3pm, summer solstice\n",
    "    Horizontal_Distance_To_Fire_Points      quantitative    meters                       Horz Dist to nearest wildfire ignition points\n",
    "    Wilderness_Area (4 binary columns)      qualitative     0 (absence) or 1 (presence)  Wilderness area designation\n",
    "    Soil_Type (40 binary columns)           qualitative     0 (absence) or 1 (presence)  Soil Type designation\n",
    "    Cover_Type (7 types)                    integer         1 to 7                       Forest Cover Type designation\n",
    "\n",
    "\n",
    "Code Designations:\n",
    "\n",
    "    Wilderness Areas:  \t1 -- Rawah Wilderness Area\n",
    "                        2 -- Neota Wilderness Area\n",
    "                        3 -- Comanche Peak Wilderness Area\n",
    "                        4 -- Cache la Poudre Wilderness Area\n",
    "\n",
    "Soil Types:             1 to 40 : based on the USFS Ecological\n",
    "                        Landtype Units (ELUs) for this study area:\n",
    "\n",
    "\n",
    "      Forest Cover Type Classes:\t1 -- Spruce/Fir\n",
    "                                    2 -- Lodgepole Pine\n",
    "                                    3 -- Ponderosa Pine\n",
    "                                    4 -- Cottonwood/Willow\n",
    "                                    5 -- Aspen\n",
    "                                    6 -- Douglas-fir\n",
    "                                    7 -- Krummholz\n",
    "\n",
    "\n",
    "2.  Basic Summary Statistics for quantitative variables only\n",
    "\t(whole dataset -- thanks to Phil Rennert for the summary values):\n",
    "\n",
    "            Name                                    Units             Mean   Std Dev\n",
    "            Elevation                               meters          2959.36  279.98\n",
    "            Aspect                                  azimuth          155.65  111.91\n",
    "            Slope                                   degrees           14.10    7.49\n",
    "            Horizontal_Distance_To_Hydrology        meters           269.43  212.55\n",
    "            Vertical_Distance_To_Hydrology          meters            46.42   58.30\n",
    "            Horizontal_Distance_To_Roadways         meters          2350.15 1559.25\n",
    "            Hillshade_9am                           0 to 255 index   212.15   26.77\n",
    "            Hillshade_Noon                          0 to 255 index   223.32   19.77\n",
    "            Hillshade_3pm                           0 to 255 index   142.53   38.27\n",
    "            Horizontal_Distance_To_Fire_Points      meters          1980.29 1324.19\n",
    "\n",
    "\n",
    "3.\tMissing Attribute Values:  None.\n",
    "\n",
    "\n",
    "4.\tClass distribution:\n",
    "\n",
    "           Number of records of Spruce-Fir:                211840 \n",
    "           Number of records of Lodgepole Pine:            283301 \n",
    "           Number of records of Ponderosa Pine:             35754 \n",
    "           Number of records of Cottonwood/Willow:           2747\n",
    "           Number of records of Aspen:                       9493 \n",
    "           Number of records of Douglas-fir:                17367 \n",
    "           Number of records of Krummholz:                  20510  \n",
    "           Number of records of other:                          0  \n"
   ]
  },
  {
   "attachments": {},
   "cell_type": "markdown",
   "id": "7a47e565",
   "metadata": {},
   "source": [
    "<a name=\"libraries\"></a>\n",
    "## Importing Libraries"
   ]
  },
  {
   "cell_type": "code",
   "execution_count": 1,
   "id": "4c1df99b",
   "metadata": {},
   "outputs": [],
   "source": [
    "import pandas as pd\n",
    "import numpy as np\n",
    "import seaborn as sns\n",
    "import matplotlib.pyplot as plt\n",
    "\n",
    "from sklearn import tree\n",
    "from sklearn import metrics\n",
    "from sklearn.model_selection import train_test_split, KFold, RandomizedSearchCV, GridSearchCV, cross_val_score\n",
    "from sklearn.tree import DecisionTreeClassifier, plot_tree\n",
    "from sklearn.metrics import balanced_accuracy_score, recall_score, confusion_matrix, classification_report, mean_squared_error, plot_confusion_matrix\n",
    "from sklearn.linear_model import LogisticRegression\n",
    "from sklearn.preprocessing import StandardScaler\n",
    "from sklearn.pipeline import Pipeline, make_pipeline\n",
    "from sklearn.ensemble import RandomForestClassifier, GradientBoostingClassifier, VotingClassifier\n",
    "from sklearn.svm import SVC\n",
    "from sklearn.model_selection import train_test_split\n",
    "from sklearn.ensemble import RandomForestClassifier\n",
    "from sklearn.metrics import accuracy_score\n",
    "\n",
    "\n",
    "\n",
    "import warnings\n",
    "warnings.filterwarnings(\"ignore\")"
   ]
  },
  {
   "attachments": {},
   "cell_type": "markdown",
   "id": "e0c29900",
   "metadata": {},
   "source": [
    "<a name=\"clean\"></a>\n",
    "## Data Loading and Cleaning"
   ]
  },
  {
   "cell_type": "code",
   "execution_count": 2,
   "id": "d6e434b2",
   "metadata": {},
   "outputs": [
    {
     "data": {
      "text/html": [
       "<div>\n",
       "<style scoped>\n",
       "    .dataframe tbody tr th:only-of-type {\n",
       "        vertical-align: middle;\n",
       "    }\n",
       "\n",
       "    .dataframe tbody tr th {\n",
       "        vertical-align: top;\n",
       "    }\n",
       "\n",
       "    .dataframe thead th {\n",
       "        text-align: right;\n",
       "    }\n",
       "</style>\n",
       "<table border=\"1\" class=\"dataframe\">\n",
       "  <thead>\n",
       "    <tr style=\"text-align: right;\">\n",
       "      <th></th>\n",
       "      <th>Elevation</th>\n",
       "      <th>Aspect</th>\n",
       "      <th>Slope</th>\n",
       "      <th>Horizontal_Distance_To_Hydrology</th>\n",
       "      <th>Vertical_Distance_To_Hydrology</th>\n",
       "      <th>Horizontal_Distance_To_Roadways</th>\n",
       "      <th>Hillshade_9am</th>\n",
       "      <th>Hillshade_Noon</th>\n",
       "      <th>Hillshade_3pm</th>\n",
       "      <th>Horizontal_Distance_To_Fire_Points</th>\n",
       "      <th>...</th>\n",
       "      <th>32</th>\n",
       "      <th>33</th>\n",
       "      <th>34</th>\n",
       "      <th>35</th>\n",
       "      <th>36</th>\n",
       "      <th>37</th>\n",
       "      <th>38</th>\n",
       "      <th>39</th>\n",
       "      <th>40</th>\n",
       "      <th>Cover_Type_code</th>\n",
       "    </tr>\n",
       "  </thead>\n",
       "  <tbody>\n",
       "    <tr>\n",
       "      <th>0</th>\n",
       "      <td>2590</td>\n",
       "      <td>56</td>\n",
       "      <td>2</td>\n",
       "      <td>212</td>\n",
       "      <td>-6</td>\n",
       "      <td>390</td>\n",
       "      <td>220</td>\n",
       "      <td>235</td>\n",
       "      <td>151</td>\n",
       "      <td>6225</td>\n",
       "      <td>...</td>\n",
       "      <td>0</td>\n",
       "      <td>0</td>\n",
       "      <td>0</td>\n",
       "      <td>0</td>\n",
       "      <td>0</td>\n",
       "      <td>0</td>\n",
       "      <td>0</td>\n",
       "      <td>0</td>\n",
       "      <td>0</td>\n",
       "      <td>5</td>\n",
       "    </tr>\n",
       "    <tr>\n",
       "      <th>1</th>\n",
       "      <td>2804</td>\n",
       "      <td>139</td>\n",
       "      <td>9</td>\n",
       "      <td>268</td>\n",
       "      <td>65</td>\n",
       "      <td>3180</td>\n",
       "      <td>234</td>\n",
       "      <td>238</td>\n",
       "      <td>135</td>\n",
       "      <td>6121</td>\n",
       "      <td>...</td>\n",
       "      <td>0</td>\n",
       "      <td>0</td>\n",
       "      <td>0</td>\n",
       "      <td>0</td>\n",
       "      <td>0</td>\n",
       "      <td>0</td>\n",
       "      <td>0</td>\n",
       "      <td>0</td>\n",
       "      <td>0</td>\n",
       "      <td>2</td>\n",
       "    </tr>\n",
       "    <tr>\n",
       "      <th>2</th>\n",
       "      <td>2785</td>\n",
       "      <td>155</td>\n",
       "      <td>18</td>\n",
       "      <td>242</td>\n",
       "      <td>118</td>\n",
       "      <td>3090</td>\n",
       "      <td>238</td>\n",
       "      <td>238</td>\n",
       "      <td>122</td>\n",
       "      <td>6211</td>\n",
       "      <td>...</td>\n",
       "      <td>0</td>\n",
       "      <td>0</td>\n",
       "      <td>0</td>\n",
       "      <td>0</td>\n",
       "      <td>0</td>\n",
       "      <td>0</td>\n",
       "      <td>0</td>\n",
       "      <td>0</td>\n",
       "      <td>0</td>\n",
       "      <td>2</td>\n",
       "    </tr>\n",
       "    <tr>\n",
       "      <th>3</th>\n",
       "      <td>2595</td>\n",
       "      <td>45</td>\n",
       "      <td>2</td>\n",
       "      <td>153</td>\n",
       "      <td>-1</td>\n",
       "      <td>391</td>\n",
       "      <td>220</td>\n",
       "      <td>234</td>\n",
       "      <td>150</td>\n",
       "      <td>6172</td>\n",
       "      <td>...</td>\n",
       "      <td>0</td>\n",
       "      <td>0</td>\n",
       "      <td>0</td>\n",
       "      <td>0</td>\n",
       "      <td>0</td>\n",
       "      <td>0</td>\n",
       "      <td>0</td>\n",
       "      <td>0</td>\n",
       "      <td>0</td>\n",
       "      <td>5</td>\n",
       "    </tr>\n",
       "    <tr>\n",
       "      <th>4</th>\n",
       "      <td>2579</td>\n",
       "      <td>132</td>\n",
       "      <td>6</td>\n",
       "      <td>300</td>\n",
       "      <td>-15</td>\n",
       "      <td>67</td>\n",
       "      <td>230</td>\n",
       "      <td>237</td>\n",
       "      <td>140</td>\n",
       "      <td>6031</td>\n",
       "      <td>...</td>\n",
       "      <td>0</td>\n",
       "      <td>0</td>\n",
       "      <td>0</td>\n",
       "      <td>0</td>\n",
       "      <td>0</td>\n",
       "      <td>0</td>\n",
       "      <td>0</td>\n",
       "      <td>0</td>\n",
       "      <td>0</td>\n",
       "      <td>2</td>\n",
       "    </tr>\n",
       "  </tbody>\n",
       "</table>\n",
       "<p>5 rows × 55 columns</p>\n",
       "</div>"
      ],
      "text/plain": [
       "   Elevation  Aspect  Slope  Horizontal_Distance_To_Hydrology  \\\n",
       "0       2590      56      2                               212   \n",
       "1       2804     139      9                               268   \n",
       "2       2785     155     18                               242   \n",
       "3       2595      45      2                               153   \n",
       "4       2579     132      6                               300   \n",
       "\n",
       "   Vertical_Distance_To_Hydrology   Horizontal_Distance_To_Roadways  \\\n",
       "0                               -6                              390   \n",
       "1                               65                             3180   \n",
       "2                              118                             3090   \n",
       "3                               -1                              391   \n",
       "4                              -15                               67   \n",
       "\n",
       "   Hillshade_9am  Hillshade_Noon  Hillshade_3pm  \\\n",
       "0            220             235            151   \n",
       "1            234             238            135   \n",
       "2            238             238            122   \n",
       "3            220             234            150   \n",
       "4            230             237            140   \n",
       "\n",
       "   Horizontal_Distance_To_Fire_Points  ...  32  33  34  35  36  37  38  39  \\\n",
       "0                                6225  ...   0   0   0   0   0   0   0   0   \n",
       "1                                6121  ...   0   0   0   0   0   0   0   0   \n",
       "2                                6211  ...   0   0   0   0   0   0   0   0   \n",
       "3                                6172  ...   0   0   0   0   0   0   0   0   \n",
       "4                                6031  ...   0   0   0   0   0   0   0   0   \n",
       "\n",
       "   40  Cover_Type_code  \n",
       "0   0                5  \n",
       "1   0                2  \n",
       "2   0                2  \n",
       "3   0                5  \n",
       "4   0                2  \n",
       "\n",
       "[5 rows x 55 columns]"
      ]
     },
     "execution_count": 2,
     "metadata": {},
     "output_type": "execute_result"
    }
   ],
   "source": [
    "df=pd.read_csv(\"./dataset/covtype.data\")\n",
    "\n",
    "# Define column names\n",
    "col_names = ['Elevation', 'Aspect', 'Slope', 'Horizontal_Distance_To_Hydrology', 'Vertical_Distance_To_Hydrology ',\n",
    "             'Horizontal_Distance_To_Roadways', 'Hillshade_9am', 'Hillshade_Noon', 'Hillshade_3pm',\n",
    "             'Horizontal_Distance_To_Fire_Points']\n",
    "\n",
    "# Generate names for binary columns based on their position\n",
    "binary_col_names = [i+1 for i in range(4)]\n",
    "binary_col_names += [i+1 for i in range(40)]\n",
    "\n",
    "# Append the binary column names to the list of column names\n",
    "col_names += binary_col_names\n",
    "\n",
    "# Append the target variable name to the list of column names\n",
    "col_names.append('Cover_Type_code')\n",
    "\n",
    "# Rename the columns in the DataFrame\n",
    "df.columns = col_names\n",
    "df.head()"
   ]
  },
  {
   "cell_type": "code",
   "execution_count": 3,
   "id": "cf08c065",
   "metadata": {},
   "outputs": [
    {
     "data": {
      "text/html": [
       "<div>\n",
       "<style scoped>\n",
       "    .dataframe tbody tr th:only-of-type {\n",
       "        vertical-align: middle;\n",
       "    }\n",
       "\n",
       "    .dataframe tbody tr th {\n",
       "        vertical-align: top;\n",
       "    }\n",
       "\n",
       "    .dataframe thead th {\n",
       "        text-align: right;\n",
       "    }\n",
       "</style>\n",
       "<table border=\"1\" class=\"dataframe\">\n",
       "  <thead>\n",
       "    <tr style=\"text-align: right;\">\n",
       "      <th></th>\n",
       "      <th>Elevation</th>\n",
       "      <th>Aspect</th>\n",
       "      <th>Slope</th>\n",
       "      <th>Horizontal_Distance_To_Hydrology</th>\n",
       "      <th>Vertical_Distance_To_Hydrology</th>\n",
       "      <th>Horizontal_Distance_To_Roadways</th>\n",
       "      <th>Hillshade_9am</th>\n",
       "      <th>Hillshade_Noon</th>\n",
       "      <th>Hillshade_3pm</th>\n",
       "      <th>Horizontal_Distance_To_Fire_Points</th>\n",
       "      <th>Cover_Type_code</th>\n",
       "      <th>Soil type code</th>\n",
       "      <th>Wilderness area code</th>\n",
       "    </tr>\n",
       "  </thead>\n",
       "  <tbody>\n",
       "    <tr>\n",
       "      <th>0</th>\n",
       "      <td>2590</td>\n",
       "      <td>56</td>\n",
       "      <td>2</td>\n",
       "      <td>212</td>\n",
       "      <td>-6</td>\n",
       "      <td>390</td>\n",
       "      <td>220</td>\n",
       "      <td>235</td>\n",
       "      <td>151</td>\n",
       "      <td>6225</td>\n",
       "      <td>5</td>\n",
       "      <td>29</td>\n",
       "      <td>1</td>\n",
       "    </tr>\n",
       "    <tr>\n",
       "      <th>1</th>\n",
       "      <td>2804</td>\n",
       "      <td>139</td>\n",
       "      <td>9</td>\n",
       "      <td>268</td>\n",
       "      <td>65</td>\n",
       "      <td>3180</td>\n",
       "      <td>234</td>\n",
       "      <td>238</td>\n",
       "      <td>135</td>\n",
       "      <td>6121</td>\n",
       "      <td>2</td>\n",
       "      <td>12</td>\n",
       "      <td>1</td>\n",
       "    </tr>\n",
       "    <tr>\n",
       "      <th>2</th>\n",
       "      <td>2785</td>\n",
       "      <td>155</td>\n",
       "      <td>18</td>\n",
       "      <td>242</td>\n",
       "      <td>118</td>\n",
       "      <td>3090</td>\n",
       "      <td>238</td>\n",
       "      <td>238</td>\n",
       "      <td>122</td>\n",
       "      <td>6211</td>\n",
       "      <td>2</td>\n",
       "      <td>30</td>\n",
       "      <td>1</td>\n",
       "    </tr>\n",
       "    <tr>\n",
       "      <th>3</th>\n",
       "      <td>2595</td>\n",
       "      <td>45</td>\n",
       "      <td>2</td>\n",
       "      <td>153</td>\n",
       "      <td>-1</td>\n",
       "      <td>391</td>\n",
       "      <td>220</td>\n",
       "      <td>234</td>\n",
       "      <td>150</td>\n",
       "      <td>6172</td>\n",
       "      <td>5</td>\n",
       "      <td>29</td>\n",
       "      <td>1</td>\n",
       "    </tr>\n",
       "    <tr>\n",
       "      <th>4</th>\n",
       "      <td>2579</td>\n",
       "      <td>132</td>\n",
       "      <td>6</td>\n",
       "      <td>300</td>\n",
       "      <td>-15</td>\n",
       "      <td>67</td>\n",
       "      <td>230</td>\n",
       "      <td>237</td>\n",
       "      <td>140</td>\n",
       "      <td>6031</td>\n",
       "      <td>2</td>\n",
       "      <td>29</td>\n",
       "      <td>1</td>\n",
       "    </tr>\n",
       "  </tbody>\n",
       "</table>\n",
       "</div>"
      ],
      "text/plain": [
       "   Elevation  Aspect  Slope  Horizontal_Distance_To_Hydrology  \\\n",
       "0       2590      56      2                               212   \n",
       "1       2804     139      9                               268   \n",
       "2       2785     155     18                               242   \n",
       "3       2595      45      2                               153   \n",
       "4       2579     132      6                               300   \n",
       "\n",
       "   Vertical_Distance_To_Hydrology   Horizontal_Distance_To_Roadways  \\\n",
       "0                               -6                              390   \n",
       "1                               65                             3180   \n",
       "2                              118                             3090   \n",
       "3                               -1                              391   \n",
       "4                              -15                               67   \n",
       "\n",
       "   Hillshade_9am  Hillshade_Noon  Hillshade_3pm  \\\n",
       "0            220             235            151   \n",
       "1            234             238            135   \n",
       "2            238             238            122   \n",
       "3            220             234            150   \n",
       "4            230             237            140   \n",
       "\n",
       "   Horizontal_Distance_To_Fire_Points  Cover_Type_code  Soil type code  \\\n",
       "0                                6225                5              29   \n",
       "1                                6121                2              12   \n",
       "2                                6211                2              30   \n",
       "3                                6172                5              29   \n",
       "4                                6031                2              29   \n",
       "\n",
       "   Wilderness area code  \n",
       "0                     1  \n",
       "1                     1  \n",
       "2                     1  \n",
       "3                     1  \n",
       "4                     1  "
      ]
     },
     "execution_count": 3,
     "metadata": {},
     "output_type": "execute_result"
    }
   ],
   "source": [
    "#Grouping the soil type columns into 1 column\n",
    "df['Soil type code'] = df.iloc[:, 14:54].idxmax(axis=1)\n",
    "df = pd.concat([df.iloc[:, :14], df.iloc[:, 54:]], axis=1)\n",
    "#Grouping the Wilderness Areas columns into 1 column\n",
    "df['Wilderness area code'] = df.iloc[:, 10:14].idxmax(axis=1)\n",
    "df = pd.concat([df.iloc[:, :10], df.iloc[:, 14:]], axis=1)\n",
    "df.head()"
   ]
  },
  {
   "cell_type": "code",
   "execution_count": 4,
   "id": "cb624cb4",
   "metadata": {},
   "outputs": [
    {
     "data": {
      "text/html": [
       "<div>\n",
       "<style scoped>\n",
       "    .dataframe tbody tr th:only-of-type {\n",
       "        vertical-align: middle;\n",
       "    }\n",
       "\n",
       "    .dataframe tbody tr th {\n",
       "        vertical-align: top;\n",
       "    }\n",
       "\n",
       "    .dataframe thead th {\n",
       "        text-align: right;\n",
       "    }\n",
       "</style>\n",
       "<table border=\"1\" class=\"dataframe\">\n",
       "  <thead>\n",
       "    <tr style=\"text-align: right;\">\n",
       "      <th></th>\n",
       "      <th>Elevation</th>\n",
       "      <th>Aspect</th>\n",
       "      <th>Slope</th>\n",
       "      <th>Horizontal_Distance_To_Hydrology</th>\n",
       "      <th>Vertical_Distance_To_Hydrology</th>\n",
       "      <th>Horizontal_Distance_To_Roadways</th>\n",
       "      <th>Hillshade_9am</th>\n",
       "      <th>Hillshade_Noon</th>\n",
       "      <th>Hillshade_3pm</th>\n",
       "      <th>Horizontal_Distance_To_Fire_Points</th>\n",
       "      <th>Soil type code</th>\n",
       "      <th>Wilderness area code</th>\n",
       "      <th>Wilderness area description</th>\n",
       "      <th>soil type description</th>\n",
       "      <th>Cover_Type_code</th>\n",
       "      <th>cover type description</th>\n",
       "    </tr>\n",
       "  </thead>\n",
       "  <tbody>\n",
       "    <tr>\n",
       "      <th>0</th>\n",
       "      <td>2590</td>\n",
       "      <td>56</td>\n",
       "      <td>2</td>\n",
       "      <td>212</td>\n",
       "      <td>-6</td>\n",
       "      <td>390</td>\n",
       "      <td>220</td>\n",
       "      <td>235</td>\n",
       "      <td>151</td>\n",
       "      <td>6225</td>\n",
       "      <td>29</td>\n",
       "      <td>1</td>\n",
       "      <td>Rawah Wilderness Area</td>\n",
       "      <td>Como - Legault families complex, extremely stony.</td>\n",
       "      <td>5</td>\n",
       "      <td>Aspen</td>\n",
       "    </tr>\n",
       "    <tr>\n",
       "      <th>1</th>\n",
       "      <td>2804</td>\n",
       "      <td>139</td>\n",
       "      <td>9</td>\n",
       "      <td>268</td>\n",
       "      <td>65</td>\n",
       "      <td>3180</td>\n",
       "      <td>234</td>\n",
       "      <td>238</td>\n",
       "      <td>135</td>\n",
       "      <td>6121</td>\n",
       "      <td>12</td>\n",
       "      <td>1</td>\n",
       "      <td>Rawah Wilderness Area</td>\n",
       "      <td>Legault family - Rock land complex, stony.</td>\n",
       "      <td>2</td>\n",
       "      <td>Lodgepole Pine</td>\n",
       "    </tr>\n",
       "    <tr>\n",
       "      <th>2</th>\n",
       "      <td>2785</td>\n",
       "      <td>155</td>\n",
       "      <td>18</td>\n",
       "      <td>242</td>\n",
       "      <td>118</td>\n",
       "      <td>3090</td>\n",
       "      <td>238</td>\n",
       "      <td>238</td>\n",
       "      <td>122</td>\n",
       "      <td>6211</td>\n",
       "      <td>30</td>\n",
       "      <td>1</td>\n",
       "      <td>Rawah Wilderness Area</td>\n",
       "      <td>Como family - Rock land - Legault family compl...</td>\n",
       "      <td>2</td>\n",
       "      <td>Lodgepole Pine</td>\n",
       "    </tr>\n",
       "    <tr>\n",
       "      <th>3</th>\n",
       "      <td>2595</td>\n",
       "      <td>45</td>\n",
       "      <td>2</td>\n",
       "      <td>153</td>\n",
       "      <td>-1</td>\n",
       "      <td>391</td>\n",
       "      <td>220</td>\n",
       "      <td>234</td>\n",
       "      <td>150</td>\n",
       "      <td>6172</td>\n",
       "      <td>29</td>\n",
       "      <td>1</td>\n",
       "      <td>Rawah Wilderness Area</td>\n",
       "      <td>Como - Legault families complex, extremely stony.</td>\n",
       "      <td>5</td>\n",
       "      <td>Aspen</td>\n",
       "    </tr>\n",
       "    <tr>\n",
       "      <th>4</th>\n",
       "      <td>2579</td>\n",
       "      <td>132</td>\n",
       "      <td>6</td>\n",
       "      <td>300</td>\n",
       "      <td>-15</td>\n",
       "      <td>67</td>\n",
       "      <td>230</td>\n",
       "      <td>237</td>\n",
       "      <td>140</td>\n",
       "      <td>6031</td>\n",
       "      <td>29</td>\n",
       "      <td>1</td>\n",
       "      <td>Rawah Wilderness Area</td>\n",
       "      <td>Como - Legault families complex, extremely stony.</td>\n",
       "      <td>2</td>\n",
       "      <td>Lodgepole Pine</td>\n",
       "    </tr>\n",
       "  </tbody>\n",
       "</table>\n",
       "</div>"
      ],
      "text/plain": [
       "   Elevation  Aspect  Slope  Horizontal_Distance_To_Hydrology  \\\n",
       "0       2590      56      2                               212   \n",
       "1       2804     139      9                               268   \n",
       "2       2785     155     18                               242   \n",
       "3       2595      45      2                               153   \n",
       "4       2579     132      6                               300   \n",
       "\n",
       "   Vertical_Distance_To_Hydrology   Horizontal_Distance_To_Roadways  \\\n",
       "0                               -6                              390   \n",
       "1                               65                             3180   \n",
       "2                              118                             3090   \n",
       "3                               -1                              391   \n",
       "4                              -15                               67   \n",
       "\n",
       "   Hillshade_9am  Hillshade_Noon  Hillshade_3pm  \\\n",
       "0            220             235            151   \n",
       "1            234             238            135   \n",
       "2            238             238            122   \n",
       "3            220             234            150   \n",
       "4            230             237            140   \n",
       "\n",
       "   Horizontal_Distance_To_Fire_Points  Soil type code  Wilderness area code  \\\n",
       "0                                6225              29                     1   \n",
       "1                                6121              12                     1   \n",
       "2                                6211              30                     1   \n",
       "3                                6172              29                     1   \n",
       "4                                6031              29                     1   \n",
       "\n",
       "  Wilderness area description  \\\n",
       "0       Rawah Wilderness Area   \n",
       "1       Rawah Wilderness Area   \n",
       "2       Rawah Wilderness Area   \n",
       "3       Rawah Wilderness Area   \n",
       "4       Rawah Wilderness Area   \n",
       "\n",
       "                               soil type description  Cover_Type_code  \\\n",
       "0  Como - Legault families complex, extremely stony.                5   \n",
       "1         Legault family - Rock land complex, stony.                2   \n",
       "2  Como family - Rock land - Legault family compl...                2   \n",
       "3  Como - Legault families complex, extremely stony.                5   \n",
       "4  Como - Legault families complex, extremely stony.                2   \n",
       "\n",
       "  cover type description  \n",
       "0                  Aspen  \n",
       "1         Lodgepole Pine  \n",
       "2         Lodgepole Pine  \n",
       "3                  Aspen  \n",
       "4         Lodgepole Pine  "
      ]
     },
     "execution_count": 4,
     "metadata": {},
     "output_type": "execute_result"
    }
   ],
   "source": [
    "df1=df.copy()\n",
    "#add a column with the description of codes for Soil type and wilderness areas\n",
    "Wilderness_areas_list=['Rawah Wilderness Area','Neota Wilderness Area','Comanche Peak Wilderness Area' ,'Cache la Poudre Wilderness Area']\n",
    "df1['Wilderness area description']=[Wilderness_areas_list[col-1] for col in df1['Wilderness area code']]\n",
    "\n",
    "list_of_soil_type=pd.read_csv(\"./dataset/list_of_soil_types.csv\")\n",
    "list_of_soil_type=list(list_of_soil_type)\n",
    "df1['soil type description']=[list_of_soil_type[col-1] for col in df1['Soil type code']]\n",
    "\n",
    "new_order = [col for col in df1.columns if col != 'Cover_Type_code'] + ['Cover_Type_code']\n",
    "df1 = df1[new_order]\n",
    "\n",
    "cover_type_list=['Spruce/Fir','Lodgepole Pine','Ponderosa Pine','Cottonwood/Willow','Aspen','Douglas-fir','Krummholz']\n",
    "df1['cover type description']=[cover_type_list[col-1] for col in df1['Cover_Type_code']]\n",
    "df1.head()"
   ]
  },
  {
   "attachments": {},
   "cell_type": "markdown",
   "id": "134a026e",
   "metadata": {},
   "source": [
    "<a name=\"eda\"></a>\n",
    "## Exploratory Data Analysis"
   ]
  },
  {
   "attachments": {},
   "cell_type": "markdown",
   "id": "50a1eb31",
   "metadata": {},
   "source": [
    "Exploratory Data Analysis (EDA) is a critical step in the data analysis process that aims to summarize, visualize, and understand the underlying structure and patterns in a dataset. This helps in identifying trends, anomalies, and potential relationships among variables, which can ultimately lead to the development of appropriate statistical models and hypothesis testing.\n",
    "\n",
    "In the given project, the goal is to predict forest cover types based on cartographic variables, with data derived from the US Forest Service (USFS) and the US Geological Survey (USGS). The dataset consists of binary columns representing wilderness areas and soil types, as well as the target variable, which is the forest cover type.\n",
    "\n",
    "To perform the EDA, the team started by defining column names and generating names for binary columns based on their position. These binary column names were then appended to the list of column names, along with the target variable (cover type). After renaming the columns in the dataframe, the team proceeded to analyze the numerical columns by printing summary statistics. This helped to gain a better understanding of the central tendencies and dispersion within the data.\n",
    "\n",
    "To further explore the distribution of the target variable, we printed the count of each target value and created a histogram. This provided insights into the frequency of different forest cover types and highlighted potential imbalances in the dataset. By examining the dataset in this manner, our group was able to identify trends, patterns, and potential relationships among variables, which will help in selecting appropriate techniques for modeling and prediction in the next stages of the project."
   ]
  },
  {
   "cell_type": "code",
   "execution_count": 5,
   "id": "a89a7673",
   "metadata": {},
   "outputs": [
    {
     "data": {
      "text/html": [
       "<div>\n",
       "<style scoped>\n",
       "    .dataframe tbody tr th:only-of-type {\n",
       "        vertical-align: middle;\n",
       "    }\n",
       "\n",
       "    .dataframe tbody tr th {\n",
       "        vertical-align: top;\n",
       "    }\n",
       "\n",
       "    .dataframe thead th {\n",
       "        text-align: right;\n",
       "    }\n",
       "</style>\n",
       "<table border=\"1\" class=\"dataframe\">\n",
       "  <thead>\n",
       "    <tr style=\"text-align: right;\">\n",
       "      <th></th>\n",
       "      <th>Elevation</th>\n",
       "      <th>Aspect</th>\n",
       "      <th>Slope</th>\n",
       "      <th>Horizontal_Distance_To_Hydrology</th>\n",
       "      <th>Vertical_Distance_To_Hydrology</th>\n",
       "      <th>Horizontal_Distance_To_Roadways</th>\n",
       "      <th>Hillshade_9am</th>\n",
       "      <th>Hillshade_Noon</th>\n",
       "      <th>Hillshade_3pm</th>\n",
       "      <th>Horizontal_Distance_To_Fire_Points</th>\n",
       "      <th>Cover_Type_code</th>\n",
       "      <th>Soil type code</th>\n",
       "      <th>Wilderness area code</th>\n",
       "    </tr>\n",
       "  </thead>\n",
       "  <tbody>\n",
       "    <tr>\n",
       "      <th>count</th>\n",
       "      <td>581011.000000</td>\n",
       "      <td>581011.000000</td>\n",
       "      <td>581011.000000</td>\n",
       "      <td>581011.000000</td>\n",
       "      <td>581011.000000</td>\n",
       "      <td>581011.000000</td>\n",
       "      <td>581011.000000</td>\n",
       "      <td>581011.000000</td>\n",
       "      <td>581011.000000</td>\n",
       "      <td>581011.000000</td>\n",
       "      <td>581011.000000</td>\n",
       "      <td>581011.000000</td>\n",
       "      <td>581011.000000</td>\n",
       "    </tr>\n",
       "    <tr>\n",
       "      <th>mean</th>\n",
       "      <td>2959.365926</td>\n",
       "      <td>155.656988</td>\n",
       "      <td>14.103723</td>\n",
       "      <td>269.428236</td>\n",
       "      <td>46.418935</td>\n",
       "      <td>2350.149779</td>\n",
       "      <td>212.146033</td>\n",
       "      <td>223.318701</td>\n",
       "      <td>142.528253</td>\n",
       "      <td>1980.283828</td>\n",
       "      <td>2.051465</td>\n",
       "      <td>24.362435</td>\n",
       "      <td>2.114464</td>\n",
       "    </tr>\n",
       "    <tr>\n",
       "      <th>std</th>\n",
       "      <td>279.984569</td>\n",
       "      <td>111.913733</td>\n",
       "      <td>7.488234</td>\n",
       "      <td>212.549538</td>\n",
       "      <td>58.295250</td>\n",
       "      <td>1559.254343</td>\n",
       "      <td>26.769909</td>\n",
       "      <td>19.768711</td>\n",
       "      <td>38.274561</td>\n",
       "      <td>1324.184340</td>\n",
       "      <td>1.396500</td>\n",
       "      <td>9.485412</td>\n",
       "      <td>1.061295</td>\n",
       "    </tr>\n",
       "    <tr>\n",
       "      <th>min</th>\n",
       "      <td>1859.000000</td>\n",
       "      <td>0.000000</td>\n",
       "      <td>0.000000</td>\n",
       "      <td>0.000000</td>\n",
       "      <td>-173.000000</td>\n",
       "      <td>0.000000</td>\n",
       "      <td>0.000000</td>\n",
       "      <td>0.000000</td>\n",
       "      <td>0.000000</td>\n",
       "      <td>0.000000</td>\n",
       "      <td>1.000000</td>\n",
       "      <td>1.000000</td>\n",
       "      <td>1.000000</td>\n",
       "    </tr>\n",
       "    <tr>\n",
       "      <th>25%</th>\n",
       "      <td>2809.000000</td>\n",
       "      <td>58.000000</td>\n",
       "      <td>9.000000</td>\n",
       "      <td>108.000000</td>\n",
       "      <td>7.000000</td>\n",
       "      <td>1106.000000</td>\n",
       "      <td>198.000000</td>\n",
       "      <td>213.000000</td>\n",
       "      <td>119.000000</td>\n",
       "      <td>1024.000000</td>\n",
       "      <td>1.000000</td>\n",
       "      <td>20.000000</td>\n",
       "      <td>1.000000</td>\n",
       "    </tr>\n",
       "    <tr>\n",
       "      <th>50%</th>\n",
       "      <td>2996.000000</td>\n",
       "      <td>127.000000</td>\n",
       "      <td>13.000000</td>\n",
       "      <td>218.000000</td>\n",
       "      <td>30.000000</td>\n",
       "      <td>1997.000000</td>\n",
       "      <td>218.000000</td>\n",
       "      <td>226.000000</td>\n",
       "      <td>143.000000</td>\n",
       "      <td>1710.000000</td>\n",
       "      <td>2.000000</td>\n",
       "      <td>29.000000</td>\n",
       "      <td>2.000000</td>\n",
       "    </tr>\n",
       "    <tr>\n",
       "      <th>75%</th>\n",
       "      <td>3163.000000</td>\n",
       "      <td>260.000000</td>\n",
       "      <td>18.000000</td>\n",
       "      <td>384.000000</td>\n",
       "      <td>69.000000</td>\n",
       "      <td>3328.000000</td>\n",
       "      <td>231.000000</td>\n",
       "      <td>237.000000</td>\n",
       "      <td>168.000000</td>\n",
       "      <td>2550.000000</td>\n",
       "      <td>2.000000</td>\n",
       "      <td>31.000000</td>\n",
       "      <td>3.000000</td>\n",
       "    </tr>\n",
       "    <tr>\n",
       "      <th>max</th>\n",
       "      <td>3858.000000</td>\n",
       "      <td>360.000000</td>\n",
       "      <td>66.000000</td>\n",
       "      <td>1397.000000</td>\n",
       "      <td>601.000000</td>\n",
       "      <td>7117.000000</td>\n",
       "      <td>254.000000</td>\n",
       "      <td>254.000000</td>\n",
       "      <td>254.000000</td>\n",
       "      <td>7173.000000</td>\n",
       "      <td>7.000000</td>\n",
       "      <td>40.000000</td>\n",
       "      <td>4.000000</td>\n",
       "    </tr>\n",
       "  </tbody>\n",
       "</table>\n",
       "</div>"
      ],
      "text/plain": [
       "           Elevation         Aspect          Slope  \\\n",
       "count  581011.000000  581011.000000  581011.000000   \n",
       "mean     2959.365926     155.656988      14.103723   \n",
       "std       279.984569     111.913733       7.488234   \n",
       "min      1859.000000       0.000000       0.000000   \n",
       "25%      2809.000000      58.000000       9.000000   \n",
       "50%      2996.000000     127.000000      13.000000   \n",
       "75%      3163.000000     260.000000      18.000000   \n",
       "max      3858.000000     360.000000      66.000000   \n",
       "\n",
       "       Horizontal_Distance_To_Hydrology  Vertical_Distance_To_Hydrology   \\\n",
       "count                     581011.000000                    581011.000000   \n",
       "mean                         269.428236                        46.418935   \n",
       "std                          212.549538                        58.295250   \n",
       "min                            0.000000                      -173.000000   \n",
       "25%                          108.000000                         7.000000   \n",
       "50%                          218.000000                        30.000000   \n",
       "75%                          384.000000                        69.000000   \n",
       "max                         1397.000000                       601.000000   \n",
       "\n",
       "       Horizontal_Distance_To_Roadways  Hillshade_9am  Hillshade_Noon  \\\n",
       "count                    581011.000000  581011.000000   581011.000000   \n",
       "mean                       2350.149779     212.146033      223.318701   \n",
       "std                        1559.254343      26.769909       19.768711   \n",
       "min                           0.000000       0.000000        0.000000   \n",
       "25%                        1106.000000     198.000000      213.000000   \n",
       "50%                        1997.000000     218.000000      226.000000   \n",
       "75%                        3328.000000     231.000000      237.000000   \n",
       "max                        7117.000000     254.000000      254.000000   \n",
       "\n",
       "       Hillshade_3pm  Horizontal_Distance_To_Fire_Points  Cover_Type_code  \\\n",
       "count  581011.000000                       581011.000000    581011.000000   \n",
       "mean      142.528253                         1980.283828         2.051465   \n",
       "std        38.274561                         1324.184340         1.396500   \n",
       "min         0.000000                            0.000000         1.000000   \n",
       "25%       119.000000                         1024.000000         1.000000   \n",
       "50%       143.000000                         1710.000000         2.000000   \n",
       "75%       168.000000                         2550.000000         2.000000   \n",
       "max       254.000000                         7173.000000         7.000000   \n",
       "\n",
       "       Soil type code  Wilderness area code  \n",
       "count   581011.000000         581011.000000  \n",
       "mean        24.362435              2.114464  \n",
       "std          9.485412              1.061295  \n",
       "min          1.000000              1.000000  \n",
       "25%         20.000000              1.000000  \n",
       "50%         29.000000              2.000000  \n",
       "75%         31.000000              3.000000  \n",
       "max         40.000000              4.000000  "
      ]
     },
     "execution_count": 5,
     "metadata": {},
     "output_type": "execute_result"
    }
   ],
   "source": [
    "# Print the summary statistics of the numerical columns\n",
    "df.describe()"
   ]
  },
  {
   "attachments": {},
   "cell_type": "markdown",
   "id": "a94874ea",
   "metadata": {},
   "source": [
    "The count, mean, min, and max rows are self-explanatory. The std row shows the standard deviation (which measures how dispersed the values are). The 25%, 50%, and 75% rows show the corresponding percentiles: a percentile indicates the value below which a given percentage of observations in a group of observations falls.\n",
    "\n",
    "Another quick way to get a feel of the type of data you are dealing with is to plot a histogram for each numerical attribute. A histogram shows the number of instances (on the vertical axis) that have a given value range (on the horizontal axis). You can either plot this one attribute at a time, or you can call the hist() method on the whole dataset, and it will plot a histogram for each numerical attribute."
   ]
  },
  {
   "cell_type": "code",
   "execution_count": 6,
   "id": "f83cbd84",
   "metadata": {},
   "outputs": [
    {
     "data": {
      "image/png": "[encoded data removed]",
      "text/plain": [
       "<Figure size 1440x1080 with 16 Axes>"
      ]
     },
     "metadata": {
      "needs_background": "light"
     },
     "output_type": "display_data"
    }
   ],
   "source": [
    "df.hist(bins=40, figsize=(20,15))\n",
    "plt.show()"
   ]
  },
  {
   "attachments": {},
   "cell_type": "markdown",
   "id": "c5d061d3",
   "metadata": {},
   "source": [
    "The histogram plot shows the distribution of all the numeric columns in the dataset.\n",
    "\n",
    "The \"Elevation\" column seems to be roughly normally distributed, with the majority of values falling in the range of 2500-3300.\n",
    "\n",
    "The \"Aspect\" column appears to have a roughly uniform distribution, with no clear trend or peak in the data.\n",
    "\n",
    "The \"Slope\" column has a right-skewed distribution, indicating that the majority of slopes are relatively gentle, with a long tail of steeper slopes.\n",
    "\n",
    "The \"Horizontal_Distance_To_Hydrology\" and \"Vertical_Distance_To_Hydrology\" columns both have a strong peak at 0, indicating that many of the observations have no distance to hydrology.\n",
    "\n",
    "The \"Horizontal_Distance_To_Roadways\" column is roughly normally distributed, with a peak around 0-500.\n",
    "\n",
    "The \"Hillshade\" columns (9am, Noon, and 3pm) are all roughly normally distributed, with peaks around 200-255.\n",
    "\n",
    "The \"Horizontal_Distance_To_Fire_Points\" column is right-skewed, indicating that the majority of observations have relatively short distances to fire points.\n",
    "\n",
    "Now we divide the data to train and test sets to explore the train set only."
   ]
  },
  {
   "cell_type": "code",
   "execution_count": 7,
   "id": "3b879f6d",
   "metadata": {},
   "outputs": [],
   "source": [
    "from sklearn.model_selection import train_test_split\n",
    "\n",
    "train_set, test_set = train_test_split(df1, test_size=0.2, random_state=42)\n",
    "train = train_set.copy()"
   ]
  },
  {
   "cell_type": "code",
   "execution_count": 8,
   "id": "006aee4f",
   "metadata": {},
   "outputs": [
    {
     "data": {
      "text/plain": [
       "Cover_Type_code                       1.000000\n",
       "Wilderness area code                  0.275949\n",
       "Slope                                 0.149232\n",
       "Vertical_Distance_To_Hydrology        0.081706\n",
       "Aspect                                0.016621\n",
       "Horizontal_Distance_To_Hydrology     -0.020585\n",
       "Hillshade_9am                        -0.035737\n",
       "Hillshade_3pm                        -0.048396\n",
       "Hillshade_Noon                       -0.096688\n",
       "Horizontal_Distance_To_Fire_Points   -0.108663\n",
       "Horizontal_Distance_To_Roadways      -0.152799\n",
       "Soil type code                       -0.163948\n",
       "Elevation                            -0.268716\n",
       "Name: Cover_Type_code, dtype: float64"
      ]
     },
     "execution_count": 8,
     "metadata": {},
     "output_type": "execute_result"
    }
   ],
   "source": [
    "corr_matrix = train.corr()\n",
    "corr_matrix[\"Cover_Type_code\"].sort_values(ascending=False)"
   ]
  },
  {
   "attachments": {},
   "cell_type": "markdown",
   "id": "0e381567",
   "metadata": {},
   "source": [
    "#### Distribution of cover type(the target variable)"
   ]
  },
  {
   "cell_type": "code",
   "execution_count": 9,
   "id": "f0ac1c30",
   "metadata": {},
   "outputs": [
    {
     "data": {
      "image/png": "[encoded data removed]",
      "text/plain": [
       "<Figure size 720x576 with 1 Axes>"
      ]
     },
     "metadata": {
      "needs_background": "light"
     },
     "output_type": "display_data"
    }
   ],
   "source": [
    "# plot a histogram of the distribution'cover type description' column\n",
    "plt.figure(figsize=(10, 8))\n",
    "percentage = train['cover type description'].value_counts(normalize=True) * 100\n",
    "# create a bar plot of the percentages of each unique value in the 'cover type description' column\n",
    "percentage.plot(kind='bar')\n",
    "# display the plot\n",
    "plt.xlabel('Cover Type')\n",
    "plt.ylabel('Percentage')\n",
    "\n",
    "\n",
    "# add percentage labels to the bars\n",
    "for index, value in enumerate(percentage):\n",
    "    code = percentage.index[index]\n",
    "    plt.text(index, value + 1, f'{round(value, 2)}%', ha='center')\n",
    "# add cover type code and description to the x-axis labels\n",
    "xticks_labels = [f\"{code}\\n{desc}\" for code, desc in zip(train['Cover_Type_code'].unique(), train['cover type description'].unique())]\n",
    "plt.xticks(range(len(xticks_labels)), xticks_labels)\n",
    "\n",
    "plt.show()"
   ]
  },
  {
   "attachments": {},
   "cell_type": "markdown",
   "id": "27e2837a",
   "metadata": {},
   "source": [
    " the class distribution in the 'cover type description' column is actually somewhat imbalanced. The two most common classes, Lodgepole Pine and Spruce/Fir, make up approximately 85% of the dataset, while the other five classes each represent less than 7% of the dataset."
   ]
  },
  {
   "attachments": {},
   "cell_type": "markdown",
   "id": "e30d6732",
   "metadata": {},
   "source": [
    "# Features"
   ]
  },
  {
   "attachments": {},
   "cell_type": "markdown",
   "id": "d9fe004d",
   "metadata": {},
   "source": [
    "#### wilderness area"
   ]
  },
  {
   "cell_type": "code",
   "execution_count": 24,
   "id": "4dab9107",
   "metadata": {},
   "outputs": [
    {
     "data": {
      "image/png": "[encoded data removed]",
      "text/plain": [
       "<Figure size 720x576 with 1 Axes>"
      ]
     },
     "metadata": {
      "needs_background": "light"
     },
     "output_type": "display_data"
    }
   ],
   "source": [
    "# plot a histogram of the distribution of the 'wilderness type description' column\n",
    "plt.figure(figsize=(10, 8))\n",
    "percentage = train['Wilderness area description'].value_counts(normalize=True) * 100\n",
    "# create a bar plot of the percentages of each unique value in the 'Wilderness area description' column\n",
    "percentage.plot(kind='bar')\n",
    "# display the plot\n",
    "plt.xlabel('Wilderness area')\n",
    "plt.ylabel('percentage')\n",
    "\n",
    "# add percentage labels to the bars\n",
    "for index, value in enumerate(percentage):\n",
    "    plt.text(index, value + 1, str(round(value, 2)) + '%', ha='center')\n",
    "plt.show()"
   ]
  },
  {
   "attachments": {},
   "cell_type": "markdown",
   "id": "8f6c549a",
   "metadata": {},
   "source": [
    "This plot indicates the distribution of the 'Wilderness_Area' values in the training dataset. In this case, the two most common wilderness areas, Rawah Wilderness Area and Comanche Peak Wilderness Area, make up almost 90% of the dataset. The other two wilderness areas, Cache la Poudre Wilderness Area and Neota Wilderness Area, each represent less than 6.5% of the dataset."
   ]
  },
  {
   "attachments": {},
   "cell_type": "markdown",
   "id": "8c3b0c43",
   "metadata": {},
   "source": [
    "#### Slope"
   ]
  },
  {
   "cell_type": "code",
   "execution_count": 11,
   "id": "4cdb9f3e",
   "metadata": {},
   "outputs": [
    {
     "data": {
      "image/png": "[encoded data removed]",
      "text/plain": [
       "<Figure size 432x288 with 1 Axes>"
      ]
     },
     "metadata": {
      "needs_background": "light"
     },
     "output_type": "display_data"
    }
   ],
   "source": [
    "# Create a density plot of the 'Slope' column\n",
    "sns.kdeplot(train['Slope'], shade=True)\n",
    "plt.xlabel('Slope')\n",
    "plt.ylabel('Density')\n",
    "plt.title('Density of Slope')\n",
    "plt.show()"
   ]
  },
  {
   "attachments": {},
   "cell_type": "markdown",
   "id": "58d16545",
   "metadata": {},
   "source": [
    "#### Vertical_Distance_To_Hydrology "
   ]
  },
  {
   "cell_type": "code",
   "execution_count": 12,
   "id": "1a7dbf78",
   "metadata": {},
   "outputs": [
    {
     "data": {
      "image/png": "[encoded data removed]",
      "text/plain": [
       "<Figure size 432x288 with 1 Axes>"
      ]
     },
     "metadata": {
      "needs_background": "light"
     },
     "output_type": "display_data"
    }
   ],
   "source": [
    "# Create a density plot of the 'Vertical_Distance_To_Hydrology ' column\n",
    "sns.kdeplot(train['Vertical_Distance_To_Hydrology '], shade=True)\n",
    "plt.xlabel('Vertical_Distance_To_Hydrology ')\n",
    "plt.ylabel('Density')\n",
    "plt.title('Density of Vertical_Distance_To_Hydrology ')\n",
    "plt.show()\n"
   ]
  },
  {
   "attachments": {},
   "cell_type": "markdown",
   "id": "b2a090d1",
   "metadata": {},
   "source": [
    "#### Distribution of soil type"
   ]
  },
  {
   "cell_type": "code",
   "execution_count": 29,
   "id": "64c65d35",
   "metadata": {},
   "outputs": [
    {
     "data": {
      "image/png": "[encoded data removed]",
      "text/plain": [
       "<Figure size 720x576 with 1 Axes>"
      ]
     },
     "metadata": {
      "needs_background": "light"
     },
     "output_type": "display_data"
    }
   ],
   "source": [
    "# plot a histogram of the distribution'cover type description' column\n",
    "plt.figure(figsize=(10, 8))\n",
    "percentage = train['Soil type code'].value_counts(normalize=True) * 100\n",
    "# create a bar plot of the percentages of each unique value in the 'Wilderness area description' column\n",
    "percentage.plot(kind='bar')\n",
    "# display the plot\n",
    "plt.xlabel('soil type')\n",
    "plt.ylabel('percentage')\n",
    "\n",
    "plt.show()"
   ]
  },
  {
   "attachments": {},
   "cell_type": "markdown",
   "id": "7821b92a",
   "metadata": {},
   "source": [
    "These percentages indicate the distribution of the 'Soil type code' values in the training dataset. Soil type code 29 is the most common soil type, making up nearly 20% of the dataset. The next most common soil types are 23 and 32, each representing close to 10% of the dataset. The remaining soil types each represent less than 8% of the dataset, with soil type 15 being the least represented at only 0.0006%."
   ]
  },
  {
   "attachments": {},
   "cell_type": "markdown",
   "id": "b8ff05a0",
   "metadata": {},
   "source": [
    "#### Density of elevation"
   ]
  },
  {
   "cell_type": "code",
   "execution_count": 14,
   "id": "beb484bf",
   "metadata": {},
   "outputs": [
    {
     "data": {
      "image/png": "[encoded data removed]",
      "text/plain": [
       "<Figure size 432x288 with 1 Axes>"
      ]
     },
     "metadata": {
      "needs_background": "light"
     },
     "output_type": "display_data"
    }
   ],
   "source": [
    "# Create a density plot of the 'elevation' column\n",
    "sns.kdeplot(train['Elevation'], shade=True)\n",
    "plt.xlabel('Elevation')\n",
    "plt.ylabel('Density')\n",
    "plt.title('Density of Elevation')\n",
    "plt.show()"
   ]
  },
  {
   "cell_type": "code",
   "execution_count": 15,
   "id": "79cdc2da",
   "metadata": {},
   "outputs": [
    {
     "data": {
      "text/plain": [
       "<AxesSubplot:xlabel='Cover_Type_code', ylabel='Elevation'>"
      ]
     },
     "execution_count": 15,
     "metadata": {},
     "output_type": "execute_result"
    },
    {
     "data": {
      "image/png": "[encoded data removed]",
      "text/plain": [
       "<Figure size 432x288 with 1 Axes>"
      ]
     },
     "metadata": {
      "needs_background": "light"
     },
     "output_type": "display_data"
    }
   ],
   "source": [
    "sns.boxplot(x='Cover_Type_code', y='Elevation', data=train)"
   ]
  },
  {
   "attachments": {},
   "cell_type": "markdown",
   "id": "a90fbcfc",
   "metadata": {},
   "source": [
    "From the plot, we can see that Cover_Type_code 1, 2, and 7 have relatively higher median elevations than the other categories. In contrast, Cover_Type_code 3 and 4 have lower median elevations."
   ]
  },
  {
   "attachments": {},
   "cell_type": "markdown",
   "id": "37e9727a",
   "metadata": {},
   "source": [
    "#### Horizontal Distance To Roadways "
   ]
  },
  {
   "cell_type": "code",
   "execution_count": 17,
   "id": "0d799ccb",
   "metadata": {},
   "outputs": [
    {
     "data": {
      "image/png": "[encoded data removed]",
      "text/plain": [
       "<Figure size 432x288 with 1 Axes>"
      ]
     },
     "metadata": {
      "needs_background": "light"
     },
     "output_type": "display_data"
    }
   ],
   "source": [
    "# Create a density plot of the 'Horizontal_Distance_To_Roadways ' column\n",
    "sns.kdeplot(train['Horizontal_Distance_To_Roadways'], shade=True)\n",
    "plt.xlabel('Horizontal_Distance_To_Roadways ')\n",
    "plt.ylabel('Density')\n",
    "plt.title('Density of Horizontal_Distance_To_Roadways ')\n",
    "plt.show()"
   ]
  },
  {
   "attachments": {},
   "cell_type": "markdown",
   "id": "2876ab71",
   "metadata": {},
   "source": [
    "#### Density of Horizontal Distance To Fire Points"
   ]
  },
  {
   "cell_type": "code",
   "execution_count": 18,
   "id": "9b3d6e9d",
   "metadata": {},
   "outputs": [
    {
     "data": {
      "image/png": "[encoded data removed]",
      "text/plain": [
       "<Figure size 432x288 with 1 Axes>"
      ]
     },
     "metadata": {
      "needs_background": "light"
     },
     "output_type": "display_data"
    }
   ],
   "source": [
    "# Create a density plot of the 'Horizontal_Distance_To_Fire_Points' column\n",
    "sns.kdeplot(train['Horizontal_Distance_To_Fire_Points'], shade=True)\n",
    "plt.xlabel('Horizontal Distance To Fire Points')\n",
    "plt.ylabel('Density')\n",
    "plt.title('Density of Horizontal Distance To Fire Points ')\n",
    "plt.show()"
   ]
  },
  {
   "attachments": {},
   "cell_type": "markdown",
   "id": "6738ae4d",
   "metadata": {},
   "source": [
    "#### Hillshade_Noon"
   ]
  },
  {
   "cell_type": "code",
   "execution_count": 19,
   "id": "82d8aa1d",
   "metadata": {},
   "outputs": [
    {
     "data": {
      "image/png": "[encoded data removed]",
      "text/plain": [
       "<Figure size 432x288 with 1 Axes>"
      ]
     },
     "metadata": {
      "needs_background": "light"
     },
     "output_type": "display_data"
    }
   ],
   "source": [
    "# Create a density plot of the 'Hillshade_Noon' column\n",
    "sns.kdeplot(train['Hillshade_Noon'], shade=True)\n",
    "plt.xlabel('Hillshade Noon')\n",
    "plt.ylabel('Density')\n",
    "plt.title('Density of Hillshade Noon')\n",
    "plt.show()"
   ]
  },
  {
   "attachments": {},
   "cell_type": "markdown",
   "id": "0178f57d",
   "metadata": {},
   "source": [
    "# Models:\n",
    "\n",
    "In order to predict forest cover types based on cartographic variables, our team has selected three machine learning models, which are well-suited to this dataset: classification, decision tree, and clustering.\n",
    "\n",
    "Decision Tree: Decision trees are an ideal choice for our dataset because they can handle both numerical and categorical features, like the binary columns for wilderness areas and soil types. These models are easily interpretable and can capture non-linear relationships between features and the target variable. Moreover, they are capable of selecting the most relevant features for prediction, which can help improve overall model performance.\n",
    "\n",
    "Clustering: Although clustering models are typically used for unsupervised learning, they can be adapted to predict forest cover types by applying a semi-supervised approach. This involves using clustering algorithms, such as k-means or hierarchical clustering, to group similar data points in the feature space. Once clusters are formed, we can assign the majority class of each cluster as its representative forest cover type. This method can be particularly useful when the dataset exhibits clear patterns or groups that correspond to different cover types.\n",
    "\n",
    "Classification: We chose a classification model because our problem is a multiclass classification task, where the goal is to predict one of several possible forest cover types. Classification models, such as logistic regression, support vector machines (SVM), and k-nearest neighbors (KNN), can effectively predict categorical outcomes by learning patterns in the dataset and drawing decision boundaries between different classes.\n",
    "\n",
    "By employing these three machine learning models, we aim to harness their unique strengths and capabilities in order to accurately predict forest cover types for our dataset. Through rigorous model evaluation and comparison, we will select the best-performing model that achieves the highest prediction accuracy and generalization performance.\n",
    "\n",
    "* Decision Tree\n",
    "* Logistic Regression\n",
    "* Neural Network\n",
    "* GBoosting\n",
    "* Random Forests"
   ]
  },
  {
   "attachments": {},
   "cell_type": "markdown",
   "id": "67560610",
   "metadata": {},
   "source": [
    "### Definining Features and Target Variables for our models"
   ]
  },
  {
   "attachments": {},
   "cell_type": "markdown",
   "id": "d0bdff45",
   "metadata": {},
   "source": [
    "In ML, having a large amount of data is crucial for training models that can accurately make predictions. However, processing large datasets can be computationally expensive and time-consuming, especially when running multiple models. Therefore, using a smaller subset of the data can help to reduce the time and computational resources required for training and testing models.\n",
    "\n",
    "In this case, using a subset of 100,000 instances allows us to build and test multiple models quickly without sacrificing too much data. By randomly selecting a subset, we can ensure that the sample is representative of the larger dataset while reducing the overall size of the data. This approach can be particularly useful when dealing with big data, where even a small subset can be sufficiently representative of the entire dataset.\n",
    "\n",
    "Moreover, using a smaller subset can also help to avoid overfitting, which occurs when a model is trained too closely on the training data and fails to generalize to new data. By using a smaller subset, we can limit the complexity of the models we build, making them less likely to overfit."
   ]
  },
  {
   "cell_type": "code",
   "execution_count": 40,
   "id": "ff39d841",
   "metadata": {},
   "outputs": [],
   "source": [
    "# Choose a random subset of the data (because the dataset is too large)\n",
    "subset_size = 100000 # Change this value to the desired subset size\n",
    "random_indices = np.random.choice(df.index, subset_size, replace=False)\n",
    "df_subset = df.loc[random_indices]"
   ]
  },
  {
   "attachments": {},
   "cell_type": "markdown",
   "id": "022dfce5",
   "metadata": {},
   "source": [
    "ADD EXPLANATION THAT DISTRIBUTION HAS NOT BEEN AFFECTED"
   ]
  },
  {
   "cell_type": "code",
   "execution_count": 39,
   "id": "34591632",
   "metadata": {},
   "outputs": [
    {
     "data": {
      "image/png": "[encoded data removed]",
      "text/plain": [
       "<Figure size 720x576 with 1 Axes>"
      ]
     },
     "metadata": {
      "needs_background": "light"
     },
     "output_type": "display_data"
    }
   ],
   "source": [
    "# plot a histogram of the distribution'cover type description' column\n",
    "plt.figure(figsize=(10, 8))\n",
    "percentage = df1['Cover_Type_code'].value_counts(normalize=True) * 100\n",
    "# create a bar plot of the percentages of each unique value in the 'cover type description' column\n",
    "percentage.plot(kind='bar')\n",
    "# display the plot\n",
    "plt.xlabel('Cover Type')\n",
    "plt.ylabel('Percentage')\n",
    "\n",
    "# add percentage labels to the bars\n",
    "for index, value in enumerate(percentage):\n",
    "    code = percentage.index[index]\n",
    "    desc = df1[df1['Cover_Type_code'] == code]['cover type description'].unique()[0]\n",
    "    plt.text(index, value + 1, f'{code} - {desc}\\n{round(value, 2)}%', ha='center')\n",
    "\n",
    "plt.show()"
   ]
  },
  {
   "cell_type": "code",
   "execution_count": 42,
   "id": "7209370c",
   "metadata": {},
   "outputs": [
    {
     "data": {
      "image/png": "[encoded data removed]",
      "text/plain": [
       "<Figure size 720x576 with 1 Axes>"
      ]
     },
     "metadata": {
      "needs_background": "light"
     },
     "output_type": "display_data"
    }
   ],
   "source": [
    "# plot a histogram of the distribution'cover type description' column\n",
    "plt.figure(figsize=(10, 8))\n",
    "percentage = df_subset['Cover_Type_code'].value_counts(normalize=True) * 100\n",
    "# create a bar plot of the percentages of each unique value in the 'cover type description' column\n",
    "percentage.plot(kind='bar')\n",
    "# display the plot\n",
    "plt.xlabel('Cover Type')\n",
    "plt.ylabel('Percentage')\n",
    "\n",
    "# add percentage labels to the bars\n",
    "for index, value in enumerate(percentage):\n",
    "    code = percentage.index[index]\n",
    "    #desc = df_subset[df_subset['Cover_Type_code'] == code]['cover type description'].unique()[0]\n",
    "    plt.text(index, value + 1, f'{code} - {desc}\\n{round(value, 2)}%', ha='center')\n",
    "\n",
    "plt.show()"
   ]
  },
  {
   "attachments": {},
   "cell_type": "markdown",
   "id": "c49422dd",
   "metadata": {},
   "source": [
    "The input data consists of five features: \"Wilderness area code\", \"Elevation\", \"Horizontal_Distance_To_Roadways\", \"Horizontal_Distance_To_Fire_Points\", and \"Soil type code\". These features are used to predict the cover type, which is a categorical variable represented by the \"Cover_Type_code\" column.\n",
    "\n",
    "**EXPLAIN WHY WE CHOSE THOSE FEATURES**"
   ]
  },
  {
   "cell_type": "code",
   "execution_count": 35,
   "id": "e5557bfe",
   "metadata": {},
   "outputs": [],
   "source": [
    "# Separate features and target variable\n",
    "\n",
    "#X = df_subset.drop(\"Cover_Type_code\", axis=1)\n",
    "X = df_subset[[\"Wilderness area code\", \"Elevation\", \"Soil type code\", 'Horizontal_Distance_To_Roadways', 'Horizontal_Distance_To_Fire_Points', 'Slope',\"Hillshade_Noon\",\"Hillshade_3pm\"]]\n",
    "y = df_subset[\"Cover_Type_code\"]\n",
    "#X = df[[\"Wilderness area code\", \"Elevation\", 'Horizontal_Distance_To_Roadways', 'Horizontal_Distance_To_Fire_Points', 'Soil type code']]\n",
    "#y = df[\"Cover_Type_code\"]"
   ]
  },
  {
   "attachments": {},
   "cell_type": "markdown",
   "id": "05c90404",
   "metadata": {},
   "source": [
    "### Splitting the dataset into training and testing"
   ]
  },
  {
   "attachments": {},
   "cell_type": "markdown",
   "id": "7b5669a7",
   "metadata": {},
   "source": [
    "Dividing the dataset into training and testing sets is an essential step in machine learning to evaluate the performance of the model. In this case, the dataset is split into 80% training data and 20% testing data.\n",
    "\n",
    "The reason for using an 80/20 split is that it strikes a balance between having enough data to train the model while still having a sufficient amount of data to evaluate the model's performance. The training data is used to fit the model parameters, while the testing data is used to evaluate how well the model generalizes to new, unseen data.\n",
    "\n",
    "If we use too little data for training, the model may not learn the underlying patterns in the data correctly, resulting in poor performance. Conversely, if we use too much data for training, the model may overfit, which means it will perform well on the training data but poorly on the testing data.\n",
    "\n",
    "The 80/20 split is a common default choice for many machine learning applications, but it can be adjusted based on the size and complexity of the dataset and the problem being solved. For example, if the dataset is small, we may need to use a higher percentage of the data for training, such as a 70/30 split. In contrast, if the dataset is large, we may use a smaller percentage for training, such as a 90/10 split."
   ]
  },
  {
   "cell_type": "code",
   "execution_count": 36,
   "id": "42cef542",
   "metadata": {},
   "outputs": [],
   "source": [
    "# Split the dfset into training and testing subsets\n",
    "X_train, X_test, y_train, y_test = train_test_split(X, y, test_size=0.2, random_state=42)"
   ]
  },
  {
   "attachments": {},
   "cell_type": "markdown",
   "id": "1f33f9df",
   "metadata": {},
   "source": [
    "### Why Accuracy Evaluation ?"
   ]
  },
  {
   "attachments": {},
   "cell_type": "markdown",
   "id": "658c4b87",
   "metadata": {},
   "source": [
    "Accuracy is a commonly used evaluation metric in classification problems because it is easy to understand and interpret. It measures the proportion of correctly classified instances out of the total instances in the dataset. In your project, accuracy was used to evaluate the performance of the machine learning models for classifying forest cover types.\n",
    "\n",
    "However, accuracy might not always be the best evaluation metric, especially when dealing with imbalanced datasets, where some classes have a significantly higher number of instances compared to others. In such cases, a high accuracy could be misleading, as the model might simply be good at classifying the majority class while performing poorly on minority classes.\n",
    "\n",
    "There are other evaluation metrics that can provide a more comprehensive view of the model's performance, such as:\n",
    "\n",
    "- Precision: The proportion of true positive instances out of the instances predicted as positive. It measures the model's ability to correctly identify positive instances.\n",
    "- Recall: The proportion of true positive instances out of the actual positive instances. It measures the model's ability to identify all the positive instances.\n",
    "- F1 Score: The harmonic mean of precision and recall. It provides a balanced measure between precision and recall, and is especially useful when dealing with imbalanced datasets.\n",
    "- Confusion Matrix: A table that shows the true positive, false positive, true negative, and false negative predictions of a classifier. It helps to identify the types of errors the model is making.\n",
    "- Area Under the Receiver Operating Characteristic (ROC) Curve (AUC-ROC): A plot that illustrates the true positive rate (sensitivity) against the false positive rate (1-specificity) for different threshold values. AUC-ROC is a measure of how well the model can distinguish between classes.\n"
   ]
  },
  {
   "attachments": {},
   "cell_type": "markdown",
   "id": "bc56c3cd",
   "metadata": {},
   "source": [
    "<a name=\"model1\"></a>\n",
    "\n",
    "## 1. Decision Tree"
   ]
  },
  {
   "cell_type": "code",
   "execution_count": 45,
   "id": "9c25117c",
   "metadata": {},
   "outputs": [
    {
     "name": "stdout",
     "output_type": "stream",
     "text": [
      "Accuracy: 0.7797394773036851\n",
      "Recall: 0.7797394773036851\n"
     ]
    },
    {
     "ename": "KeyboardInterrupt",
     "evalue": "",
     "output_type": "error",
     "traceback": [
      "\u001b[0;31m---------------------------------------------------------------------------\u001b[0m",
      "\u001b[0;31mKeyboardInterrupt\u001b[0m                         Traceback (most recent call last)",
      "Input \u001b[0;32mIn [45]\u001b[0m, in \u001b[0;36m<cell line: 52>\u001b[0;34m()\u001b[0m\n\u001b[1;32m     50\u001b[0m \u001b[38;5;66;03m# Visualize the decision tree\u001b[39;00m\n\u001b[1;32m     51\u001b[0m plt\u001b[38;5;241m.\u001b[39mfigure(figsize\u001b[38;5;241m=\u001b[39m(\u001b[38;5;241m30\u001b[39m, \u001b[38;5;241m20\u001b[39m))\n\u001b[0;32m---> 52\u001b[0m \u001b[43mplot_tree\u001b[49m\u001b[43m(\u001b[49m\u001b[43mclf\u001b[49m\u001b[43m,\u001b[49m\u001b[43m \u001b[49m\u001b[43mfeature_names\u001b[49m\u001b[38;5;241;43m=\u001b[39;49m\u001b[43mfeatures\u001b[49m\u001b[43m,\u001b[49m\u001b[43m \u001b[49m\u001b[43mclass_names\u001b[49m\u001b[38;5;241;43m=\u001b[39;49m\u001b[43m[\u001b[49m\u001b[38;5;124;43m'\u001b[39;49m\u001b[38;5;124;43m0\u001b[39;49m\u001b[38;5;124;43m'\u001b[39;49m\u001b[43m,\u001b[49m\u001b[43m \u001b[49m\u001b[38;5;124;43m'\u001b[39;49m\u001b[38;5;124;43m1\u001b[39;49m\u001b[38;5;124;43m'\u001b[39;49m\u001b[43m,\u001b[49m\u001b[43m \u001b[49m\u001b[38;5;124;43m'\u001b[39;49m\u001b[38;5;124;43m2\u001b[39;49m\u001b[38;5;124;43m'\u001b[39;49m\u001b[43m,\u001b[49m\u001b[43m \u001b[49m\u001b[38;5;124;43m'\u001b[39;49m\u001b[38;5;124;43m3\u001b[39;49m\u001b[38;5;124;43m'\u001b[39;49m\u001b[43m,\u001b[49m\u001b[43m \u001b[49m\u001b[38;5;124;43m'\u001b[39;49m\u001b[38;5;124;43m4\u001b[39;49m\u001b[38;5;124;43m'\u001b[39;49m\u001b[43m,\u001b[49m\u001b[43m \u001b[49m\u001b[38;5;124;43m'\u001b[39;49m\u001b[38;5;124;43m5\u001b[39;49m\u001b[38;5;124;43m'\u001b[39;49m\u001b[43m,\u001b[49m\u001b[43m \u001b[49m\u001b[38;5;124;43m'\u001b[39;49m\u001b[38;5;124;43m6\u001b[39;49m\u001b[38;5;124;43m'\u001b[39;49m\u001b[43m]\u001b[49m\u001b[43m,\u001b[49m\u001b[43m \u001b[49m\u001b[43mfilled\u001b[49m\u001b[38;5;241;43m=\u001b[39;49m\u001b[38;5;28;43;01mTrue\u001b[39;49;00m\u001b[43m)\u001b[49m\n\u001b[1;32m     53\u001b[0m plt\u001b[38;5;241m.\u001b[39mshow()\n\u001b[1;32m     55\u001b[0m \u001b[38;5;66;03m# Print the evaluation matrix\u001b[39;00m\n",
      "File \u001b[0;32m~/opt/anaconda3/lib/python3.9/site-packages/sklearn/tree/_export.py:195\u001b[0m, in \u001b[0;36mplot_tree\u001b[0;34m(decision_tree, max_depth, feature_names, class_names, label, filled, impurity, node_ids, proportion, rounded, precision, ax, fontsize)\u001b[0m\n\u001b[1;32m    180\u001b[0m check_is_fitted(decision_tree)\n\u001b[1;32m    182\u001b[0m exporter \u001b[38;5;241m=\u001b[39m _MPLTreeExporter(\n\u001b[1;32m    183\u001b[0m     max_depth\u001b[38;5;241m=\u001b[39mmax_depth,\n\u001b[1;32m    184\u001b[0m     feature_names\u001b[38;5;241m=\u001b[39mfeature_names,\n\u001b[0;32m   (...)\u001b[0m\n\u001b[1;32m    193\u001b[0m     fontsize\u001b[38;5;241m=\u001b[39mfontsize,\n\u001b[1;32m    194\u001b[0m )\n\u001b[0;32m--> 195\u001b[0m \u001b[38;5;28;01mreturn\u001b[39;00m \u001b[43mexporter\u001b[49m\u001b[38;5;241;43m.\u001b[39;49m\u001b[43mexport\u001b[49m\u001b[43m(\u001b[49m\u001b[43mdecision_tree\u001b[49m\u001b[43m,\u001b[49m\u001b[43m \u001b[49m\u001b[43max\u001b[49m\u001b[38;5;241;43m=\u001b[39;49m\u001b[43max\u001b[49m\u001b[43m)\u001b[49m\n",
      "File \u001b[0;32m~/opt/anaconda3/lib/python3.9/site-packages/sklearn/tree/_export.py:677\u001b[0m, in \u001b[0;36m_MPLTreeExporter.export\u001b[0;34m(self, decision_tree, ax)\u001b[0m\n\u001b[1;32m    674\u001b[0m renderer \u001b[38;5;241m=\u001b[39m ax\u001b[38;5;241m.\u001b[39mfigure\u001b[38;5;241m.\u001b[39mcanvas\u001b[38;5;241m.\u001b[39mget_renderer()\n\u001b[1;32m    676\u001b[0m \u001b[38;5;28;01mfor\u001b[39;00m ann \u001b[38;5;129;01min\u001b[39;00m anns:\n\u001b[0;32m--> 677\u001b[0m     \u001b[43mann\u001b[49m\u001b[38;5;241;43m.\u001b[39;49m\u001b[43mupdate_bbox_position_size\u001b[49m\u001b[43m(\u001b[49m\u001b[43mrenderer\u001b[49m\u001b[43m)\u001b[49m\n\u001b[1;32m    679\u001b[0m \u001b[38;5;28;01mif\u001b[39;00m \u001b[38;5;28mself\u001b[39m\u001b[38;5;241m.\u001b[39mfontsize \u001b[38;5;129;01mis\u001b[39;00m \u001b[38;5;28;01mNone\u001b[39;00m:\n\u001b[1;32m    680\u001b[0m     \u001b[38;5;66;03m# get figure to data transform\u001b[39;00m\n\u001b[1;32m    681\u001b[0m     \u001b[38;5;66;03m# adjust fontsize to avoid overlap\u001b[39;00m\n\u001b[1;32m    682\u001b[0m     \u001b[38;5;66;03m# get max box width and height\u001b[39;00m\n\u001b[1;32m    683\u001b[0m     extents \u001b[38;5;241m=\u001b[39m [ann\u001b[38;5;241m.\u001b[39mget_bbox_patch()\u001b[38;5;241m.\u001b[39mget_window_extent() \u001b[38;5;28;01mfor\u001b[39;00m ann \u001b[38;5;129;01min\u001b[39;00m anns]\n",
      "File \u001b[0;32m~/opt/anaconda3/lib/python3.9/site-packages/matplotlib/text.py:508\u001b[0m, in \u001b[0;36mText.update_bbox_position_size\u001b[0;34m(self, renderer)\u001b[0m\n\u001b[1;32m    505\u001b[0m posy \u001b[38;5;241m=\u001b[39m \u001b[38;5;28mfloat\u001b[39m(\u001b[38;5;28mself\u001b[39m\u001b[38;5;241m.\u001b[39mconvert_yunits(\u001b[38;5;28mself\u001b[39m\u001b[38;5;241m.\u001b[39m_y))\n\u001b[1;32m    506\u001b[0m posx, posy \u001b[38;5;241m=\u001b[39m \u001b[38;5;28mself\u001b[39m\u001b[38;5;241m.\u001b[39mget_transform()\u001b[38;5;241m.\u001b[39mtransform((posx, posy))\n\u001b[0;32m--> 508\u001b[0m x_box, y_box, w_box, h_box \u001b[38;5;241m=\u001b[39m \u001b[43m_get_textbox\u001b[49m\u001b[43m(\u001b[49m\u001b[38;5;28;43mself\u001b[39;49m\u001b[43m,\u001b[49m\u001b[43m \u001b[49m\u001b[43mrenderer\u001b[49m\u001b[43m)\u001b[49m\n\u001b[1;32m    509\u001b[0m \u001b[38;5;28mself\u001b[39m\u001b[38;5;241m.\u001b[39m_bbox_patch\u001b[38;5;241m.\u001b[39mset_bounds(\u001b[38;5;241m0.\u001b[39m, \u001b[38;5;241m0.\u001b[39m, w_box, h_box)\n\u001b[1;32m    510\u001b[0m \u001b[38;5;28mself\u001b[39m\u001b[38;5;241m.\u001b[39m_bbox_patch\u001b[38;5;241m.\u001b[39mset_transform(\n\u001b[1;32m    511\u001b[0m     Affine2D()\n\u001b[1;32m    512\u001b[0m     \u001b[38;5;241m.\u001b[39mrotate_deg(\u001b[38;5;28mself\u001b[39m\u001b[38;5;241m.\u001b[39mget_rotation())\n\u001b[1;32m    513\u001b[0m     \u001b[38;5;241m.\u001b[39mtranslate(posx \u001b[38;5;241m+\u001b[39m x_box, posy \u001b[38;5;241m+\u001b[39m y_box))\n",
      "File \u001b[0;32m~/opt/anaconda3/lib/python3.9/site-packages/matplotlib/text.py:71\u001b[0m, in \u001b[0;36m_get_textbox\u001b[0;34m(text, renderer)\u001b[0m\n\u001b[1;32m     68\u001b[0m theta \u001b[38;5;241m=\u001b[39m np\u001b[38;5;241m.\u001b[39mdeg2rad(text\u001b[38;5;241m.\u001b[39mget_rotation())\n\u001b[1;32m     69\u001b[0m tr \u001b[38;5;241m=\u001b[39m Affine2D()\u001b[38;5;241m.\u001b[39mrotate(\u001b[38;5;241m-\u001b[39mtheta)\n\u001b[0;32m---> 71\u001b[0m _, parts, d \u001b[38;5;241m=\u001b[39m \u001b[43mtext\u001b[49m\u001b[38;5;241;43m.\u001b[39;49m\u001b[43m_get_layout\u001b[49m\u001b[43m(\u001b[49m\u001b[43mrenderer\u001b[49m\u001b[43m)\u001b[49m\n\u001b[1;32m     73\u001b[0m \u001b[38;5;28;01mfor\u001b[39;00m t, wh, x, y \u001b[38;5;129;01min\u001b[39;00m parts:\n\u001b[1;32m     74\u001b[0m     w, h \u001b[38;5;241m=\u001b[39m wh\n",
      "File \u001b[0;32m~/opt/anaconda3/lib/python3.9/site-packages/matplotlib/text.py:317\u001b[0m, in \u001b[0;36mText._get_layout\u001b[0;34m(self, renderer)\u001b[0m\n\u001b[1;32m    315\u001b[0m clean_line, ismath \u001b[38;5;241m=\u001b[39m \u001b[38;5;28mself\u001b[39m\u001b[38;5;241m.\u001b[39m_preprocess_math(line)\n\u001b[1;32m    316\u001b[0m \u001b[38;5;28;01mif\u001b[39;00m clean_line:\n\u001b[0;32m--> 317\u001b[0m     w, h, d \u001b[38;5;241m=\u001b[39m \u001b[43mrenderer\u001b[49m\u001b[38;5;241;43m.\u001b[39;49m\u001b[43mget_text_width_height_descent\u001b[49m\u001b[43m(\u001b[49m\n\u001b[1;32m    318\u001b[0m \u001b[43m        \u001b[49m\u001b[43mclean_line\u001b[49m\u001b[43m,\u001b[49m\u001b[43m \u001b[49m\u001b[38;5;28;43mself\u001b[39;49m\u001b[38;5;241;43m.\u001b[39;49m\u001b[43m_fontproperties\u001b[49m\u001b[43m,\u001b[49m\u001b[43m \u001b[49m\u001b[43mismath\u001b[49m\u001b[38;5;241;43m=\u001b[39;49m\u001b[43mismath\u001b[49m\u001b[43m)\u001b[49m\n\u001b[1;32m    319\u001b[0m \u001b[38;5;28;01melse\u001b[39;00m:\n\u001b[1;32m    320\u001b[0m     w \u001b[38;5;241m=\u001b[39m h \u001b[38;5;241m=\u001b[39m d \u001b[38;5;241m=\u001b[39m \u001b[38;5;241m0\u001b[39m\n",
      "File \u001b[0;32m~/opt/anaconda3/lib/python3.9/site-packages/matplotlib/backends/backend_agg.py:270\u001b[0m, in \u001b[0;36mRendererAgg.get_text_width_height_descent\u001b[0;34m(self, s, prop, ismath)\u001b[0m\n\u001b[1;32m    268\u001b[0m flags \u001b[38;5;241m=\u001b[39m get_hinting_flag()\n\u001b[1;32m    269\u001b[0m font \u001b[38;5;241m=\u001b[39m \u001b[38;5;28mself\u001b[39m\u001b[38;5;241m.\u001b[39m_get_agg_font(prop)\n\u001b[0;32m--> 270\u001b[0m \u001b[43mfont\u001b[49m\u001b[38;5;241;43m.\u001b[39;49m\u001b[43mset_text\u001b[49m\u001b[43m(\u001b[49m\u001b[43ms\u001b[49m\u001b[43m,\u001b[49m\u001b[43m \u001b[49m\u001b[38;5;241;43m0.0\u001b[39;49m\u001b[43m,\u001b[49m\u001b[43m \u001b[49m\u001b[43mflags\u001b[49m\u001b[38;5;241;43m=\u001b[39;49m\u001b[43mflags\u001b[49m\u001b[43m)\u001b[49m\n\u001b[1;32m    271\u001b[0m w, h \u001b[38;5;241m=\u001b[39m font\u001b[38;5;241m.\u001b[39mget_width_height()  \u001b[38;5;66;03m# width and height of unrotated string\u001b[39;00m\n\u001b[1;32m    272\u001b[0m d \u001b[38;5;241m=\u001b[39m font\u001b[38;5;241m.\u001b[39mget_descent()\n",
      "\u001b[0;31mKeyboardInterrupt\u001b[0m: "
     ]
    },
    {
     "data": {
      "image/png": "[encoded data removed]",
      "text/plain": [
       "<Figure size 432x288 with 2 Axes>"
      ]
     },
     "metadata": {
      "needs_background": "light"
     },
     "output_type": "display_data"
    },
    {
     "name": "stdout",
     "output_type": "stream",
     "text": [
      "Error in callback <function flush_figures at 0x7fac80072670> (for post_execute):\n"
     ]
    },
    {
     "ename": "KeyboardInterrupt",
     "evalue": "",
     "output_type": "error",
     "traceback": [
      "\u001b[0;31m---------------------------------------------------------------------------\u001b[0m",
      "\u001b[0;31mKeyboardInterrupt\u001b[0m                         Traceback (most recent call last)",
      "File \u001b[0;32m~/opt/anaconda3/lib/python3.9/site-packages/matplotlib_inline/backend_inline.py:121\u001b[0m, in \u001b[0;36mflush_figures\u001b[0;34m()\u001b[0m\n\u001b[1;32m    118\u001b[0m \u001b[38;5;28;01mif\u001b[39;00m InlineBackend\u001b[38;5;241m.\u001b[39minstance()\u001b[38;5;241m.\u001b[39mclose_figures:\n\u001b[1;32m    119\u001b[0m     \u001b[38;5;66;03m# ignore the tracking, just draw and close all figures\u001b[39;00m\n\u001b[1;32m    120\u001b[0m     \u001b[38;5;28;01mtry\u001b[39;00m:\n\u001b[0;32m--> 121\u001b[0m         \u001b[38;5;28;01mreturn\u001b[39;00m \u001b[43mshow\u001b[49m\u001b[43m(\u001b[49m\u001b[38;5;28;43;01mTrue\u001b[39;49;00m\u001b[43m)\u001b[49m\n\u001b[1;32m    122\u001b[0m     \u001b[38;5;28;01mexcept\u001b[39;00m \u001b[38;5;167;01mException\u001b[39;00m \u001b[38;5;28;01mas\u001b[39;00m e:\n\u001b[1;32m    123\u001b[0m         \u001b[38;5;66;03m# safely show traceback if in IPython, else raise\u001b[39;00m\n\u001b[1;32m    124\u001b[0m         ip \u001b[38;5;241m=\u001b[39m get_ipython()\n",
      "File \u001b[0;32m~/opt/anaconda3/lib/python3.9/site-packages/matplotlib_inline/backend_inline.py:41\u001b[0m, in \u001b[0;36mshow\u001b[0;34m(close, block)\u001b[0m\n\u001b[1;32m     39\u001b[0m \u001b[38;5;28;01mtry\u001b[39;00m:\n\u001b[1;32m     40\u001b[0m     \u001b[38;5;28;01mfor\u001b[39;00m figure_manager \u001b[38;5;129;01min\u001b[39;00m Gcf\u001b[38;5;241m.\u001b[39mget_all_fig_managers():\n\u001b[0;32m---> 41\u001b[0m         \u001b[43mdisplay\u001b[49m\u001b[43m(\u001b[49m\n\u001b[1;32m     42\u001b[0m \u001b[43m            \u001b[49m\u001b[43mfigure_manager\u001b[49m\u001b[38;5;241;43m.\u001b[39;49m\u001b[43mcanvas\u001b[49m\u001b[38;5;241;43m.\u001b[39;49m\u001b[43mfigure\u001b[49m\u001b[43m,\u001b[49m\n\u001b[1;32m     43\u001b[0m \u001b[43m            \u001b[49m\u001b[43mmetadata\u001b[49m\u001b[38;5;241;43m=\u001b[39;49m\u001b[43m_fetch_figure_metadata\u001b[49m\u001b[43m(\u001b[49m\u001b[43mfigure_manager\u001b[49m\u001b[38;5;241;43m.\u001b[39;49m\u001b[43mcanvas\u001b[49m\u001b[38;5;241;43m.\u001b[39;49m\u001b[43mfigure\u001b[49m\u001b[43m)\u001b[49m\n\u001b[1;32m     44\u001b[0m \u001b[43m        \u001b[49m\u001b[43m)\u001b[49m\n\u001b[1;32m     45\u001b[0m \u001b[38;5;28;01mfinally\u001b[39;00m:\n\u001b[1;32m     46\u001b[0m     show\u001b[38;5;241m.\u001b[39m_to_draw \u001b[38;5;241m=\u001b[39m []\n",
      "File \u001b[0;32m~/opt/anaconda3/lib/python3.9/site-packages/IPython/core/display_functions.py:298\u001b[0m, in \u001b[0;36mdisplay\u001b[0;34m(include, exclude, metadata, transient, display_id, raw, clear, *objs, **kwargs)\u001b[0m\n\u001b[1;32m    296\u001b[0m     publish_display_data(data\u001b[38;5;241m=\u001b[39mobj, metadata\u001b[38;5;241m=\u001b[39mmetadata, \u001b[38;5;241m*\u001b[39m\u001b[38;5;241m*\u001b[39mkwargs)\n\u001b[1;32m    297\u001b[0m \u001b[38;5;28;01melse\u001b[39;00m:\n\u001b[0;32m--> 298\u001b[0m     format_dict, md_dict \u001b[38;5;241m=\u001b[39m \u001b[38;5;28;43mformat\u001b[39;49m\u001b[43m(\u001b[49m\u001b[43mobj\u001b[49m\u001b[43m,\u001b[49m\u001b[43m \u001b[49m\u001b[43minclude\u001b[49m\u001b[38;5;241;43m=\u001b[39;49m\u001b[43minclude\u001b[49m\u001b[43m,\u001b[49m\u001b[43m \u001b[49m\u001b[43mexclude\u001b[49m\u001b[38;5;241;43m=\u001b[39;49m\u001b[43mexclude\u001b[49m\u001b[43m)\u001b[49m\n\u001b[1;32m    299\u001b[0m     \u001b[38;5;28;01mif\u001b[39;00m \u001b[38;5;129;01mnot\u001b[39;00m format_dict:\n\u001b[1;32m    300\u001b[0m         \u001b[38;5;66;03m# nothing to display (e.g. _ipython_display_ took over)\u001b[39;00m\n\u001b[1;32m    301\u001b[0m         \u001b[38;5;28;01mcontinue\u001b[39;00m\n",
      "File \u001b[0;32m~/opt/anaconda3/lib/python3.9/site-packages/IPython/core/formatters.py:178\u001b[0m, in \u001b[0;36mDisplayFormatter.format\u001b[0;34m(self, obj, include, exclude)\u001b[0m\n\u001b[1;32m    176\u001b[0m md \u001b[38;5;241m=\u001b[39m \u001b[38;5;28;01mNone\u001b[39;00m\n\u001b[1;32m    177\u001b[0m \u001b[38;5;28;01mtry\u001b[39;00m:\n\u001b[0;32m--> 178\u001b[0m     data \u001b[38;5;241m=\u001b[39m \u001b[43mformatter\u001b[49m\u001b[43m(\u001b[49m\u001b[43mobj\u001b[49m\u001b[43m)\u001b[49m\n\u001b[1;32m    179\u001b[0m \u001b[38;5;28;01mexcept\u001b[39;00m:\n\u001b[1;32m    180\u001b[0m     \u001b[38;5;66;03m# FIXME: log the exception\u001b[39;00m\n\u001b[1;32m    181\u001b[0m     \u001b[38;5;28;01mraise\u001b[39;00m\n",
      "File \u001b[0;32m~/opt/anaconda3/lib/python3.9/site-packages/decorator.py:232\u001b[0m, in \u001b[0;36mdecorate.<locals>.fun\u001b[0;34m(*args, **kw)\u001b[0m\n\u001b[1;32m    230\u001b[0m \u001b[38;5;28;01mif\u001b[39;00m \u001b[38;5;129;01mnot\u001b[39;00m kwsyntax:\n\u001b[1;32m    231\u001b[0m     args, kw \u001b[38;5;241m=\u001b[39m fix(args, kw, sig)\n\u001b[0;32m--> 232\u001b[0m \u001b[38;5;28;01mreturn\u001b[39;00m \u001b[43mcaller\u001b[49m\u001b[43m(\u001b[49m\u001b[43mfunc\u001b[49m\u001b[43m,\u001b[49m\u001b[43m \u001b[49m\u001b[38;5;241;43m*\u001b[39;49m\u001b[43m(\u001b[49m\u001b[43mextras\u001b[49m\u001b[43m \u001b[49m\u001b[38;5;241;43m+\u001b[39;49m\u001b[43m \u001b[49m\u001b[43margs\u001b[49m\u001b[43m)\u001b[49m\u001b[43m,\u001b[49m\u001b[43m \u001b[49m\u001b[38;5;241;43m*\u001b[39;49m\u001b[38;5;241;43m*\u001b[39;49m\u001b[43mkw\u001b[49m\u001b[43m)\u001b[49m\n",
      "File \u001b[0;32m~/opt/anaconda3/lib/python3.9/site-packages/IPython/core/formatters.py:222\u001b[0m, in \u001b[0;36mcatch_format_error\u001b[0;34m(method, self, *args, **kwargs)\u001b[0m\n\u001b[1;32m    220\u001b[0m \u001b[38;5;124;03m\"\"\"show traceback on failed format call\"\"\"\u001b[39;00m\n\u001b[1;32m    221\u001b[0m \u001b[38;5;28;01mtry\u001b[39;00m:\n\u001b[0;32m--> 222\u001b[0m     r \u001b[38;5;241m=\u001b[39m \u001b[43mmethod\u001b[49m\u001b[43m(\u001b[49m\u001b[38;5;28;43mself\u001b[39;49m\u001b[43m,\u001b[49m\u001b[43m \u001b[49m\u001b[38;5;241;43m*\u001b[39;49m\u001b[43margs\u001b[49m\u001b[43m,\u001b[49m\u001b[43m \u001b[49m\u001b[38;5;241;43m*\u001b[39;49m\u001b[38;5;241;43m*\u001b[39;49m\u001b[43mkwargs\u001b[49m\u001b[43m)\u001b[49m\n\u001b[1;32m    223\u001b[0m \u001b[38;5;28;01mexcept\u001b[39;00m \u001b[38;5;167;01mNotImplementedError\u001b[39;00m:\n\u001b[1;32m    224\u001b[0m     \u001b[38;5;66;03m# don't warn on NotImplementedErrors\u001b[39;00m\n\u001b[1;32m    225\u001b[0m     \u001b[38;5;28;01mreturn\u001b[39;00m \u001b[38;5;28mself\u001b[39m\u001b[38;5;241m.\u001b[39m_check_return(\u001b[38;5;28;01mNone\u001b[39;00m, args[\u001b[38;5;241m0\u001b[39m])\n",
      "File \u001b[0;32m~/opt/anaconda3/lib/python3.9/site-packages/IPython/core/formatters.py:339\u001b[0m, in \u001b[0;36mBaseFormatter.__call__\u001b[0;34m(self, obj)\u001b[0m\n\u001b[1;32m    337\u001b[0m     \u001b[38;5;28;01mpass\u001b[39;00m\n\u001b[1;32m    338\u001b[0m \u001b[38;5;28;01melse\u001b[39;00m:\n\u001b[0;32m--> 339\u001b[0m     \u001b[38;5;28;01mreturn\u001b[39;00m \u001b[43mprinter\u001b[49m\u001b[43m(\u001b[49m\u001b[43mobj\u001b[49m\u001b[43m)\u001b[49m\n\u001b[1;32m    340\u001b[0m \u001b[38;5;66;03m# Finally look for special method names\u001b[39;00m\n\u001b[1;32m    341\u001b[0m method \u001b[38;5;241m=\u001b[39m get_real_method(obj, \u001b[38;5;28mself\u001b[39m\u001b[38;5;241m.\u001b[39mprint_method)\n",
      "File \u001b[0;32m~/opt/anaconda3/lib/python3.9/site-packages/IPython/core/pylabtools.py:151\u001b[0m, in \u001b[0;36mprint_figure\u001b[0;34m(fig, fmt, bbox_inches, base64, **kwargs)\u001b[0m\n\u001b[1;32m    148\u001b[0m     \u001b[38;5;28;01mfrom\u001b[39;00m \u001b[38;5;21;01mmatplotlib\u001b[39;00m\u001b[38;5;21;01m.\u001b[39;00m\u001b[38;5;21;01mbackend_bases\u001b[39;00m \u001b[38;5;28;01mimport\u001b[39;00m FigureCanvasBase\n\u001b[1;32m    149\u001b[0m     FigureCanvasBase(fig)\n\u001b[0;32m--> 151\u001b[0m \u001b[43mfig\u001b[49m\u001b[38;5;241;43m.\u001b[39;49m\u001b[43mcanvas\u001b[49m\u001b[38;5;241;43m.\u001b[39;49m\u001b[43mprint_figure\u001b[49m\u001b[43m(\u001b[49m\u001b[43mbytes_io\u001b[49m\u001b[43m,\u001b[49m\u001b[43m \u001b[49m\u001b[38;5;241;43m*\u001b[39;49m\u001b[38;5;241;43m*\u001b[39;49m\u001b[43mkw\u001b[49m\u001b[43m)\u001b[49m\n\u001b[1;32m    152\u001b[0m data \u001b[38;5;241m=\u001b[39m bytes_io\u001b[38;5;241m.\u001b[39mgetvalue()\n\u001b[1;32m    153\u001b[0m \u001b[38;5;28;01mif\u001b[39;00m fmt \u001b[38;5;241m==\u001b[39m \u001b[38;5;124m'\u001b[39m\u001b[38;5;124msvg\u001b[39m\u001b[38;5;124m'\u001b[39m:\n",
      "File \u001b[0;32m~/opt/anaconda3/lib/python3.9/site-packages/matplotlib/backend_bases.py:2295\u001b[0m, in \u001b[0;36mFigureCanvasBase.print_figure\u001b[0;34m(self, filename, dpi, facecolor, edgecolor, orientation, format, bbox_inches, pad_inches, bbox_extra_artists, backend, **kwargs)\u001b[0m\n\u001b[1;32m   2289\u001b[0m     renderer \u001b[38;5;241m=\u001b[39m _get_renderer(\n\u001b[1;32m   2290\u001b[0m         \u001b[38;5;28mself\u001b[39m\u001b[38;5;241m.\u001b[39mfigure,\n\u001b[1;32m   2291\u001b[0m         functools\u001b[38;5;241m.\u001b[39mpartial(\n\u001b[1;32m   2292\u001b[0m             print_method, orientation\u001b[38;5;241m=\u001b[39morientation)\n\u001b[1;32m   2293\u001b[0m     )\n\u001b[1;32m   2294\u001b[0m     \u001b[38;5;28;01mwith\u001b[39;00m \u001b[38;5;28mgetattr\u001b[39m(renderer, \u001b[38;5;124m\"\u001b[39m\u001b[38;5;124m_draw_disabled\u001b[39m\u001b[38;5;124m\"\u001b[39m, nullcontext)():\n\u001b[0;32m-> 2295\u001b[0m         \u001b[38;5;28;43mself\u001b[39;49m\u001b[38;5;241;43m.\u001b[39;49m\u001b[43mfigure\u001b[49m\u001b[38;5;241;43m.\u001b[39;49m\u001b[43mdraw\u001b[49m\u001b[43m(\u001b[49m\u001b[43mrenderer\u001b[49m\u001b[43m)\u001b[49m\n\u001b[1;32m   2297\u001b[0m \u001b[38;5;28;01mif\u001b[39;00m bbox_inches:\n\u001b[1;32m   2298\u001b[0m     \u001b[38;5;28;01mif\u001b[39;00m bbox_inches \u001b[38;5;241m==\u001b[39m \u001b[38;5;124m\"\u001b[39m\u001b[38;5;124mtight\u001b[39m\u001b[38;5;124m\"\u001b[39m:\n",
      "File \u001b[0;32m~/opt/anaconda3/lib/python3.9/site-packages/matplotlib/artist.py:73\u001b[0m, in \u001b[0;36m_finalize_rasterization.<locals>.draw_wrapper\u001b[0;34m(artist, renderer, *args, **kwargs)\u001b[0m\n\u001b[1;32m     71\u001b[0m \u001b[38;5;129m@wraps\u001b[39m(draw)\n\u001b[1;32m     72\u001b[0m \u001b[38;5;28;01mdef\u001b[39;00m \u001b[38;5;21mdraw_wrapper\u001b[39m(artist, renderer, \u001b[38;5;241m*\u001b[39margs, \u001b[38;5;241m*\u001b[39m\u001b[38;5;241m*\u001b[39mkwargs):\n\u001b[0;32m---> 73\u001b[0m     result \u001b[38;5;241m=\u001b[39m \u001b[43mdraw\u001b[49m\u001b[43m(\u001b[49m\u001b[43martist\u001b[49m\u001b[43m,\u001b[49m\u001b[43m \u001b[49m\u001b[43mrenderer\u001b[49m\u001b[43m,\u001b[49m\u001b[43m \u001b[49m\u001b[38;5;241;43m*\u001b[39;49m\u001b[43margs\u001b[49m\u001b[43m,\u001b[49m\u001b[43m \u001b[49m\u001b[38;5;241;43m*\u001b[39;49m\u001b[38;5;241;43m*\u001b[39;49m\u001b[43mkwargs\u001b[49m\u001b[43m)\u001b[49m\n\u001b[1;32m     74\u001b[0m     \u001b[38;5;28;01mif\u001b[39;00m renderer\u001b[38;5;241m.\u001b[39m_rasterizing:\n\u001b[1;32m     75\u001b[0m         renderer\u001b[38;5;241m.\u001b[39mstop_rasterizing()\n",
      "File \u001b[0;32m~/opt/anaconda3/lib/python3.9/site-packages/matplotlib/artist.py:50\u001b[0m, in \u001b[0;36mallow_rasterization.<locals>.draw_wrapper\u001b[0;34m(artist, renderer)\u001b[0m\n\u001b[1;32m     47\u001b[0m     \u001b[38;5;28;01mif\u001b[39;00m artist\u001b[38;5;241m.\u001b[39mget_agg_filter() \u001b[38;5;129;01mis\u001b[39;00m \u001b[38;5;129;01mnot\u001b[39;00m \u001b[38;5;28;01mNone\u001b[39;00m:\n\u001b[1;32m     48\u001b[0m         renderer\u001b[38;5;241m.\u001b[39mstart_filter()\n\u001b[0;32m---> 50\u001b[0m     \u001b[38;5;28;01mreturn\u001b[39;00m \u001b[43mdraw\u001b[49m\u001b[43m(\u001b[49m\u001b[43martist\u001b[49m\u001b[43m,\u001b[49m\u001b[43m \u001b[49m\u001b[43mrenderer\u001b[49m\u001b[43m)\u001b[49m\n\u001b[1;32m     51\u001b[0m \u001b[38;5;28;01mfinally\u001b[39;00m:\n\u001b[1;32m     52\u001b[0m     \u001b[38;5;28;01mif\u001b[39;00m artist\u001b[38;5;241m.\u001b[39mget_agg_filter() \u001b[38;5;129;01mis\u001b[39;00m \u001b[38;5;129;01mnot\u001b[39;00m \u001b[38;5;28;01mNone\u001b[39;00m:\n",
      "File \u001b[0;32m~/opt/anaconda3/lib/python3.9/site-packages/matplotlib/figure.py:2810\u001b[0m, in \u001b[0;36mFigure.draw\u001b[0;34m(self, renderer)\u001b[0m\n\u001b[1;32m   2807\u001b[0m         \u001b[38;5;66;03m# ValueError can occur when resizing a window.\u001b[39;00m\n\u001b[1;32m   2809\u001b[0m \u001b[38;5;28mself\u001b[39m\u001b[38;5;241m.\u001b[39mpatch\u001b[38;5;241m.\u001b[39mdraw(renderer)\n\u001b[0;32m-> 2810\u001b[0m \u001b[43mmimage\u001b[49m\u001b[38;5;241;43m.\u001b[39;49m\u001b[43m_draw_list_compositing_images\u001b[49m\u001b[43m(\u001b[49m\n\u001b[1;32m   2811\u001b[0m \u001b[43m    \u001b[49m\u001b[43mrenderer\u001b[49m\u001b[43m,\u001b[49m\u001b[43m \u001b[49m\u001b[38;5;28;43mself\u001b[39;49m\u001b[43m,\u001b[49m\u001b[43m \u001b[49m\u001b[43martists\u001b[49m\u001b[43m,\u001b[49m\u001b[43m \u001b[49m\u001b[38;5;28;43mself\u001b[39;49m\u001b[38;5;241;43m.\u001b[39;49m\u001b[43msuppressComposite\u001b[49m\u001b[43m)\u001b[49m\n\u001b[1;32m   2813\u001b[0m \u001b[38;5;28;01mfor\u001b[39;00m sfig \u001b[38;5;129;01min\u001b[39;00m \u001b[38;5;28mself\u001b[39m\u001b[38;5;241m.\u001b[39msubfigs:\n\u001b[1;32m   2814\u001b[0m     sfig\u001b[38;5;241m.\u001b[39mdraw(renderer)\n",
      "File \u001b[0;32m~/opt/anaconda3/lib/python3.9/site-packages/matplotlib/image.py:132\u001b[0m, in \u001b[0;36m_draw_list_compositing_images\u001b[0;34m(renderer, parent, artists, suppress_composite)\u001b[0m\n\u001b[1;32m    130\u001b[0m \u001b[38;5;28;01mif\u001b[39;00m not_composite \u001b[38;5;129;01mor\u001b[39;00m \u001b[38;5;129;01mnot\u001b[39;00m has_images:\n\u001b[1;32m    131\u001b[0m     \u001b[38;5;28;01mfor\u001b[39;00m a \u001b[38;5;129;01min\u001b[39;00m artists:\n\u001b[0;32m--> 132\u001b[0m         \u001b[43ma\u001b[49m\u001b[38;5;241;43m.\u001b[39;49m\u001b[43mdraw\u001b[49m\u001b[43m(\u001b[49m\u001b[43mrenderer\u001b[49m\u001b[43m)\u001b[49m\n\u001b[1;32m    133\u001b[0m \u001b[38;5;28;01melse\u001b[39;00m:\n\u001b[1;32m    134\u001b[0m     \u001b[38;5;66;03m# Composite any adjacent images together\u001b[39;00m\n\u001b[1;32m    135\u001b[0m     image_group \u001b[38;5;241m=\u001b[39m []\n",
      "File \u001b[0;32m~/opt/anaconda3/lib/python3.9/site-packages/matplotlib/artist.py:50\u001b[0m, in \u001b[0;36mallow_rasterization.<locals>.draw_wrapper\u001b[0;34m(artist, renderer)\u001b[0m\n\u001b[1;32m     47\u001b[0m     \u001b[38;5;28;01mif\u001b[39;00m artist\u001b[38;5;241m.\u001b[39mget_agg_filter() \u001b[38;5;129;01mis\u001b[39;00m \u001b[38;5;129;01mnot\u001b[39;00m \u001b[38;5;28;01mNone\u001b[39;00m:\n\u001b[1;32m     48\u001b[0m         renderer\u001b[38;5;241m.\u001b[39mstart_filter()\n\u001b[0;32m---> 50\u001b[0m     \u001b[38;5;28;01mreturn\u001b[39;00m \u001b[43mdraw\u001b[49m\u001b[43m(\u001b[49m\u001b[43martist\u001b[49m\u001b[43m,\u001b[49m\u001b[43m \u001b[49m\u001b[43mrenderer\u001b[49m\u001b[43m)\u001b[49m\n\u001b[1;32m     51\u001b[0m \u001b[38;5;28;01mfinally\u001b[39;00m:\n\u001b[1;32m     52\u001b[0m     \u001b[38;5;28;01mif\u001b[39;00m artist\u001b[38;5;241m.\u001b[39mget_agg_filter() \u001b[38;5;129;01mis\u001b[39;00m \u001b[38;5;129;01mnot\u001b[39;00m \u001b[38;5;28;01mNone\u001b[39;00m:\n",
      "File \u001b[0;32m~/opt/anaconda3/lib/python3.9/site-packages/matplotlib/axes/_base.py:3082\u001b[0m, in \u001b[0;36m_AxesBase.draw\u001b[0;34m(self, renderer)\u001b[0m\n\u001b[1;32m   3079\u001b[0m         a\u001b[38;5;241m.\u001b[39mdraw(renderer)\n\u001b[1;32m   3080\u001b[0m     renderer\u001b[38;5;241m.\u001b[39mstop_rasterizing()\n\u001b[0;32m-> 3082\u001b[0m \u001b[43mmimage\u001b[49m\u001b[38;5;241;43m.\u001b[39;49m\u001b[43m_draw_list_compositing_images\u001b[49m\u001b[43m(\u001b[49m\n\u001b[1;32m   3083\u001b[0m \u001b[43m    \u001b[49m\u001b[43mrenderer\u001b[49m\u001b[43m,\u001b[49m\u001b[43m \u001b[49m\u001b[38;5;28;43mself\u001b[39;49m\u001b[43m,\u001b[49m\u001b[43m \u001b[49m\u001b[43martists\u001b[49m\u001b[43m,\u001b[49m\u001b[43m \u001b[49m\u001b[38;5;28;43mself\u001b[39;49m\u001b[38;5;241;43m.\u001b[39;49m\u001b[43mfigure\u001b[49m\u001b[38;5;241;43m.\u001b[39;49m\u001b[43msuppressComposite\u001b[49m\u001b[43m)\u001b[49m\n\u001b[1;32m   3085\u001b[0m renderer\u001b[38;5;241m.\u001b[39mclose_group(\u001b[38;5;124m'\u001b[39m\u001b[38;5;124maxes\u001b[39m\u001b[38;5;124m'\u001b[39m)\n\u001b[1;32m   3086\u001b[0m \u001b[38;5;28mself\u001b[39m\u001b[38;5;241m.\u001b[39mstale \u001b[38;5;241m=\u001b[39m \u001b[38;5;28;01mFalse\u001b[39;00m\n",
      "File \u001b[0;32m~/opt/anaconda3/lib/python3.9/site-packages/matplotlib/image.py:132\u001b[0m, in \u001b[0;36m_draw_list_compositing_images\u001b[0;34m(renderer, parent, artists, suppress_composite)\u001b[0m\n\u001b[1;32m    130\u001b[0m \u001b[38;5;28;01mif\u001b[39;00m not_composite \u001b[38;5;129;01mor\u001b[39;00m \u001b[38;5;129;01mnot\u001b[39;00m has_images:\n\u001b[1;32m    131\u001b[0m     \u001b[38;5;28;01mfor\u001b[39;00m a \u001b[38;5;129;01min\u001b[39;00m artists:\n\u001b[0;32m--> 132\u001b[0m         \u001b[43ma\u001b[49m\u001b[38;5;241;43m.\u001b[39;49m\u001b[43mdraw\u001b[49m\u001b[43m(\u001b[49m\u001b[43mrenderer\u001b[49m\u001b[43m)\u001b[49m\n\u001b[1;32m    133\u001b[0m \u001b[38;5;28;01melse\u001b[39;00m:\n\u001b[1;32m    134\u001b[0m     \u001b[38;5;66;03m# Composite any adjacent images together\u001b[39;00m\n\u001b[1;32m    135\u001b[0m     image_group \u001b[38;5;241m=\u001b[39m []\n",
      "File \u001b[0;32m~/opt/anaconda3/lib/python3.9/site-packages/matplotlib/artist.py:50\u001b[0m, in \u001b[0;36mallow_rasterization.<locals>.draw_wrapper\u001b[0;34m(artist, renderer)\u001b[0m\n\u001b[1;32m     47\u001b[0m     \u001b[38;5;28;01mif\u001b[39;00m artist\u001b[38;5;241m.\u001b[39mget_agg_filter() \u001b[38;5;129;01mis\u001b[39;00m \u001b[38;5;129;01mnot\u001b[39;00m \u001b[38;5;28;01mNone\u001b[39;00m:\n\u001b[1;32m     48\u001b[0m         renderer\u001b[38;5;241m.\u001b[39mstart_filter()\n\u001b[0;32m---> 50\u001b[0m     \u001b[38;5;28;01mreturn\u001b[39;00m \u001b[43mdraw\u001b[49m\u001b[43m(\u001b[49m\u001b[43martist\u001b[49m\u001b[43m,\u001b[49m\u001b[43m \u001b[49m\u001b[43mrenderer\u001b[49m\u001b[43m)\u001b[49m\n\u001b[1;32m     51\u001b[0m \u001b[38;5;28;01mfinally\u001b[39;00m:\n\u001b[1;32m     52\u001b[0m     \u001b[38;5;28;01mif\u001b[39;00m artist\u001b[38;5;241m.\u001b[39mget_agg_filter() \u001b[38;5;129;01mis\u001b[39;00m \u001b[38;5;129;01mnot\u001b[39;00m \u001b[38;5;28;01mNone\u001b[39;00m:\n",
      "File \u001b[0;32m~/opt/anaconda3/lib/python3.9/site-packages/matplotlib/text.py:1978\u001b[0m, in \u001b[0;36mAnnotation.draw\u001b[0;34m(self, renderer)\u001b[0m\n\u001b[1;32m   1976\u001b[0m     \u001b[38;5;28;01mif\u001b[39;00m \u001b[38;5;28mself\u001b[39m\u001b[38;5;241m.\u001b[39marrow_patch\u001b[38;5;241m.\u001b[39mfigure \u001b[38;5;129;01mis\u001b[39;00m \u001b[38;5;28;01mNone\u001b[39;00m \u001b[38;5;129;01mand\u001b[39;00m \u001b[38;5;28mself\u001b[39m\u001b[38;5;241m.\u001b[39mfigure \u001b[38;5;129;01mis\u001b[39;00m \u001b[38;5;129;01mnot\u001b[39;00m \u001b[38;5;28;01mNone\u001b[39;00m:\n\u001b[1;32m   1977\u001b[0m         \u001b[38;5;28mself\u001b[39m\u001b[38;5;241m.\u001b[39marrow_patch\u001b[38;5;241m.\u001b[39mfigure \u001b[38;5;241m=\u001b[39m \u001b[38;5;28mself\u001b[39m\u001b[38;5;241m.\u001b[39mfigure\n\u001b[0;32m-> 1978\u001b[0m     \u001b[38;5;28;43mself\u001b[39;49m\u001b[38;5;241;43m.\u001b[39;49m\u001b[43marrow_patch\u001b[49m\u001b[38;5;241;43m.\u001b[39;49m\u001b[43mdraw\u001b[49m\u001b[43m(\u001b[49m\u001b[43mrenderer\u001b[49m\u001b[43m)\u001b[49m\n\u001b[1;32m   1979\u001b[0m \u001b[38;5;66;03m# Draw text, including FancyBboxPatch, after FancyArrowPatch.\u001b[39;00m\n\u001b[1;32m   1980\u001b[0m \u001b[38;5;66;03m# Otherwise, a wedge arrowstyle can land partly on top of the Bbox.\u001b[39;00m\n\u001b[1;32m   1981\u001b[0m Text\u001b[38;5;241m.\u001b[39mdraw(\u001b[38;5;28mself\u001b[39m, renderer)\n",
      "File \u001b[0;32m~/opt/anaconda3/lib/python3.9/site-packages/matplotlib/patches.py:4485\u001b[0m, in \u001b[0;36mFancyArrowPatch.draw\u001b[0;34m(self, renderer)\u001b[0m\n\u001b[1;32m   4478\u001b[0m \u001b[38;5;28;01mwith\u001b[39;00m \u001b[38;5;28mself\u001b[39m\u001b[38;5;241m.\u001b[39m_bind_draw_path_function(renderer) \u001b[38;5;28;01mas\u001b[39;00m draw_path:\n\u001b[1;32m   4479\u001b[0m \n\u001b[1;32m   4480\u001b[0m     \u001b[38;5;66;03m# FIXME : dpi_cor is for the dpi-dependency of the linewidth. There\u001b[39;00m\n\u001b[1;32m   4481\u001b[0m     \u001b[38;5;66;03m# could be room for improvement.  Maybe _get_path_in_displaycoord\u001b[39;00m\n\u001b[1;32m   4482\u001b[0m     \u001b[38;5;66;03m# could take a renderer argument, but get_path should be adapted\u001b[39;00m\n\u001b[1;32m   4483\u001b[0m     \u001b[38;5;66;03m# too.\u001b[39;00m\n\u001b[1;32m   4484\u001b[0m     \u001b[38;5;28mself\u001b[39m\u001b[38;5;241m.\u001b[39m_dpi_cor \u001b[38;5;241m=\u001b[39m renderer\u001b[38;5;241m.\u001b[39mpoints_to_pixels(\u001b[38;5;241m1.\u001b[39m)\n\u001b[0;32m-> 4485\u001b[0m     path, fillable \u001b[38;5;241m=\u001b[39m \u001b[38;5;28;43mself\u001b[39;49m\u001b[38;5;241;43m.\u001b[39;49m\u001b[43m_get_path_in_displaycoord\u001b[49m\u001b[43m(\u001b[49m\u001b[43m)\u001b[49m\n\u001b[1;32m   4487\u001b[0m     \u001b[38;5;28;01mif\u001b[39;00m \u001b[38;5;129;01mnot\u001b[39;00m np\u001b[38;5;241m.\u001b[39miterable(fillable):\n\u001b[1;32m   4488\u001b[0m         path \u001b[38;5;241m=\u001b[39m [path]\n",
      "File \u001b[0;32m~/opt/anaconda3/lib/python3.9/site-packages/matplotlib/patches.py:4453\u001b[0m, in \u001b[0;36mFancyArrowPatch._get_path_in_displaycoord\u001b[0;34m(self)\u001b[0m\n\u001b[1;32m   4451\u001b[0m     posB \u001b[38;5;241m=\u001b[39m \u001b[38;5;28mself\u001b[39m\u001b[38;5;241m.\u001b[39m_convert_xy_units(\u001b[38;5;28mself\u001b[39m\u001b[38;5;241m.\u001b[39m_posA_posB[\u001b[38;5;241m1\u001b[39m])\n\u001b[1;32m   4452\u001b[0m     (posA, posB) \u001b[38;5;241m=\u001b[39m \u001b[38;5;28mself\u001b[39m\u001b[38;5;241m.\u001b[39mget_transform()\u001b[38;5;241m.\u001b[39mtransform((posA, posB))\n\u001b[0;32m-> 4453\u001b[0m     _path \u001b[38;5;241m=\u001b[39m \u001b[38;5;28;43mself\u001b[39;49m\u001b[38;5;241;43m.\u001b[39;49m\u001b[43mget_connectionstyle\u001b[49m\u001b[43m(\u001b[49m\u001b[43m)\u001b[49m\u001b[43m(\u001b[49m\u001b[43mposA\u001b[49m\u001b[43m,\u001b[49m\u001b[43m \u001b[49m\u001b[43mposB\u001b[49m\u001b[43m,\u001b[49m\n\u001b[1;32m   4454\u001b[0m \u001b[43m                                       \u001b[49m\u001b[43mpatchA\u001b[49m\u001b[38;5;241;43m=\u001b[39;49m\u001b[38;5;28;43mself\u001b[39;49m\u001b[38;5;241;43m.\u001b[39;49m\u001b[43mpatchA\u001b[49m\u001b[43m,\u001b[49m\n\u001b[1;32m   4455\u001b[0m \u001b[43m                                       \u001b[49m\u001b[43mpatchB\u001b[49m\u001b[38;5;241;43m=\u001b[39;49m\u001b[38;5;28;43mself\u001b[39;49m\u001b[38;5;241;43m.\u001b[39;49m\u001b[43mpatchB\u001b[49m\u001b[43m,\u001b[49m\n\u001b[1;32m   4456\u001b[0m \u001b[43m                                       \u001b[49m\u001b[43mshrinkA\u001b[49m\u001b[38;5;241;43m=\u001b[39;49m\u001b[38;5;28;43mself\u001b[39;49m\u001b[38;5;241;43m.\u001b[39;49m\u001b[43mshrinkA\u001b[49m\u001b[43m \u001b[49m\u001b[38;5;241;43m*\u001b[39;49m\u001b[43m \u001b[49m\u001b[43mdpi_cor\u001b[49m\u001b[43m,\u001b[49m\n\u001b[1;32m   4457\u001b[0m \u001b[43m                                       \u001b[49m\u001b[43mshrinkB\u001b[49m\u001b[38;5;241;43m=\u001b[39;49m\u001b[38;5;28;43mself\u001b[39;49m\u001b[38;5;241;43m.\u001b[39;49m\u001b[43mshrinkB\u001b[49m\u001b[43m \u001b[49m\u001b[38;5;241;43m*\u001b[39;49m\u001b[43m \u001b[49m\u001b[43mdpi_cor\u001b[49m\n\u001b[1;32m   4458\u001b[0m \u001b[43m                                       \u001b[49m\u001b[43m)\u001b[49m\n\u001b[1;32m   4459\u001b[0m \u001b[38;5;28;01melse\u001b[39;00m:\n\u001b[1;32m   4460\u001b[0m     _path \u001b[38;5;241m=\u001b[39m \u001b[38;5;28mself\u001b[39m\u001b[38;5;241m.\u001b[39mget_transform()\u001b[38;5;241m.\u001b[39mtransform_path(\u001b[38;5;28mself\u001b[39m\u001b[38;5;241m.\u001b[39m_path_original)\n",
      "File \u001b[0;32m~/opt/anaconda3/lib/python3.9/site-packages/matplotlib/patches.py:2770\u001b[0m, in \u001b[0;36mConnectionStyle._Base.__call__\u001b[0;34m(self, posA, posB, shrinkA, shrinkB, patchA, patchB)\u001b[0m\n\u001b[1;32m   2765\u001b[0m \u001b[38;5;124;03m\"\"\"\u001b[39;00m\n\u001b[1;32m   2766\u001b[0m \u001b[38;5;124;03mCall the *connect* method to create a path between *posA* and\u001b[39;00m\n\u001b[1;32m   2767\u001b[0m \u001b[38;5;124;03m*posB*; then clip and shrink the path.\u001b[39;00m\n\u001b[1;32m   2768\u001b[0m \u001b[38;5;124;03m\"\"\"\u001b[39;00m\n\u001b[1;32m   2769\u001b[0m path \u001b[38;5;241m=\u001b[39m \u001b[38;5;28mself\u001b[39m\u001b[38;5;241m.\u001b[39mconnect(posA, posB)\n\u001b[0;32m-> 2770\u001b[0m clipped_path \u001b[38;5;241m=\u001b[39m \u001b[38;5;28;43mself\u001b[39;49m\u001b[38;5;241;43m.\u001b[39;49m\u001b[43m_clip\u001b[49m\u001b[43m(\u001b[49m\u001b[43mpath\u001b[49m\u001b[43m,\u001b[49m\u001b[43m \u001b[49m\u001b[43mpatchA\u001b[49m\u001b[43m,\u001b[49m\u001b[43m \u001b[49m\u001b[43mpatchB\u001b[49m\u001b[43m)\u001b[49m\n\u001b[1;32m   2771\u001b[0m shrunk_path \u001b[38;5;241m=\u001b[39m \u001b[38;5;28mself\u001b[39m\u001b[38;5;241m.\u001b[39m_shrink(clipped_path, shrinkA, shrinkB)\n\u001b[1;32m   2772\u001b[0m \u001b[38;5;28;01mreturn\u001b[39;00m shrunk_path\n",
      "File \u001b[0;32m~/opt/anaconda3/lib/python3.9/site-packages/matplotlib/patches.py:2725\u001b[0m, in \u001b[0;36mConnectionStyle._Base._clip\u001b[0;34m(self, path, patchA, patchB)\u001b[0m\n\u001b[1;32m   2722\u001b[0m     \u001b[38;5;28;01mreturn\u001b[39;00m patchA\u001b[38;5;241m.\u001b[39mcontains(xy_event)[\u001b[38;5;241m0\u001b[39m]\n\u001b[1;32m   2724\u001b[0m \u001b[38;5;28;01mtry\u001b[39;00m:\n\u001b[0;32m-> 2725\u001b[0m     left, right \u001b[38;5;241m=\u001b[39m \u001b[43msplit_path_inout\u001b[49m\u001b[43m(\u001b[49m\u001b[43mpath\u001b[49m\u001b[43m,\u001b[49m\u001b[43m \u001b[49m\u001b[43minsideA\u001b[49m\u001b[43m)\u001b[49m\n\u001b[1;32m   2726\u001b[0m \u001b[38;5;28;01mexcept\u001b[39;00m \u001b[38;5;167;01mValueError\u001b[39;00m:\n\u001b[1;32m   2727\u001b[0m     right \u001b[38;5;241m=\u001b[39m path\n",
      "File \u001b[0;32m~/opt/anaconda3/lib/python3.9/site-packages/matplotlib/bezier.py:363\u001b[0m, in \u001b[0;36msplit_path_inout\u001b[0;34m(path, inside, tolerance, reorder_inout)\u001b[0m\n\u001b[1;32m    361\u001b[0m iold \u001b[38;5;241m=\u001b[39m i\n\u001b[1;32m    362\u001b[0m i \u001b[38;5;241m+\u001b[39m\u001b[38;5;241m=\u001b[39m \u001b[38;5;28mlen\u001b[39m(ctl_points) \u001b[38;5;241m/\u001b[39m\u001b[38;5;241m/\u001b[39m \u001b[38;5;241m2\u001b[39m\n\u001b[0;32m--> 363\u001b[0m \u001b[38;5;28;01mif\u001b[39;00m \u001b[43minside\u001b[49m\u001b[43m(\u001b[49m\u001b[43mctl_points\u001b[49m\u001b[43m[\u001b[49m\u001b[38;5;241;43m-\u001b[39;49m\u001b[38;5;241;43m2\u001b[39;49m\u001b[43m:\u001b[49m\u001b[43m]\u001b[49m\u001b[43m)\u001b[49m \u001b[38;5;241m!=\u001b[39m begin_inside:\n\u001b[1;32m    364\u001b[0m     bezier_path \u001b[38;5;241m=\u001b[39m np\u001b[38;5;241m.\u001b[39mconcatenate([ctl_points_old[\u001b[38;5;241m-\u001b[39m\u001b[38;5;241m2\u001b[39m:], ctl_points])\n\u001b[1;32m    365\u001b[0m     \u001b[38;5;28;01mbreak\u001b[39;00m\n",
      "File \u001b[0;32m~/opt/anaconda3/lib/python3.9/site-packages/matplotlib/patches.py:2722\u001b[0m, in \u001b[0;36mConnectionStyle._Base._clip.<locals>.insideA\u001b[0;34m(xy_display)\u001b[0m\n\u001b[1;32m   2720\u001b[0m \u001b[38;5;28;01mdef\u001b[39;00m \u001b[38;5;21minsideA\u001b[39m(xy_display):\n\u001b[1;32m   2721\u001b[0m     xy_event \u001b[38;5;241m=\u001b[39m ConnectionStyle\u001b[38;5;241m.\u001b[39m_Base\u001b[38;5;241m.\u001b[39mSimpleEvent(xy_display)\n\u001b[0;32m-> 2722\u001b[0m     \u001b[38;5;28;01mreturn\u001b[39;00m \u001b[43mpatchA\u001b[49m\u001b[38;5;241;43m.\u001b[39;49m\u001b[43mcontains\u001b[49m\u001b[43m(\u001b[49m\u001b[43mxy_event\u001b[49m\u001b[43m)\u001b[49m[\u001b[38;5;241m0\u001b[39m]\n",
      "File \u001b[0;32m~/opt/anaconda3/lib/python3.9/site-packages/matplotlib/patches.py:149\u001b[0m, in \u001b[0;36mPatch.contains\u001b[0;34m(self, mouseevent, radius)\u001b[0m\n\u001b[1;32m    141\u001b[0m \u001b[38;5;28;01mdef\u001b[39;00m \u001b[38;5;21mcontains\u001b[39m(\u001b[38;5;28mself\u001b[39m, mouseevent, radius\u001b[38;5;241m=\u001b[39m\u001b[38;5;28;01mNone\u001b[39;00m):\n\u001b[1;32m    142\u001b[0m     \u001b[38;5;124;03m\"\"\"\u001b[39;00m\n\u001b[1;32m    143\u001b[0m \u001b[38;5;124;03m    Test whether the mouse event occurred in the patch.\u001b[39;00m\n\u001b[1;32m    144\u001b[0m \n\u001b[0;32m   (...)\u001b[0m\n\u001b[1;32m    147\u001b[0m \u001b[38;5;124;03m    (bool, empty dict)\u001b[39;00m\n\u001b[1;32m    148\u001b[0m \u001b[38;5;124;03m    \"\"\"\u001b[39;00m\n\u001b[0;32m--> 149\u001b[0m     inside, info \u001b[38;5;241m=\u001b[39m \u001b[38;5;28;43mself\u001b[39;49m\u001b[38;5;241;43m.\u001b[39;49m\u001b[43m_default_contains\u001b[49m\u001b[43m(\u001b[49m\u001b[43mmouseevent\u001b[49m\u001b[43m)\u001b[49m\n\u001b[1;32m    150\u001b[0m     \u001b[38;5;28;01mif\u001b[39;00m inside \u001b[38;5;129;01mis\u001b[39;00m \u001b[38;5;129;01mnot\u001b[39;00m \u001b[38;5;28;01mNone\u001b[39;00m:\n\u001b[1;32m    151\u001b[0m         \u001b[38;5;28;01mreturn\u001b[39;00m inside, info\n",
      "File \u001b[0;32m~/opt/anaconda3/lib/python3.9/site-packages/matplotlib/artist.py:452\u001b[0m, in \u001b[0;36mArtist._default_contains\u001b[0;34m(self, mouseevent, figure)\u001b[0m\n\u001b[1;32m    449\u001b[0m     \u001b[38;5;124mr\u001b[39m\u001b[38;5;124;03m\"\"\"Return a list of the child `.Artist`\\s of this `.Artist`.\"\"\"\u001b[39;00m\n\u001b[1;32m    450\u001b[0m     \u001b[38;5;28;01mreturn\u001b[39;00m []\n\u001b[0;32m--> 452\u001b[0m \u001b[38;5;28;01mdef\u001b[39;00m \u001b[38;5;21m_default_contains\u001b[39m(\u001b[38;5;28mself\u001b[39m, mouseevent, figure\u001b[38;5;241m=\u001b[39m\u001b[38;5;28;01mNone\u001b[39;00m):\n\u001b[1;32m    453\u001b[0m     \u001b[38;5;124;03m\"\"\"\u001b[39;00m\n\u001b[1;32m    454\u001b[0m \u001b[38;5;124;03m    Base impl. for checking whether a mouseevent happened in an artist.\u001b[39;00m\n\u001b[1;32m    455\u001b[0m \n\u001b[0;32m   (...)\u001b[0m\n\u001b[1;32m    469\u001b[0m \u001b[38;5;124;03m    `.Figure.contains`.\u001b[39;00m\n\u001b[1;32m    470\u001b[0m \u001b[38;5;124;03m    \"\"\"\u001b[39;00m\n\u001b[1;32m    471\u001b[0m     \u001b[38;5;28;01mif\u001b[39;00m figure \u001b[38;5;129;01mis\u001b[39;00m \u001b[38;5;129;01mnot\u001b[39;00m \u001b[38;5;28;01mNone\u001b[39;00m \u001b[38;5;129;01mand\u001b[39;00m mouseevent\u001b[38;5;241m.\u001b[39mcanvas \u001b[38;5;129;01mis\u001b[39;00m \u001b[38;5;129;01mnot\u001b[39;00m figure\u001b[38;5;241m.\u001b[39mcanvas:\n",
      "\u001b[0;31mKeyboardInterrupt\u001b[0m: "
     ]
    }
   ],
   "source": [
    "features = list(X.columns)\n",
    "\n",
    "# Split the dataset into training and testing subsets\n",
    "X_train, X_test, y_train, y_test = train_test_split(X, y, test_size=0.2, random_state=42)\n",
    "\n",
    "# Create a decision tree classifier with a range of depths to search\n",
    "clf = DecisionTreeClassifier(random_state=42)\n",
    "param_grid = {\n",
    "    \"max_depth\": range(1, 4),\n",
    "    \"min_samples_split\": range(2, 4, 2),\n",
    "    \"min_samples_leaf\": range(1, 4, 2)\n",
    "}\n",
    "\n",
    "#decision_tree = DecisionTreeClassifier(random_state=0, max_depth=2)\n",
    "\n",
    "# Use GridSearchCV to find the best hyperparameters\n",
    "#grid_search = GridSearchCV(clf, param_grid, scoring=\"accuracy\", cv=5, n_jobs=-1)\n",
    "clf.fit(X_train, y_train)\n",
    "#best_clf = grid_search.best_estimator_\n",
    "\n",
    "# Make predictions on the testing dataset\n",
    "y_pred = clf.predict(X_test)\n",
    "\n",
    "# Evaluate the accuracy of the model\n",
    "accuracy = accuracy_score(y_test, y_pred)\n",
    "print(\"Accuracy:\", accuracy)\n",
    "\n",
    "# Evaluate the balanced accuracy of the model\n",
    "b_accuracy = balanced_accuracy_score(y_test, y_pred)\n",
    "print(f\"Balanced Accuracy: {b_accuracy:.2f}\")\n",
    "\n",
    "# Calculate the confusion matrix of the model\n",
    "cm = confusion_matrix(y_test, y_pred)\n",
    "\n",
    "class_names = [0, 1, 2, 3, 4, 5, 6]  # Name of classes\n",
    "fig, ax = plt.subplots()\n",
    "tick_marks = np.arange(len(class_names))\n",
    "plt.xticks(tick_marks, class_names)\n",
    "plt.yticks(tick_marks, class_names)\n",
    "\n",
    "\n",
    "# Create heatmap\n",
    "sns.heatmap(pd.DataFrame(cm), annot=True, cmap=\"YlGnBu\", fmt='g')\n",
    "ax.xaxis.set_label_position(\"top\")\n",
    "plt.tight_layout()\n",
    "plt.title('Confusion matrix', y=1.1)\n",
    "plt.ylabel('Actual label')\n",
    "plt.xlabel('Predicted label')\n",
    "\n",
    "# Visualize the decision tree\n",
    "plt.figure(figsize=(30, 20))\n",
    "plot_tree(clf, feature_names=features, class_names=['0', '1', '2', '3', '4', '5', '6'], filled=True)\n",
    "plt.show()\n",
    "\n",
    "# Print the evaluation matrix\n",
    "target_names = ['0', '1', '2', '3', '4', '5', '6']\n",
    "print(classification_report(y_test, y_pred, target_names=target_names))"
   ]
  },
  {
   "attachments": {},
   "cell_type": "markdown",
   "id": "2227c20b",
   "metadata": {},
   "source": [
    "For now we will remove max deph to improve the aacuracy of our decision tree"
   ]
  },
  {
   "attachments": {},
   "cell_type": "markdown",
   "id": "c16146dd",
   "metadata": {},
   "source": [
    "<a name=\"model2\"></a>\n",
    "# 2. Logistic Regression"
   ]
  },
  {
   "attachments": {},
   "cell_type": "markdown",
   "id": "01950c5a",
   "metadata": {},
   "source": [
    "We decided to use a logistic regression model for this task due to its simplicity, interpretability, and effectiveness in many classification problems. We performed feature scaling with StandardScaler by removing the mean and scaling to unit variance to standardize the input features due to scaling sensitivity. This way, we ensure that all features have the same scale, which helps the logistic regression algorithm converge faster and provide better performance.\n",
    "\n",
    "After feature scaling, we proceeded to train the logistic regression model using the LogisticRegression class from the scikit-learn library. We set the maximum number of iterations to 1000 to give the optimization algorithm enough iterations to converge to an optimal solution. In some cases, logistic regression models may require more iterations to find the optimal weights, especially when dealing with complex datasets or large feature spaces. By setting a higher number of iterations, we can ensure that the optimization algorithm has sufficient opportunities to find the best solution within the given constraint.\n",
    "\n",
    "We used the 'lbfgs' solver as it is a popular optimization algorithm for logistic regression. This algorithm is an efficient optimization technique that approximates the BFGS algorithm using a limited amount of memory. This solver is suitable for large-scale problems and can handle a wide range of data sizes and complexities. Additionally, the 'lbfgs' solver works well with L2 regularization, which is commonly used in logistic regression to prevent overfitting and improve generalization.\n",
    "\n",
    "We specified the multi_class parameter as 'multinomial' to handle the multi-class classification problem. In a multi-class classification problem, there are more than two classes to predict. The 'multinomial' option enables the logistic regression model to handle such problems by using the softmax function to estimate probabilities for each class. The softmax function is a generalization of the logistic function that can handle multiple classes, converting the model's output into class probabilities. By using the 'multinomial' option, we ensure that our logistic regression model is well-suited to handle the multi-class nature of the cover type classification problem.\n",
    "\n",
    "Once the logistic regression model was trained, we made predictions on the test set and evaluated its performance using accuracy as the performance metric. Accuracy is a common metric used to measure the proportion of correct predictions made by the model out of the total number of predictions. We also performed cross-validation to assess the model's generalization capability. Cross-validation is a technique used to estimate the performance of a model on unseen data by splitting the training data into multiple subsets, training the model on each subset, and evaluating the performance on the remaining data. In our case, we used 5-fold cross-validation, which means that the training data was split into five equal parts."
   ]
  },
  {
   "cell_type": "code",
   "execution_count": 56,
   "id": "4d475cae",
   "metadata": {},
   "outputs": [
    {
     "name": "stdout",
     "output_type": "stream",
     "text": [
      "Accuracy: 0.64\n",
      "Accuracy: 0.33\n"
     ]
    }
   ],
   "source": [
    "# Feature scaling\n",
    "scaler = StandardScaler()\n",
    "X_train_scaled = scaler.fit_transform(X_train)\n",
    "X_test_scaled = scaler.transform(X_test)\n",
    "\n",
    "# Train a logistic regression model\n",
    "logreg = LogisticRegression(max_iter=1000, solver='lbfgs', multi_class='multinomial')\n",
    "logreg.fit(X_train, y_train)\n",
    "\n",
    "# Make predictions on the testing set\n",
    "y_pred = logreg.predict(X_test)\n",
    "\n",
    "# Evaluate the model\n",
    "accuracy = accuracy_score(y_test, y_pred)\n",
    "print(f\"Accuracy: {accuracy:.2f}\")\n",
    "\n",
    "b_accuracy = balanced_accuracy_score(y_test, y_pred)\n",
    "print(f\"Accuracy: {b_accuracy:.2f}\")\n",
    "\n",
    "# Perform cross-validation\n",
    "#cv_scores = cross_val_score(logreg, X_train_scaled, y_train, cv=5, scoring='accuracy')\n",
    "#print(f\"Cross-Validation Accuracy: {np.mean(cv_scores):.2f}\")\n"
   ]
  },
  {
   "cell_type": "code",
   "execution_count": 50,
   "id": "db996745",
   "metadata": {},
   "outputs": [
    {
     "data": {
      "text/plain": [
       "<Figure size 432x288 with 0 Axes>"
      ]
     },
     "metadata": {},
     "output_type": "display_data"
    },
    {
     "data": {
      "image/png": "[encoded data removed]",
      "text/plain": [
       "<Figure size 432x288 with 2 Axes>"
      ]
     },
     "metadata": {
      "needs_background": "light"
     },
     "output_type": "display_data"
    }
   ],
   "source": [
    "# Confusion matrix\n",
    "cm = confusion_matrix(y_test, y_pred)\n",
    "\n",
    "# Plot confusion matrix\n",
    "plt.figure()\n",
    "plot_confusion_matrix(logreg, X_test_scaled, y_test, cmap=plt.cm.Blues)\n",
    "plt.title(\"Confusion Matrix\")\n",
    "plt.show()"
   ]
  },
  {
   "attachments": {},
   "cell_type": "markdown",
   "id": "84da0255",
   "metadata": {},
   "source": [
    "ADD CONFUSION MATRIX EXPLANATIONS"
   ]
  },
  {
   "attachments": {},
   "cell_type": "markdown",
   "id": "2817e671",
   "metadata": {},
   "source": [
    "We also performed hyperparameter tuning to find the best parameters for our model. However, this didn't improve the accuracy of the model."
   ]
  },
  {
   "cell_type": "code",
   "execution_count": null,
   "id": "bcb39b26",
   "metadata": {},
   "outputs": [],
   "source": [
    "# Create a pipeline for data scaling and logistic regression\n",
    "pipeline = Pipeline([\n",
    "    ('scaler', StandardScaler()),\n",
    "    ('logreg', LogisticRegression(max_iter=1000, multi_class='multinomial'))\n",
    "])\n",
    "\n",
    "# Set up a grid of hyperparameters for tuning\n",
    "param_grid = {\n",
    "    'logreg__solver': ['lbfgs', 'sag', 'saga'],\n",
    "    'logreg__C': [0.001, 0.01, 0.1, 1, 10, 100]\n",
    "}\n",
    "\n",
    "# Perform grid search with cross-validation\n",
    "grid_search = GridSearchCV(pipeline, param_grid, cv=5, scoring='accuracy', n_jobs=-1)\n",
    "grid_search.fit(X_train, y_train)\n",
    "\n",
    "# Get the best model and evaluate it on the testing set\n",
    "best_model = grid_search.best_estimator_\n",
    "y_pred = best_model.predict(X_test)\n",
    "print(best_model)\n",
    "\n",
    "# Evaluate the model\n",
    "accuracy = accuracy_score(y_test, y_pred)\n",
    "print(f\"Accuracy: {accuracy:.2f}\")"
   ]
  },
  {
   "attachments": {},
   "cell_type": "markdown",
   "id": "df034c4c",
   "metadata": {},
   "source": [
    "We chose logistic regression with feature scaling for this cover type classification task due to its simplicity, interpretability, and effectiveness for such problems. We also evaluated the model using accuracy and cross-validation to ensure its generalizability to unseen data.\n",
    "\n",
    "While logistic regression is a simple and interpretable model often used for classification problems, it may not always be the best choice depending on the complexity and nature of the problem. In our case, the reported accuracy of 0.71 indicates that the model's performance is not optimal compared to other models."
   ]
  },
  {
   "attachments": {},
   "cell_type": "markdown",
   "id": "38ab9d6c",
   "metadata": {},
   "source": [
    "<a name=\"model3\"></a>\n",
    "# 3. Artificial Neural Networks"
   ]
  },
  {
   "attachments": {},
   "cell_type": "markdown",
   "id": "70d039d4",
   "metadata": {},
   "source": [
    "We used a simple feedforward neural network (also known as a multilayer perceptron) for predicting cover types, which is a classification problem. The model is implemented using the Keras library. \n",
    "\n",
    "We used the StandardScaler from scikit-learn to normalize the features. This is important as it helps to ensure that all features have a similar scale, which can improve the performance of the model.\n",
    "\n",
    "\n",
    "We ensured that the target variable is integer-encoded and starts from 0, which is required when using 'sparse_categorical_crossentropy' as the loss function. The model consists of an input layer, two hidden layers with 10 neurons each, and an output layer. The activation functions used are ReLU (rectified linear unit) for the hidden layers and softmax for the output layer. Softmax is used for the output layer because it is suitable for multi-class classification problems, as it converts the output into probabilities that sum to 1.\n",
    "\n",
    "The model is compiled using 'sparse_categorical_crossentropy' as the loss function and the 'adam' optimizer. The 'sparse_categorical_crossentropy' loss function is suitable for multi-class classification problems with integer-encoded labels. We trained the model for 50 epochs with a batch size of 10.\n"
   ]
  },
  {
   "cell_type": "raw",
   "id": "473d794e",
   "metadata": {},
   "source": [
    "# Normalize the features\n",
    "scaler = StandardScaler()\n",
    "X = scaler.fit_transform(X)\n",
    "\n",
    "# Split the dataset into training and testing sets\n",
    "X_train, X_test, y_train, y_test = train_test_split(X, y, test_size=0.2, random_state=42)\n",
    "\n",
    "# Ensure the target variable is integer-encoded (starting from 0)\n",
    "y_train = y_train.astype(int) - 1\n",
    "y_test = y_test.astype(int) - 1\n",
    "\n",
    "# Define the model\n",
    "num_classes = len(np.unique(y_train))\n",
    "model = Sequential()\n",
    "model.add(Dense(10, input_dim=X_train.shape[1], activation='relu'))\n",
    "model.add(Dense(10, activation='relu'))\n",
    "model.add(Dense(num_classes, activation='softmax'))  # Changed activation to 'softmax' and the number of units to match the number of classes\n",
    "model.compile(loss='sparse_categorical_crossentropy', optimizer='adam', metrics=['accuracy'])  # Changed loss to 'sparse_categorical_crossentropy'\n",
    "\n",
    "# Train the model\n",
    "model.fit(X_train, y_train, epochs=50, batch_size=10, verbose=0)\n",
    "\n",
    "# Make predictions on the test set\n",
    "y_pred = model.predict(X_test)\n",
    "y_pred_r = np.argmax(y_pred, axis=1)\n",
    "\n",
    "accuracy = accuracy_score(y_test, y_pred_r)\n",
    "print(\"Accuracy:\", accuracy)\n",
    "\n",
    "# Evaluate the balanced accuracy of the model\n",
    "b_accuracy = balanced_accuracy_score(y_test, y_pred)\n",
    "print(f\"Balanced Accuracy: {b_accuracy:.2f}\")"
   ]
  },
  {
   "attachments": {},
   "cell_type": "markdown",
   "id": "14a09104",
   "metadata": {},
   "source": [
    "CAN ONLY BE RUN ON GOOGLE COLAB\n",
    "TAKES 1O MIN TO RUN AND GIVES AN ACCRACY OF **0.73965**"
   ]
  },
  {
   "attachments": {},
   "cell_type": "markdown",
   "id": "4de9ea30",
   "metadata": {},
   "source": [
    "The achieved accuracy of 0.73 might not be optimal for some applications, and other models might perform better. Some reasons to consider other models include that the chosen model is relatively simple and may not capture the complexity of the relationship between the features and the target variable.\n",
    "\n",
    "Moreover, the number of layers, neurons, and activation functions were selected arbitrarily, and a more systematic approach (e.g., using a grid search or randomized search) might lead to better model configurations.\n",
    "\n",
    "Other models, such as decision trees, random forests, support vector machines, or gradient boosting machines, might have better performance on this particular problem. Ensemble methods, which combine multiple models, can also lead to improved accuracy."
   ]
  },
  {
   "attachments": {},
   "cell_type": "markdown",
   "id": "c7de29ea",
   "metadata": {},
   "source": [
    "<a name=\"model4\"></a>\n",
    "# 4. Random Forests"
   ]
  },
  {
   "attachments": {},
   "cell_type": "markdown",
   "id": "018aed98",
   "metadata": {},
   "source": [
    "The code is using the Random Forest Classifier algorithm to classify the cover type of a forest based on a number of environmental variables such as elevation, slope, and soil type. However, the dataset may contain irrelevant or redundant features that could negatively impact the accuracy of the model, and also increase the risk of overfitting\n",
    "\n",
    "To avoid overfitting, it's important to identify and remove any unnecessary features that do not contribute significantly to the performance of the model"
   ]
  },
  {
   "cell_type": "code",
   "execution_count": 57,
   "id": "f82b9f00",
   "metadata": {},
   "outputs": [
    {
     "name": "stdout",
     "output_type": "stream",
     "text": [
      "Accuracy: 0.88\n",
      "Balanced Accuracy: 0.76\n"
     ]
    }
   ],
   "source": [
    "# Model Random Forest : \n",
    "\n",
    "#try performing feature selection to identify and remove any unnecessary features .\n",
    "#This improves the performance of the model and reduce overfitting\n",
    "\n",
    "from sklearn.model_selection import train_test_split\n",
    "from sklearn.ensemble import RandomForestClassifier\n",
    "from sklearn.metrics import accuracy_score\n",
    "# Perform feature selection\n",
    "from sklearn.feature_selection import SelectFromModel\n",
    "\n",
    "# Create a random forest classifier with 10 trees\n",
    "rfc = RandomForestClassifier(n_estimators=10, random_state=42)\n",
    "rfc.fit(X_train, y_train)\n",
    "\n",
    "y_pred = rfc.predict(X_test)\n",
    "\n",
    "# Evaluate the model\n",
    "accuracy = accuracy_score(y_test, y_pred)\n",
    "print(f\"Accuracy: {accuracy:.2f}\")\n",
    "\n",
    "# Evaluate the balanced accuracy of the model\n",
    "b_accuracy = balanced_accuracy_score(y_test, y_pred)\n",
    "print(f\"Balanced Accuracy: {b_accuracy:.2f}\")"
   ]
  },
  {
   "attachments": {},
   "cell_type": "markdown",
   "id": "af777f5f",
   "metadata": {},
   "source": [
    "<a name=\"model5\"></a>\n",
    "# 5. XG Boosting"
   ]
  },
  {
   "attachments": {},
   "cell_type": "markdown",
   "id": "2a927e43",
   "metadata": {},
   "source": [
    "\n",
    "\n",
    "Now we are using a xgboosting model.XGBoost is a popular gradient boosting algorithm that is known for its accuracy and scalability. In this code, we will train an XGBoost model on our dataset, make predictions on a testing set, and evaluate the model's performance using accuracy. First, the target variable is integer-encoded (starting from 0) by adding 1 to both the training and testing sets. This is necessary because the XGBoost library requires integer labels starting from 0.\n",
    "\n",
    "The XGBoost model is then created with a maximum depth of 3 , 100 estimators, and a learning rate of 0.1.  Why those hyperparameters? \n",
    "* max_depth: specifies the maximum depth of a tree in the boosting process. A smaller max_depth can help avoid overfitting, but a higher value can improve t the model's performance. In this case, a max_depth of 3 is chosen as a balance between complexity and performance.\n",
    "* n_estimators: specifies the number of trees in the model. A higher number of trees can improve the model's performance, but it also increases the training time. In this case, 100 estimators are chosen to provide a good balance between model performance and training time.\n",
    "* learning_rate: specifies the step size shrinkage used to prevent overfitting. A smaller learning rate requires more trees to be added to the model, but it can make the model more robust to noise. In this case, a learning rate of 0.1 is chosen as a reasonable starting point.\n",
    "\n"
   ]
  },
  {
   "cell_type": "code",
   "execution_count": 65,
   "id": "d663311f",
   "metadata": {},
   "outputs": [
    {
     "name": "stdout",
     "output_type": "stream",
     "text": [
      "Accuracy (XGBOOST): 0.74\n",
      "Balanced Accuracy: 0.55\n"
     ]
    },
    {
     "data": {
      "text/plain": [
       "<Figure size 432x288 with 0 Axes>"
      ]
     },
     "metadata": {},
     "output_type": "display_data"
    },
    {
     "data": {
      "image/png": "[encoded data removed]",
      "text/plain": [
       "<Figure size 432x288 with 2 Axes>"
      ]
     },
     "metadata": {
      "needs_background": "light"
     },
     "output_type": "display_data"
    },
    {
     "name": "stdout",
     "output_type": "stream",
     "text": [
      "Classification Report (Gradient Boosting):\n",
      "               precision    recall  f1-score   support\n",
      "\n",
      "           0       0.73      0.72      0.73      7260\n",
      "           1       0.76      0.81      0.79      9780\n",
      "           2       0.66      0.86      0.75      1201\n",
      "           3       0.81      0.61      0.70       108\n",
      "           4       0.77      0.08      0.15       328\n",
      "           5       0.59      0.16      0.25       611\n",
      "           6       0.81      0.58      0.68       712\n",
      "\n",
      "    accuracy                           0.74     20000\n",
      "   macro avg       0.74      0.55      0.58     20000\n",
      "weighted avg       0.74      0.74      0.73     20000\n",
      "\n"
     ]
    }
   ],
   "source": [
    "import xgboost as xgb\n",
    "\n",
    "# Ensure the target variable is integer-encoded (starting from 0)\n",
    "y_train = y_train + 1\n",
    "y_test = y_test + 1\n",
    "\n",
    "# Train an  XGBoosting model\n",
    "gb_model = xgb.XGBClassifier(max_depth=3, n_estimators=100, learning_rate=0.1)\n",
    "gb_model.fit(X_train, y_train)\n",
    "\n",
    "# Make predictions on the testing set\n",
    "y_pred = gb_model.predict(X_test)\n",
    "# Evaluate the model\n",
    "accuracy_gb = accuracy_score(y_test, y_pred)\n",
    "print(f\"Accuracy (XGBOOST): {accuracy_gb:.2f}\")\n",
    "\n",
    "# Evaluate the balanced accuracy of the model\n",
    "b_accuracy = balanced_accuracy_score(y_test, y_pred)\n",
    "print(f\"Balanced Accuracy: {b_accuracy:.2f}\")\n",
    "\n",
    "\n",
    "# Plot confusion matrix\n",
    "plt.figure()\n",
    "plot_confusion_matrix(gb_model, X_test, y_test, cmap=plt.cm.Blues)\n",
    "plt.title(\"Confusion Matrix (XGboost)\")\n",
    "plt.show()\n",
    "\n",
    "# Classification report\n",
    "report_gb = classification_report(y_test, y_pred)\n",
    "print(\"Classification Report (Gradient Boosting):\\n\", report_gb)\n"
   ]
  },
  {
   "attachments": {},
   "cell_type": "markdown",
   "id": "c080447a",
   "metadata": {},
   "source": [
    "We achieved an accuracy of 0.76 which is not a good performance compared to our benchmark model (decision tree). Although using more systematic approach (e.g., using a grid search or randomized search) might lead to better model configurations, We decided to ignore this model since the performance was bad.\n",
    "\n",
    "\n"
   ]
  },
  {
   "attachments": {},
   "cell_type": "markdown",
   "id": "62d75ea2",
   "metadata": {},
   "source": [
    "<a name=\"model6\"></a>\n",
    "## Ensemble Model"
   ]
  },
  {
   "attachments": {},
   "cell_type": "markdown",
   "id": "833c4754",
   "metadata": {},
   "source": [
    "An ensemble model combines multiple individual models to improve the overall performance. One common ensemble technique is the Voting Classifier, which takes the majority vote of different classifiers to make the final prediction. Here's a Voting Classifier using scikit-learn with a Random Forest, a Support Vector Machine, and a Gradient Boosting Classifier.\n",
    "\n",
    "In this example, we create a Voting Classifier that combines a Random Forest, a Support Vector Machine (with a radial kernel), and a Gradient Boosting Classifier. \n",
    "\n",
    "The voting parameter is set to 'soft', which means that the classifier will predict the class label based on the argmax of the class probabilities, calculated as the average of the predicted probabilities of the individual classifiers.\n",
    "\n",
    "It is possible to experiment with different combinations of classifiers and their hyperparameters to find the best performing ensemble for your problem. "
   ]
  },
  {
   "cell_type": "code",
   "execution_count": null,
   "id": "229e6dff",
   "metadata": {},
   "outputs": [],
   "source": [
    "# Create the individual classifiers\n",
    "clf1 = RandomForestClassifier(n_estimators=50, random_state=42, n_jobs=-1)\n",
    "clf2 = make_pipeline(StandardScaler(), SVC(kernel='rbf', probability=True, random_state=42))\n",
    "clf3 = GradientBoostingClassifier(n_estimators=50, random_state=42, n_iter_no_change=5, tol=0.01)\n",
    "\n",
    "# Create the ensemble model (Voting Classifier)\n",
    "eclf = VotingClassifier(estimators=[('rf', clf1), ('svc', clf2), ('gb', clf3)], voting='soft')\n",
    "\n",
    "# Train the ensemble model\n",
    "eclf.fit(X_train, y_train)\n",
    "\n",
    "# Make predictions on the test set\n",
    "y_pred = eclf.predict(X_test)\n",
    "\n",
    "# Calculate the accuracy\n",
    "accuracy = accuracy_score(y_test, y_pred)\n",
    "print(\"Accuracy:\", accuracy)"
   ]
  },
  {
   "attachments": {},
   "cell_type": "markdown",
   "id": "a9ae14c2",
   "metadata": {},
   "source": [
    "To optimize the model we can perform hyperparameter tuning to find the best parameters for the model. We used Grid Search:"
   ]
  },
  {
   "cell_type": "code",
   "execution_count": null,
   "id": "21dfc65f",
   "metadata": {},
   "outputs": [],
   "source": [
    "# Create the individual classifiers with placeholder hyperparameters\n",
    "clf1 = RandomForestClassifier(random_state=42)\n",
    "clf2 = make_pipeline(StandardScaler(), SVC(kernel='linear', probability=True, random_state=42))\n",
    "clf3 = GradientBoostingClassifier(random_state=42)\n",
    "\n",
    "# Create the ensemble model (Voting Classifier)\n",
    "eclf = VotingClassifier(estimators=[('rf', clf1), ('svc', clf2), ('gb', clf3)], voting='soft')\n",
    "\n",
    "# Define the hyperparameters to search\n",
    "param_grid = {\n",
    "    'rf__n_estimators': [50, 100, 200],\n",
    "    'svc__svc__C': [0.1, 1, 10],\n",
    "    'gb__n_estimators': [50, 100, 200],\n",
    "    'gb__learning_rate': [0.01, 0.1, 0.2]\n",
    "}\n",
    "\n",
    "# Create the GridSearchCV object\n",
    "grid = GridSearchCV(estimator=eclf, param_grid=param_grid, cv=5, scoring='accuracy', n_jobs=-1)\n",
    "\n",
    "# Fit the GridSearchCV object to the data\n",
    "grid.fit(X_train, y_train)\n",
    "\n",
    "# Print the best hyperparameters found\n",
    "print(\"Best hyperparameters:\", grid.best_params_)\n",
    "\n",
    "# Make predictions on the test set using the best ensemble model found\n",
    "y_pred = grid.predict(X_test)\n",
    "\n",
    "# Calculate the accuracy\n",
    "accuracy = accuracy_score(y_test, y_pred)\n",
    "print(\"Accuracy:\", accuracy)"
   ]
  },
  {
   "attachments": {},
   "cell_type": "markdown",
   "id": "c053ce39",
   "metadata": {},
   "source": [
    "<a name=\"compare\"></a>\n",
    "## Model Comparison\n",
    "\n"
   ]
  },
  {
   "attachments": {},
   "cell_type": "markdown",
   "id": "df4586c3",
   "metadata": {},
   "source": []
  },
  {
   "attachments": {},
   "cell_type": "markdown",
   "id": "414332df",
   "metadata": {},
   "source": [
    "<a name=\"best\"></a>\n",
    "## Best Model Selection and Improvement\n"
   ]
  },
  {
   "cell_type": "code",
   "execution_count": null,
   "id": "5d173998",
   "metadata": {},
   "outputs": [],
   "source": [
    "# Model Random Forest : \n",
    "\n",
    "#try performing feature selection to identify and remove any unnecessary features .\n",
    "#This improves the performance of the model and reduce overfitting\n",
    "\n",
    "from sklearn.model_selection import train_test_split\n",
    "from sklearn.ensemble import RandomForestClassifier\n",
    "from sklearn.metrics import accuracy_score\n",
    "\n",
    "# Perform feature selection\n",
    "from sklearn.feature_selection import SelectFromModel\n",
    "\n",
    "# Create a random forest classifier with 10 trees\n",
    "rfc = RandomForestClassifier(n_estimators=10, random_state=42)\n",
    "rfc.fit(X_train, y_train)\n",
    "\n",
    "y_pred = rfc.predict(X_test)\n",
    "\n",
    "# Evaluate the model\n",
    "accuracy = accuracy_score(y_test, y_pred)\n",
    "print(f\"Accuracy: {accuracy:.2f}\")\n",
    "\n",
    "\n",
    "# Create a feature selection object\n",
    "selector = SelectFromModel(rfc)\n",
    "\n",
    "# Fit the selector to the training data\n",
    "selector.fit(X_train, y_train)\n",
    "\n",
    "# Transform the training and testing data to only include the selected features\n",
    "X_train_selected = selector.transform(X_train)\n",
    "X_test_selected = selector.transform(X_test)\n",
    "\n",
    "# Fit the model to the training data using only the selected features\n",
    "rfc_selected = RandomForestClassifier(n_estimators=10, random_state=42)\n",
    "rfc_selected.fit(X_train_selected, y_train)\n",
    "\n",
    "# Make predictions on the testing data using only the selected features\n",
    "y_pred_selected = rfc_selected.predict(X_test_selected)\n",
    "\n",
    "# Calculate the accuracy of the model using only the selected features\n",
    "accuracy_selected = accuracy_score(y_test, y_pred_selected)\n",
    "\n",
    "print(\"Accuracy (with feature selection):\", accuracy_selected)\n",
    "\n",
    "# Fit the selector to the training data\n",
    "selector.fit(X_train, y_train)\n",
    "selected_features = X_train.columns[selector.get_support()]\n",
    "print(\"Selected features:\", list(selected_features))\n",
    "\n",
    "rfc_selected.feature_importances_"
   ]
  },
  {
   "attachments": {},
   "cell_type": "markdown",
   "id": "c77ba77f",
   "metadata": {},
   "source": [
    "<a name=\"conclusion\"></a>\n",
    "## Conclusions\n",
    "\n"
   ]
  },
  {
   "attachments": {},
   "cell_type": "markdown",
   "id": "a7ddd1ce",
   "metadata": {},
   "source": []
  },
  {
   "attachments": {},
   "cell_type": "markdown",
   "id": "0e36f5ea",
   "metadata": {},
   "source": [
    "<a name=\"sources\"></a>\n",
    "## Sources\n",
    "\n",
    "Original Owners of Database: \n",
    "\n",
    "Remote Sensing and GIS Program \n",
    "\n",
    "Department of Forest Sciences\n",
    "\n",
    "College of Natural Resources\n",
    "\n",
    "Colorado State University \n",
    "\n",
    "Fort Collins, CO 80523 \n",
    "\n",
    "(contact Jock A. Blackard, jblackard@fs.fed.us or Dr. Denis J. Dean, denis.dean@utdallas.edu) "
   ]
  }
 ],
 "metadata": {
  "kernelspec": {
   "display_name": "Python 3 (ipykernel)",
   "language": "python",
   "name": "python3"
  },
  "language_info": {
   "codemirror_mode": {
    "name": "ipython",
    "version": 3
   },
   "file_extension": ".py",
   "mimetype": "text/x-python",
   "name": "python",
   "nbconvert_exporter": "python",
   "pygments_lexer": "ipython3",
   "version": "3.9.7"
  }
 },
 "nbformat": 4,
 "nbformat_minor": 5
}

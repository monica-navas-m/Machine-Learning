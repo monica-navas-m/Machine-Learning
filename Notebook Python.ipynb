{
 "cells": [
  {
   "cell_type": "markdown",
   "id": "310cddea",
   "metadata": {},
   "source": [
    "# MACHINE LEARNING GROUP PROJECT \n",
    "\n",
    "### Group Members: Helena Krumm (55577), Marouan Kamoun (53833), Mila Gardini (54742), Monica Navas (54577), Yassine Hafi (54466) "
   ]
  },
  {
   "cell_type": "markdown",
   "id": "955e9e61",
   "metadata": {},
   "source": [
    "## **Index**\n",
    "* [Overviews](#intro)\n",
    "* [Business Applications](#intro2)\n",
    "* [Dataset Information (Metadata)](#meta)\n",
    "* [Import libraries](#libraries)\n",
    "* [Reading and Data Cleaning](#clean)\n",
    "* [Exploratory Data Analysis](#eda)\n",
    "* [Model 1 : Decision Tree ](#model1)\n",
    "* [Model 2 : Logistic Regression ](#model2)\n",
    "* [Model 3 : ANN ](#model3)\n",
    "* [Model 4 : Random Forests ](#model4)\n",
    "* [Model 5 : XG Boosting ](#model5)\n",
    "* [Model 6 : Ensemble Model ](#model5)\n",
    "* [Model Comparison](#compare)\n",
    "* [Best Model Selection and Improvement](#best)\n",
    "* [Conclusion](#conclusion)\n",
    "* [Sources](#sources)"
   ]
  },
  {
   "cell_type": "markdown",
   "id": "a8aa4690",
   "metadata": {},
   "source": [
    "<a name=\"intro\"></a>\n",
    "## Overview\n",
    "\n",
    "The cover type is the plant growth characteristic of an area. Forests are one of the most critical ecosystems on our planet, and they provide a range of benefits to both people and the environment. However, forests around the world are facing numerous threats, including deforestation, invasive species, and climate change impacts. To address these issues, we need a better understanding of the state of the forest ecosystem and the factors that influence forest health. This is where environmental monitoring comes in.\n",
    "\n",
    "Our area of interest is Colorado, US, and we aim to provide academical research that will serve as environmental monitoring, which is a critical aspect of sustainable forest management, as it allows us to understand the state of a forest ecosystem and identify potential threats to its health. By analyzing the cartographic variables and forest cover type data in this project, we gain insights into the relationship between different environmental factors and forest health.\n",
    "\n",
    "The \"Covertype\" dataset contains information about forest cover types, data originally derived from the US Forest Service (USFS) and the US Geological Survey (USGS), which can be used to inform various environmental monitoring and management applications. The study area includes four wilderness areas located in the Roosevelt National Forest (1.5 million acres) of northern Colorado. These areas represent forests with minimal human-caused disturbances, so that existing forest cover types are more a result of ecological processes rather than forest management practices.\n",
    "\n",
    "Our scientific research aims to lay the foundation to serve as a benchmark for managerial choices in forest management. Using machine learning models, we can analyze changes of the forest cover over time and identify areas that are undergoing rapid change or that are particularly vulnerable to environmental threats."
   ]
  },
  {
   "cell_type": "markdown",
   "id": "c4c32a6c",
   "metadata": {},
   "source": [
    "<a name=\"intro2\"></a>\n",
    "# Business applications\n",
    "\n",
    "Our environmental monitoring services can ideally benefit a range of clients, but since the area under study, is not affected by woodland exploitation, this research is directed to the government or conservation organizations for the purpose of better management and planning over time. This area has great potential, and our research can be combined in the future with research on local wildlife and animal movement, so that the Colorado state government can properly document and administer the forested space (whether there is the presence of particularly flammable shrubs and where, cleaning the understory in order to prevent fires).\n",
    "\n",
    "**Why does this research have a feasible impact?**\n",
    "\n",
    "Specifically talking about wildfires, there is a growing trend, 2020 witnessed the highest number of wildfires ever recorded in the history of the state of Colorado.\n",
    "\n",
    "<img src=\"Image1.jpeg\" alt=\"Burned Colorado acres\" width=\"400\" height=\"350\">\n",
    "\n",
    "In October 2020, nearly 442,000 acres in north-central Colorado and southern Wyoming have been affected by this season’s wildfires, according to the Rocky Mountain Coordination Center. Approximately 3.000 firefighters and support personnel were involved.\n",
    "\n",
    "<img src=\"Image2.jpeg\" alt=\"Burned Colorado acres\" width=\"200\" height=\"350\">\n",
    "\n",
    "With this research, we provide valuable insights for informed decision-making, benefiting governments and conservation organizations. They can make better choices regarding forest management, wildfire prevention, conservation planning, and climate change adaptation in the Roosevelt National Forest and its surroundings. Additionally, this can be bought and licenced to serve as environmental consulting services from interested organizations operating in or near forested areas in Colorado (and Wyoming). It would help them comply with wildfire prevention regulations, develop emergency response plans, and ensure adherence to environmental laws and guidelines. Expenditures can be minimized on their operations, promoting sustainable practices and safeguarding the long-term sustainability of Colorado's forests."
   ]
  },
  {
   "cell_type": "markdown",
   "id": "0500cf4e",
   "metadata": {},
   "source": [
    "<a name=\"meta\"></a>\n",
    "## Dataset informations\n",
    "\n",
    "Number of instances (observations):  581,012\n",
    "\n",
    "Number of Attributes:\t12 measures, but 54 columns of data(10 quantitative variables, 4 binary wilderness areas and 40 binary soil type variables)\n",
    "\n",
    "\n",
    "1.\tAttribute information:\n",
    "\n",
    "Given is the attribute name, attribute type, the measurement unit and a brief description.  The forest cover type is the classification problem. \n",
    "\n",
    "    Name                                     Data Type    Measurement                       Description\n",
    "\n",
    "    Elevation                               quantitative    meters                       Elevation in meters\n",
    "    Aspect                                  quantitative    azimuth                      Aspect in degrees azimuth\n",
    "    Slope                                   quantitative    degrees                      Slope in degrees\n",
    "    Horizontal_Distance_To_Hydrology        quantitative    meters                       Horz Dist to nearest surface water features\n",
    "    Vertical_Distance_To_Hydrology          quantitative    meters                       Vert Dist to nearest surface water features\n",
    "    Horizontal_Distance_To_Roadways         quantitative    meters                       Horz Dist to nearest roadway\n",
    "    Hillshade_9am                           quantitative    0 to 255 index               Hillshade index at 9am, summer solstice\n",
    "    Hillshade_Noon                          quantitative    0 to 255 index               Hillshade index at noon, summer soltice\n",
    "    Hillshade_3pm                           quantitative    0 to 255 index               Hillshade index at 3pm, summer solstice\n",
    "    Horizontal_Distance_To_Fire_Points      quantitative    meters                       Horz Dist to nearest wildfire ignition points\n",
    "    Wilderness_Area (4 binary columns)      qualitative     0 (absence) or 1 (presence)  Wilderness area designation\n",
    "    Soil_Type (40 binary columns)           qualitative     0 (absence) or 1 (presence)  Soil Type designation\n",
    "    Cover_Type (7 types)                    integer         1 to 7                       Forest Cover Type designation\n",
    "\n",
    "\n",
    "Code Designations:\n",
    "\n",
    "    Wilderness Areas:  \t1 -- Rawah Wilderness Area\n",
    "                        2 -- Neota Wilderness Area\n",
    "                        3 -- Comanche Peak Wilderness Area\n",
    "                        4 -- Cache la Poudre Wilderness Area\n",
    "\n",
    "Soil Types:             1 to 40 : based on the USFS Ecological\n",
    "                        Landtype Units (ELUs) for this study area:\n",
    "\n",
    "\n",
    "      Forest Cover Type Classes:\t1 -- Spruce/Fir\n",
    "                                    2 -- Lodgepole Pine\n",
    "                                    3 -- Ponderosa Pine\n",
    "                                    4 -- Cottonwood/Willow\n",
    "                                    5 -- Aspen\n",
    "                                    6 -- Douglas-fir\n",
    "                                    7 -- Krummholz\n",
    "\n",
    "\n",
    "2.  Basic Summary Statistics for quantitative variables only\n",
    "\t(whole dataset -- thanks to Phil Rennert for the summary values):\n",
    "\n",
    "            Name                                    Units             Mean   Std Dev\n",
    "            Elevation                               meters          2959.36  279.98\n",
    "            Aspect                                  azimuth          155.65  111.91\n",
    "            Slope                                   degrees           14.10    7.49\n",
    "            Horizontal_Distance_To_Hydrology        meters           269.43  212.55\n",
    "            Vertical_Distance_To_Hydrology          meters            46.42   58.30\n",
    "            Horizontal_Distance_To_Roadways         meters          2350.15 1559.25\n",
    "            Hillshade_9am                           0 to 255 index   212.15   26.77\n",
    "            Hillshade_Noon                          0 to 255 index   223.32   19.77\n",
    "            Hillshade_3pm                           0 to 255 index   142.53   38.27\n",
    "            Horizontal_Distance_To_Fire_Points      meters          1980.29 1324.19\n",
    "\n",
    "\n",
    "3.\tMissing Attribute Values:  None.\n",
    "\n",
    "\n",
    "4.\tClass distribution:\n",
    "\n",
    "           Number of records of Spruce-Fir:                211840 \n",
    "           Number of records of Lodgepole Pine:            283301 \n",
    "           Number of records of Ponderosa Pine:             35754 \n",
    "           Number of records of Cottonwood/Willow:           2747\n",
    "           Number of records of Aspen:                       9493 \n",
    "           Number of records of Douglas-fir:                17367 \n",
    "           Number of records of Krummholz:                  20510  \n",
    "           Number of records of other:                          0  \n"
   ]
  },
  {
   "cell_type": "markdown",
   "id": "7a47e565",
   "metadata": {},
   "source": [
    "<a name=\"libraries\"></a>\n",
    "## Importing Libraries"
   ]
  },
  {
   "cell_type": "code",
   "execution_count": 88,
   "id": "4c1df99b",
   "metadata": {},
   "outputs": [],
   "source": [
    "import pandas as pd\n",
    "import numpy as np\n",
    "import seaborn as sns\n",
    "import matplotlib.pyplot as plt\n",
    "\n",
    "from sklearn import tree\n",
    "from sklearn import metrics\n",
    "from sklearn.model_selection import train_test_split, KFold, RandomizedSearchCV, GridSearchCV, cross_val_score\n",
    "from sklearn.tree import DecisionTreeClassifier, plot_tree\n",
    "from sklearn.metrics import balanced_accuracy_score, recall_score, confusion_matrix, classification_report, mean_squared_error, plot_confusion_matrix\n",
    "from sklearn.linear_model import LogisticRegression\n",
    "from sklearn.preprocessing import StandardScaler\n",
    "from sklearn.pipeline import Pipeline, make_pipeline\n",
    "from sklearn.ensemble import RandomForestClassifier, GradientBoostingClassifier, VotingClassifier\n",
    "from sklearn.svm import SVC\n",
    "from sklearn.model_selection import train_test_split\n",
    "from sklearn.ensemble import RandomForestClassifier\n",
    "from sklearn.metrics import accuracy_score\n",
    "\n",
    "import warnings\n",
    "warnings.filterwarnings(\"ignore\")"
   ]
  },
  {
   "cell_type": "markdown",
   "id": "e0c29900",
   "metadata": {},
   "source": [
    "<a name=\"clean\"></a>\n",
    "## Data Loading and Cleaning"
   ]
  },
  {
   "cell_type": "markdown",
   "id": "1e5fe6e5",
   "metadata": {},
   "source": [
    "We have loaded the \"Covertype\" dataset and defined the column names, including binary column names generated based on their positions. Then, we have grouped the soil type columns into a single column by selecting the maximum value column index using idxmax(), creating the resulting column \"Soil type code\". And in the same way, we grouped the wilderness area columns into a single column by selecting the maximum value column index, in the column \"Wilderness area code\".\n",
    "\n",
    "Finally,we created a new column named \"Wilderness area description\", which contains the description of codes for Soil type and wilderness areas.The column \"soil type description\" contains the corresponding description of the soil type code. And we rearranged the order of columns to place \"Cover_Type_code\" at the end. We also created a new column called \"cover type description\" containing the corresponding description of the cover type code.\n",
    "\n",
    "These operations involve data manipulation, column renaming, and the addition of descriptive columns to enhance the interpretability of the dataset."
   ]
  },
  {
   "cell_type": "code",
   "execution_count": 89,
   "id": "d6e434b2",
   "metadata": {},
   "outputs": [
    {
     "data": {
      "text/html": [
       "<div>\n",
       "<style scoped>\n",
       "    .dataframe tbody tr th:only-of-type {\n",
       "        vertical-align: middle;\n",
       "    }\n",
       "\n",
       "    .dataframe tbody tr th {\n",
       "        vertical-align: top;\n",
       "    }\n",
       "\n",
       "    .dataframe thead th {\n",
       "        text-align: right;\n",
       "    }\n",
       "</style>\n",
       "<table border=\"1\" class=\"dataframe\">\n",
       "  <thead>\n",
       "    <tr style=\"text-align: right;\">\n",
       "      <th></th>\n",
       "      <th>Elevation</th>\n",
       "      <th>Aspect</th>\n",
       "      <th>Slope</th>\n",
       "      <th>Horizontal_Distance_To_Hydrology</th>\n",
       "      <th>Vertical_Distance_To_Hydrology</th>\n",
       "      <th>Horizontal_Distance_To_Roadways</th>\n",
       "      <th>Hillshade_9am</th>\n",
       "      <th>Hillshade_Noon</th>\n",
       "      <th>Hillshade_3pm</th>\n",
       "      <th>Horizontal_Distance_To_Fire_Points</th>\n",
       "      <th>...</th>\n",
       "      <th>32</th>\n",
       "      <th>33</th>\n",
       "      <th>34</th>\n",
       "      <th>35</th>\n",
       "      <th>36</th>\n",
       "      <th>37</th>\n",
       "      <th>38</th>\n",
       "      <th>39</th>\n",
       "      <th>40</th>\n",
       "      <th>Cover_Type_code</th>\n",
       "    </tr>\n",
       "  </thead>\n",
       "  <tbody>\n",
       "    <tr>\n",
       "      <th>0</th>\n",
       "      <td>2590</td>\n",
       "      <td>56</td>\n",
       "      <td>2</td>\n",
       "      <td>212</td>\n",
       "      <td>-6</td>\n",
       "      <td>390</td>\n",
       "      <td>220</td>\n",
       "      <td>235</td>\n",
       "      <td>151</td>\n",
       "      <td>6225</td>\n",
       "      <td>...</td>\n",
       "      <td>0</td>\n",
       "      <td>0</td>\n",
       "      <td>0</td>\n",
       "      <td>0</td>\n",
       "      <td>0</td>\n",
       "      <td>0</td>\n",
       "      <td>0</td>\n",
       "      <td>0</td>\n",
       "      <td>0</td>\n",
       "      <td>5</td>\n",
       "    </tr>\n",
       "    <tr>\n",
       "      <th>1</th>\n",
       "      <td>2804</td>\n",
       "      <td>139</td>\n",
       "      <td>9</td>\n",
       "      <td>268</td>\n",
       "      <td>65</td>\n",
       "      <td>3180</td>\n",
       "      <td>234</td>\n",
       "      <td>238</td>\n",
       "      <td>135</td>\n",
       "      <td>6121</td>\n",
       "      <td>...</td>\n",
       "      <td>0</td>\n",
       "      <td>0</td>\n",
       "      <td>0</td>\n",
       "      <td>0</td>\n",
       "      <td>0</td>\n",
       "      <td>0</td>\n",
       "      <td>0</td>\n",
       "      <td>0</td>\n",
       "      <td>0</td>\n",
       "      <td>2</td>\n",
       "    </tr>\n",
       "    <tr>\n",
       "      <th>2</th>\n",
       "      <td>2785</td>\n",
       "      <td>155</td>\n",
       "      <td>18</td>\n",
       "      <td>242</td>\n",
       "      <td>118</td>\n",
       "      <td>3090</td>\n",
       "      <td>238</td>\n",
       "      <td>238</td>\n",
       "      <td>122</td>\n",
       "      <td>6211</td>\n",
       "      <td>...</td>\n",
       "      <td>0</td>\n",
       "      <td>0</td>\n",
       "      <td>0</td>\n",
       "      <td>0</td>\n",
       "      <td>0</td>\n",
       "      <td>0</td>\n",
       "      <td>0</td>\n",
       "      <td>0</td>\n",
       "      <td>0</td>\n",
       "      <td>2</td>\n",
       "    </tr>\n",
       "    <tr>\n",
       "      <th>3</th>\n",
       "      <td>2595</td>\n",
       "      <td>45</td>\n",
       "      <td>2</td>\n",
       "      <td>153</td>\n",
       "      <td>-1</td>\n",
       "      <td>391</td>\n",
       "      <td>220</td>\n",
       "      <td>234</td>\n",
       "      <td>150</td>\n",
       "      <td>6172</td>\n",
       "      <td>...</td>\n",
       "      <td>0</td>\n",
       "      <td>0</td>\n",
       "      <td>0</td>\n",
       "      <td>0</td>\n",
       "      <td>0</td>\n",
       "      <td>0</td>\n",
       "      <td>0</td>\n",
       "      <td>0</td>\n",
       "      <td>0</td>\n",
       "      <td>5</td>\n",
       "    </tr>\n",
       "    <tr>\n",
       "      <th>4</th>\n",
       "      <td>2579</td>\n",
       "      <td>132</td>\n",
       "      <td>6</td>\n",
       "      <td>300</td>\n",
       "      <td>-15</td>\n",
       "      <td>67</td>\n",
       "      <td>230</td>\n",
       "      <td>237</td>\n",
       "      <td>140</td>\n",
       "      <td>6031</td>\n",
       "      <td>...</td>\n",
       "      <td>0</td>\n",
       "      <td>0</td>\n",
       "      <td>0</td>\n",
       "      <td>0</td>\n",
       "      <td>0</td>\n",
       "      <td>0</td>\n",
       "      <td>0</td>\n",
       "      <td>0</td>\n",
       "      <td>0</td>\n",
       "      <td>2</td>\n",
       "    </tr>\n",
       "  </tbody>\n",
       "</table>\n",
       "<p>5 rows × 55 columns</p>\n",
       "</div>"
      ],
      "text/plain": [
       "   Elevation  Aspect  Slope  Horizontal_Distance_To_Hydrology  \\\n",
       "0       2590      56      2                               212   \n",
       "1       2804     139      9                               268   \n",
       "2       2785     155     18                               242   \n",
       "3       2595      45      2                               153   \n",
       "4       2579     132      6                               300   \n",
       "\n",
       "   Vertical_Distance_To_Hydrology   Horizontal_Distance_To_Roadways  \\\n",
       "0                               -6                              390   \n",
       "1                               65                             3180   \n",
       "2                              118                             3090   \n",
       "3                               -1                              391   \n",
       "4                              -15                               67   \n",
       "\n",
       "   Hillshade_9am  Hillshade_Noon  Hillshade_3pm  \\\n",
       "0            220             235            151   \n",
       "1            234             238            135   \n",
       "2            238             238            122   \n",
       "3            220             234            150   \n",
       "4            230             237            140   \n",
       "\n",
       "   Horizontal_Distance_To_Fire_Points  ...  32  33  34  35  36  37  38  39  \\\n",
       "0                                6225  ...   0   0   0   0   0   0   0   0   \n",
       "1                                6121  ...   0   0   0   0   0   0   0   0   \n",
       "2                                6211  ...   0   0   0   0   0   0   0   0   \n",
       "3                                6172  ...   0   0   0   0   0   0   0   0   \n",
       "4                                6031  ...   0   0   0   0   0   0   0   0   \n",
       "\n",
       "   40  Cover_Type_code  \n",
       "0   0                5  \n",
       "1   0                2  \n",
       "2   0                2  \n",
       "3   0                5  \n",
       "4   0                2  \n",
       "\n",
       "[5 rows x 55 columns]"
      ]
     },
     "execution_count": 89,
     "metadata": {},
     "output_type": "execute_result"
    }
   ],
   "source": [
    "df=pd.read_csv(\"./dataset/covtype_data.csv\")\n",
    "\n",
    "# Define column names\n",
    "col_names = ['Elevation', 'Aspect', 'Slope', 'Horizontal_Distance_To_Hydrology', 'Vertical_Distance_To_Hydrology ',\n",
    "             'Horizontal_Distance_To_Roadways', 'Hillshade_9am', 'Hillshade_Noon', 'Hillshade_3pm',\n",
    "             'Horizontal_Distance_To_Fire_Points']\n",
    "\n",
    "# Generate names for binary columns based on their position\n",
    "binary_col_names = [i+1 for i in range(4)]\n",
    "binary_col_names += [i+1 for i in range(40)]\n",
    "\n",
    "# Append the binary column names to the list of column names\n",
    "col_names += binary_col_names\n",
    "\n",
    "# Append the target variable name to the list of column names\n",
    "col_names.append('Cover_Type_code')\n",
    "\n",
    "# Rename the columns in the DataFrame\n",
    "df.columns = col_names\n",
    "df.head()"
   ]
  },
  {
   "cell_type": "code",
   "execution_count": 90,
   "id": "cf08c065",
   "metadata": {},
   "outputs": [
    {
     "data": {
      "text/html": [
       "<div>\n",
       "<style scoped>\n",
       "    .dataframe tbody tr th:only-of-type {\n",
       "        vertical-align: middle;\n",
       "    }\n",
       "\n",
       "    .dataframe tbody tr th {\n",
       "        vertical-align: top;\n",
       "    }\n",
       "\n",
       "    .dataframe thead th {\n",
       "        text-align: right;\n",
       "    }\n",
       "</style>\n",
       "<table border=\"1\" class=\"dataframe\">\n",
       "  <thead>\n",
       "    <tr style=\"text-align: right;\">\n",
       "      <th></th>\n",
       "      <th>Elevation</th>\n",
       "      <th>Aspect</th>\n",
       "      <th>Slope</th>\n",
       "      <th>Horizontal_Distance_To_Hydrology</th>\n",
       "      <th>Vertical_Distance_To_Hydrology</th>\n",
       "      <th>Horizontal_Distance_To_Roadways</th>\n",
       "      <th>Hillshade_9am</th>\n",
       "      <th>Hillshade_Noon</th>\n",
       "      <th>Hillshade_3pm</th>\n",
       "      <th>Horizontal_Distance_To_Fire_Points</th>\n",
       "      <th>Cover_Type_code</th>\n",
       "      <th>Soil type code</th>\n",
       "      <th>Wilderness area code</th>\n",
       "    </tr>\n",
       "  </thead>\n",
       "  <tbody>\n",
       "    <tr>\n",
       "      <th>0</th>\n",
       "      <td>2590</td>\n",
       "      <td>56</td>\n",
       "      <td>2</td>\n",
       "      <td>212</td>\n",
       "      <td>-6</td>\n",
       "      <td>390</td>\n",
       "      <td>220</td>\n",
       "      <td>235</td>\n",
       "      <td>151</td>\n",
       "      <td>6225</td>\n",
       "      <td>5</td>\n",
       "      <td>29</td>\n",
       "      <td>1</td>\n",
       "    </tr>\n",
       "    <tr>\n",
       "      <th>1</th>\n",
       "      <td>2804</td>\n",
       "      <td>139</td>\n",
       "      <td>9</td>\n",
       "      <td>268</td>\n",
       "      <td>65</td>\n",
       "      <td>3180</td>\n",
       "      <td>234</td>\n",
       "      <td>238</td>\n",
       "      <td>135</td>\n",
       "      <td>6121</td>\n",
       "      <td>2</td>\n",
       "      <td>12</td>\n",
       "      <td>1</td>\n",
       "    </tr>\n",
       "    <tr>\n",
       "      <th>2</th>\n",
       "      <td>2785</td>\n",
       "      <td>155</td>\n",
       "      <td>18</td>\n",
       "      <td>242</td>\n",
       "      <td>118</td>\n",
       "      <td>3090</td>\n",
       "      <td>238</td>\n",
       "      <td>238</td>\n",
       "      <td>122</td>\n",
       "      <td>6211</td>\n",
       "      <td>2</td>\n",
       "      <td>30</td>\n",
       "      <td>1</td>\n",
       "    </tr>\n",
       "    <tr>\n",
       "      <th>3</th>\n",
       "      <td>2595</td>\n",
       "      <td>45</td>\n",
       "      <td>2</td>\n",
       "      <td>153</td>\n",
       "      <td>-1</td>\n",
       "      <td>391</td>\n",
       "      <td>220</td>\n",
       "      <td>234</td>\n",
       "      <td>150</td>\n",
       "      <td>6172</td>\n",
       "      <td>5</td>\n",
       "      <td>29</td>\n",
       "      <td>1</td>\n",
       "    </tr>\n",
       "    <tr>\n",
       "      <th>4</th>\n",
       "      <td>2579</td>\n",
       "      <td>132</td>\n",
       "      <td>6</td>\n",
       "      <td>300</td>\n",
       "      <td>-15</td>\n",
       "      <td>67</td>\n",
       "      <td>230</td>\n",
       "      <td>237</td>\n",
       "      <td>140</td>\n",
       "      <td>6031</td>\n",
       "      <td>2</td>\n",
       "      <td>29</td>\n",
       "      <td>1</td>\n",
       "    </tr>\n",
       "  </tbody>\n",
       "</table>\n",
       "</div>"
      ],
      "text/plain": [
       "   Elevation  Aspect  Slope  Horizontal_Distance_To_Hydrology  \\\n",
       "0       2590      56      2                               212   \n",
       "1       2804     139      9                               268   \n",
       "2       2785     155     18                               242   \n",
       "3       2595      45      2                               153   \n",
       "4       2579     132      6                               300   \n",
       "\n",
       "   Vertical_Distance_To_Hydrology   Horizontal_Distance_To_Roadways  \\\n",
       "0                               -6                              390   \n",
       "1                               65                             3180   \n",
       "2                              118                             3090   \n",
       "3                               -1                              391   \n",
       "4                              -15                               67   \n",
       "\n",
       "   Hillshade_9am  Hillshade_Noon  Hillshade_3pm  \\\n",
       "0            220             235            151   \n",
       "1            234             238            135   \n",
       "2            238             238            122   \n",
       "3            220             234            150   \n",
       "4            230             237            140   \n",
       "\n",
       "   Horizontal_Distance_To_Fire_Points  Cover_Type_code  Soil type code  \\\n",
       "0                                6225                5              29   \n",
       "1                                6121                2              12   \n",
       "2                                6211                2              30   \n",
       "3                                6172                5              29   \n",
       "4                                6031                2              29   \n",
       "\n",
       "   Wilderness area code  \n",
       "0                     1  \n",
       "1                     1  \n",
       "2                     1  \n",
       "3                     1  \n",
       "4                     1  "
      ]
     },
     "execution_count": 90,
     "metadata": {},
     "output_type": "execute_result"
    }
   ],
   "source": [
    "#Grouping the soil type columns into 1 column\n",
    "df['Soil type code'] = df.iloc[:, 14:54].idxmax(axis=1)\n",
    "df = pd.concat([df.iloc[:, :14], df.iloc[:, 54:]], axis=1)\n",
    "#Grouping the Wilderness Areas columns into 1 column\n",
    "df['Wilderness area code'] = df.iloc[:, 10:14].idxmax(axis=1)\n",
    "df = pd.concat([df.iloc[:, :10], df.iloc[:, 14:]], axis=1)\n",
    "df.head()"
   ]
  },
  {
   "cell_type": "code",
   "execution_count": 91,
   "id": "cb624cb4",
   "metadata": {},
   "outputs": [
    {
     "data": {
      "text/html": [
       "<div>\n",
       "<style scoped>\n",
       "    .dataframe tbody tr th:only-of-type {\n",
       "        vertical-align: middle;\n",
       "    }\n",
       "\n",
       "    .dataframe tbody tr th {\n",
       "        vertical-align: top;\n",
       "    }\n",
       "\n",
       "    .dataframe thead th {\n",
       "        text-align: right;\n",
       "    }\n",
       "</style>\n",
       "<table border=\"1\" class=\"dataframe\">\n",
       "  <thead>\n",
       "    <tr style=\"text-align: right;\">\n",
       "      <th></th>\n",
       "      <th>Elevation</th>\n",
       "      <th>Aspect</th>\n",
       "      <th>Slope</th>\n",
       "      <th>Horizontal_Distance_To_Hydrology</th>\n",
       "      <th>Vertical_Distance_To_Hydrology</th>\n",
       "      <th>Horizontal_Distance_To_Roadways</th>\n",
       "      <th>Hillshade_9am</th>\n",
       "      <th>Hillshade_Noon</th>\n",
       "      <th>Hillshade_3pm</th>\n",
       "      <th>Horizontal_Distance_To_Fire_Points</th>\n",
       "      <th>Soil type code</th>\n",
       "      <th>Wilderness area code</th>\n",
       "      <th>Wilderness area description</th>\n",
       "      <th>soil type description</th>\n",
       "      <th>Cover_Type_code</th>\n",
       "      <th>cover type description</th>\n",
       "    </tr>\n",
       "  </thead>\n",
       "  <tbody>\n",
       "    <tr>\n",
       "      <th>0</th>\n",
       "      <td>2590</td>\n",
       "      <td>56</td>\n",
       "      <td>2</td>\n",
       "      <td>212</td>\n",
       "      <td>-6</td>\n",
       "      <td>390</td>\n",
       "      <td>220</td>\n",
       "      <td>235</td>\n",
       "      <td>151</td>\n",
       "      <td>6225</td>\n",
       "      <td>29</td>\n",
       "      <td>1</td>\n",
       "      <td>Rawah Wilderness Area</td>\n",
       "      <td>Como - Legault families complex, extremely stony.</td>\n",
       "      <td>5</td>\n",
       "      <td>Aspen</td>\n",
       "    </tr>\n",
       "    <tr>\n",
       "      <th>1</th>\n",
       "      <td>2804</td>\n",
       "      <td>139</td>\n",
       "      <td>9</td>\n",
       "      <td>268</td>\n",
       "      <td>65</td>\n",
       "      <td>3180</td>\n",
       "      <td>234</td>\n",
       "      <td>238</td>\n",
       "      <td>135</td>\n",
       "      <td>6121</td>\n",
       "      <td>12</td>\n",
       "      <td>1</td>\n",
       "      <td>Rawah Wilderness Area</td>\n",
       "      <td>Legault family - Rock land complex, stony.</td>\n",
       "      <td>2</td>\n",
       "      <td>Lodgepole Pine</td>\n",
       "    </tr>\n",
       "    <tr>\n",
       "      <th>2</th>\n",
       "      <td>2785</td>\n",
       "      <td>155</td>\n",
       "      <td>18</td>\n",
       "      <td>242</td>\n",
       "      <td>118</td>\n",
       "      <td>3090</td>\n",
       "      <td>238</td>\n",
       "      <td>238</td>\n",
       "      <td>122</td>\n",
       "      <td>6211</td>\n",
       "      <td>30</td>\n",
       "      <td>1</td>\n",
       "      <td>Rawah Wilderness Area</td>\n",
       "      <td>Como family - Rock land - Legault family compl...</td>\n",
       "      <td>2</td>\n",
       "      <td>Lodgepole Pine</td>\n",
       "    </tr>\n",
       "    <tr>\n",
       "      <th>3</th>\n",
       "      <td>2595</td>\n",
       "      <td>45</td>\n",
       "      <td>2</td>\n",
       "      <td>153</td>\n",
       "      <td>-1</td>\n",
       "      <td>391</td>\n",
       "      <td>220</td>\n",
       "      <td>234</td>\n",
       "      <td>150</td>\n",
       "      <td>6172</td>\n",
       "      <td>29</td>\n",
       "      <td>1</td>\n",
       "      <td>Rawah Wilderness Area</td>\n",
       "      <td>Como - Legault families complex, extremely stony.</td>\n",
       "      <td>5</td>\n",
       "      <td>Aspen</td>\n",
       "    </tr>\n",
       "    <tr>\n",
       "      <th>4</th>\n",
       "      <td>2579</td>\n",
       "      <td>132</td>\n",
       "      <td>6</td>\n",
       "      <td>300</td>\n",
       "      <td>-15</td>\n",
       "      <td>67</td>\n",
       "      <td>230</td>\n",
       "      <td>237</td>\n",
       "      <td>140</td>\n",
       "      <td>6031</td>\n",
       "      <td>29</td>\n",
       "      <td>1</td>\n",
       "      <td>Rawah Wilderness Area</td>\n",
       "      <td>Como - Legault families complex, extremely stony.</td>\n",
       "      <td>2</td>\n",
       "      <td>Lodgepole Pine</td>\n",
       "    </tr>\n",
       "  </tbody>\n",
       "</table>\n",
       "</div>"
      ],
      "text/plain": [
       "   Elevation  Aspect  Slope  Horizontal_Distance_To_Hydrology  \\\n",
       "0       2590      56      2                               212   \n",
       "1       2804     139      9                               268   \n",
       "2       2785     155     18                               242   \n",
       "3       2595      45      2                               153   \n",
       "4       2579     132      6                               300   \n",
       "\n",
       "   Vertical_Distance_To_Hydrology   Horizontal_Distance_To_Roadways  \\\n",
       "0                               -6                              390   \n",
       "1                               65                             3180   \n",
       "2                              118                             3090   \n",
       "3                               -1                              391   \n",
       "4                              -15                               67   \n",
       "\n",
       "   Hillshade_9am  Hillshade_Noon  Hillshade_3pm  \\\n",
       "0            220             235            151   \n",
       "1            234             238            135   \n",
       "2            238             238            122   \n",
       "3            220             234            150   \n",
       "4            230             237            140   \n",
       "\n",
       "   Horizontal_Distance_To_Fire_Points  Soil type code  Wilderness area code  \\\n",
       "0                                6225              29                     1   \n",
       "1                                6121              12                     1   \n",
       "2                                6211              30                     1   \n",
       "3                                6172              29                     1   \n",
       "4                                6031              29                     1   \n",
       "\n",
       "  Wilderness area description  \\\n",
       "0       Rawah Wilderness Area   \n",
       "1       Rawah Wilderness Area   \n",
       "2       Rawah Wilderness Area   \n",
       "3       Rawah Wilderness Area   \n",
       "4       Rawah Wilderness Area   \n",
       "\n",
       "                               soil type description  Cover_Type_code  \\\n",
       "0  Como - Legault families complex, extremely stony.                5   \n",
       "1         Legault family - Rock land complex, stony.                2   \n",
       "2  Como family - Rock land - Legault family compl...                2   \n",
       "3  Como - Legault families complex, extremely stony.                5   \n",
       "4  Como - Legault families complex, extremely stony.                2   \n",
       "\n",
       "  cover type description  \n",
       "0                  Aspen  \n",
       "1         Lodgepole Pine  \n",
       "2         Lodgepole Pine  \n",
       "3                  Aspen  \n",
       "4         Lodgepole Pine  "
      ]
     },
     "execution_count": 91,
     "metadata": {},
     "output_type": "execute_result"
    }
   ],
   "source": [
    "df1=df.copy()\n",
    "#add a column with the description of codes for Soil type and wilderness areas\n",
    "Wilderness_areas_list=['Rawah Wilderness Area','Neota Wilderness Area','Comanche Peak Wilderness Area' ,'Cache la Poudre Wilderness Area']\n",
    "df1['Wilderness area description']=[Wilderness_areas_list[col-1] for col in df1['Wilderness area code']]\n",
    "\n",
    "list_of_soil_type=pd.read_csv(\"./dataset/list_of_soil_types.csv\")\n",
    "list_of_soil_type=list(list_of_soil_type)\n",
    "df1['soil type description']=[list_of_soil_type[col-1] for col in df1['Soil type code']]\n",
    "\n",
    "new_order = [col for col in df1.columns if col != 'Cover_Type_code'] + ['Cover_Type_code']\n",
    "df1 = df1[new_order]\n",
    "\n",
    "cover_type_list=['Spruce/Fir','Lodgepole Pine','Ponderosa Pine','Cottonwood/Willow','Aspen','Douglas-fir','Krummholz']\n",
    "df1['cover type description']=[cover_type_list[col-1] for col in df1['Cover_Type_code']]\n",
    "df1.head()"
   ]
  },
  {
   "cell_type": "markdown",
   "id": "134a026e",
   "metadata": {},
   "source": [
    "<a name=\"eda\"></a>\n",
    "## Exploratory Data Analysis"
   ]
  },
  {
   "cell_type": "markdown",
   "id": "50a1eb31",
   "metadata": {},
   "source": [
    "The Exploratory Data Analysis (EDA) is a critical step in data analysis process that aims to summarize, visualize, and understand the underlying structure and patterns in a dataset. This helps in identifying trends, anomalies, and potential relationships among variables, which can ultimately lead to the development of appropriate statistical models and hypothesis testing.\n",
    "\n",
    "In our project, the dataset consists of binary columns representing wilderness areas and soil types, as well as the target variable, which is the forest cover type.\n",
    "\n",
    "To perform the EDA, the team started by defining column names and generating names for binary columns based on their position. These binary column names were then appended to the list of column names, along with the target variable (cover type). After renaming the columns in the dataframe, the team proceeded to analyze the numerical columns by printing summary statistics.\n",
    "\n",
    "This process helped to gain a better understanding of the central tendencies and dispersion within the data.\n",
    "\n",
    "To further explore the distribution of the target variable, we printed the count of each target value and created a histogram. This provided insights into the frequency of different forest cover types and highlighted potential imbalances in the dataset. By examining the dataset in this manner, our group was able to identify trends, patterns, and potential relationships among variables, which will help us selecting the appropriate techniques for modeling and prediction in the next stages of the paper."
   ]
  },
  {
   "cell_type": "code",
   "execution_count": 92,
   "id": "a89a7673",
   "metadata": {},
   "outputs": [
    {
     "data": {
      "text/html": [
       "<div>\n",
       "<style scoped>\n",
       "    .dataframe tbody tr th:only-of-type {\n",
       "        vertical-align: middle;\n",
       "    }\n",
       "\n",
       "    .dataframe tbody tr th {\n",
       "        vertical-align: top;\n",
       "    }\n",
       "\n",
       "    .dataframe thead th {\n",
       "        text-align: right;\n",
       "    }\n",
       "</style>\n",
       "<table border=\"1\" class=\"dataframe\">\n",
       "  <thead>\n",
       "    <tr style=\"text-align: right;\">\n",
       "      <th></th>\n",
       "      <th>Elevation</th>\n",
       "      <th>Aspect</th>\n",
       "      <th>Slope</th>\n",
       "      <th>Horizontal_Distance_To_Hydrology</th>\n",
       "      <th>Vertical_Distance_To_Hydrology</th>\n",
       "      <th>Horizontal_Distance_To_Roadways</th>\n",
       "      <th>Hillshade_9am</th>\n",
       "      <th>Hillshade_Noon</th>\n",
       "      <th>Hillshade_3pm</th>\n",
       "      <th>Horizontal_Distance_To_Fire_Points</th>\n",
       "      <th>Cover_Type_code</th>\n",
       "      <th>Soil type code</th>\n",
       "      <th>Wilderness area code</th>\n",
       "    </tr>\n",
       "  </thead>\n",
       "  <tbody>\n",
       "    <tr>\n",
       "      <th>count</th>\n",
       "      <td>581011.000000</td>\n",
       "      <td>581011.000000</td>\n",
       "      <td>581011.000000</td>\n",
       "      <td>581011.000000</td>\n",
       "      <td>581011.000000</td>\n",
       "      <td>581011.000000</td>\n",
       "      <td>581011.000000</td>\n",
       "      <td>581011.000000</td>\n",
       "      <td>581011.000000</td>\n",
       "      <td>581011.000000</td>\n",
       "      <td>581011.000000</td>\n",
       "      <td>581011.000000</td>\n",
       "      <td>581011.000000</td>\n",
       "    </tr>\n",
       "    <tr>\n",
       "      <th>mean</th>\n",
       "      <td>2959.365926</td>\n",
       "      <td>155.656988</td>\n",
       "      <td>14.103723</td>\n",
       "      <td>269.428236</td>\n",
       "      <td>46.418935</td>\n",
       "      <td>2350.149779</td>\n",
       "      <td>212.146033</td>\n",
       "      <td>223.318701</td>\n",
       "      <td>142.528253</td>\n",
       "      <td>1980.283828</td>\n",
       "      <td>2.051465</td>\n",
       "      <td>24.362435</td>\n",
       "      <td>2.114464</td>\n",
       "    </tr>\n",
       "    <tr>\n",
       "      <th>std</th>\n",
       "      <td>279.984569</td>\n",
       "      <td>111.913733</td>\n",
       "      <td>7.488234</td>\n",
       "      <td>212.549538</td>\n",
       "      <td>58.295250</td>\n",
       "      <td>1559.254343</td>\n",
       "      <td>26.769909</td>\n",
       "      <td>19.768711</td>\n",
       "      <td>38.274561</td>\n",
       "      <td>1324.184340</td>\n",
       "      <td>1.396500</td>\n",
       "      <td>9.485412</td>\n",
       "      <td>1.061295</td>\n",
       "    </tr>\n",
       "    <tr>\n",
       "      <th>min</th>\n",
       "      <td>1859.000000</td>\n",
       "      <td>0.000000</td>\n",
       "      <td>0.000000</td>\n",
       "      <td>0.000000</td>\n",
       "      <td>-173.000000</td>\n",
       "      <td>0.000000</td>\n",
       "      <td>0.000000</td>\n",
       "      <td>0.000000</td>\n",
       "      <td>0.000000</td>\n",
       "      <td>0.000000</td>\n",
       "      <td>1.000000</td>\n",
       "      <td>1.000000</td>\n",
       "      <td>1.000000</td>\n",
       "    </tr>\n",
       "    <tr>\n",
       "      <th>25%</th>\n",
       "      <td>2809.000000</td>\n",
       "      <td>58.000000</td>\n",
       "      <td>9.000000</td>\n",
       "      <td>108.000000</td>\n",
       "      <td>7.000000</td>\n",
       "      <td>1106.000000</td>\n",
       "      <td>198.000000</td>\n",
       "      <td>213.000000</td>\n",
       "      <td>119.000000</td>\n",
       "      <td>1024.000000</td>\n",
       "      <td>1.000000</td>\n",
       "      <td>20.000000</td>\n",
       "      <td>1.000000</td>\n",
       "    </tr>\n",
       "    <tr>\n",
       "      <th>50%</th>\n",
       "      <td>2996.000000</td>\n",
       "      <td>127.000000</td>\n",
       "      <td>13.000000</td>\n",
       "      <td>218.000000</td>\n",
       "      <td>30.000000</td>\n",
       "      <td>1997.000000</td>\n",
       "      <td>218.000000</td>\n",
       "      <td>226.000000</td>\n",
       "      <td>143.000000</td>\n",
       "      <td>1710.000000</td>\n",
       "      <td>2.000000</td>\n",
       "      <td>29.000000</td>\n",
       "      <td>2.000000</td>\n",
       "    </tr>\n",
       "    <tr>\n",
       "      <th>75%</th>\n",
       "      <td>3163.000000</td>\n",
       "      <td>260.000000</td>\n",
       "      <td>18.000000</td>\n",
       "      <td>384.000000</td>\n",
       "      <td>69.000000</td>\n",
       "      <td>3328.000000</td>\n",
       "      <td>231.000000</td>\n",
       "      <td>237.000000</td>\n",
       "      <td>168.000000</td>\n",
       "      <td>2550.000000</td>\n",
       "      <td>2.000000</td>\n",
       "      <td>31.000000</td>\n",
       "      <td>3.000000</td>\n",
       "    </tr>\n",
       "    <tr>\n",
       "      <th>max</th>\n",
       "      <td>3858.000000</td>\n",
       "      <td>360.000000</td>\n",
       "      <td>66.000000</td>\n",
       "      <td>1397.000000</td>\n",
       "      <td>601.000000</td>\n",
       "      <td>7117.000000</td>\n",
       "      <td>254.000000</td>\n",
       "      <td>254.000000</td>\n",
       "      <td>254.000000</td>\n",
       "      <td>7173.000000</td>\n",
       "      <td>7.000000</td>\n",
       "      <td>40.000000</td>\n",
       "      <td>4.000000</td>\n",
       "    </tr>\n",
       "  </tbody>\n",
       "</table>\n",
       "</div>"
      ],
      "text/plain": [
       "           Elevation         Aspect          Slope  \\\n",
       "count  581011.000000  581011.000000  581011.000000   \n",
       "mean     2959.365926     155.656988      14.103723   \n",
       "std       279.984569     111.913733       7.488234   \n",
       "min      1859.000000       0.000000       0.000000   \n",
       "25%      2809.000000      58.000000       9.000000   \n",
       "50%      2996.000000     127.000000      13.000000   \n",
       "75%      3163.000000     260.000000      18.000000   \n",
       "max      3858.000000     360.000000      66.000000   \n",
       "\n",
       "       Horizontal_Distance_To_Hydrology  Vertical_Distance_To_Hydrology   \\\n",
       "count                     581011.000000                    581011.000000   \n",
       "mean                         269.428236                        46.418935   \n",
       "std                          212.549538                        58.295250   \n",
       "min                            0.000000                      -173.000000   \n",
       "25%                          108.000000                         7.000000   \n",
       "50%                          218.000000                        30.000000   \n",
       "75%                          384.000000                        69.000000   \n",
       "max                         1397.000000                       601.000000   \n",
       "\n",
       "       Horizontal_Distance_To_Roadways  Hillshade_9am  Hillshade_Noon  \\\n",
       "count                    581011.000000  581011.000000   581011.000000   \n",
       "mean                       2350.149779     212.146033      223.318701   \n",
       "std                        1559.254343      26.769909       19.768711   \n",
       "min                           0.000000       0.000000        0.000000   \n",
       "25%                        1106.000000     198.000000      213.000000   \n",
       "50%                        1997.000000     218.000000      226.000000   \n",
       "75%                        3328.000000     231.000000      237.000000   \n",
       "max                        7117.000000     254.000000      254.000000   \n",
       "\n",
       "       Hillshade_3pm  Horizontal_Distance_To_Fire_Points  Cover_Type_code  \\\n",
       "count  581011.000000                       581011.000000    581011.000000   \n",
       "mean      142.528253                         1980.283828         2.051465   \n",
       "std        38.274561                         1324.184340         1.396500   \n",
       "min         0.000000                            0.000000         1.000000   \n",
       "25%       119.000000                         1024.000000         1.000000   \n",
       "50%       143.000000                         1710.000000         2.000000   \n",
       "75%       168.000000                         2550.000000         2.000000   \n",
       "max       254.000000                         7173.000000         7.000000   \n",
       "\n",
       "       Soil type code  Wilderness area code  \n",
       "count   581011.000000         581011.000000  \n",
       "mean        24.362435              2.114464  \n",
       "std          9.485412              1.061295  \n",
       "min          1.000000              1.000000  \n",
       "25%         20.000000              1.000000  \n",
       "50%         29.000000              2.000000  \n",
       "75%         31.000000              3.000000  \n",
       "max         40.000000              4.000000  "
      ]
     },
     "execution_count": 92,
     "metadata": {},
     "output_type": "execute_result"
    }
   ],
   "source": [
    "# Print the summary statistics of the numerical columns\n",
    "df.describe()"
   ]
  },
  {
   "cell_type": "markdown",
   "id": "a94874ea",
   "metadata": {},
   "source": [
    "The count, mean, min, and max rows are self-explanatory. The std row shows the standard deviation (which measures how dispersed the values are). The 25%, 50%, and 75% rows show the corresponding percentiles: a percentile indicates the value below which a given percentage of observations in a group of observations falls.\n",
    "\n",
    "Another quick way to get a feel of the type of data you are dealing with is to plot a histogram for each numerical attribute. A histogram shows the number of instances (on the vertical axis) that have a given value range (on the horizontal axis). You can either plot this one attribute at a time, or you can call the hist() method on the whole dataset, and it will plot a histogram for each numerical attribute."
   ]
  },
  {
   "cell_type": "code",
   "execution_count": 93,
   "id": "f83cbd84",
   "metadata": {},
   "outputs": [
    {
     "data": {
      "image/png": "[encoded data removed]",
      "text/plain": [
       "<Figure size 1440x1080 with 16 Axes>"
      ]
     },
     "metadata": {
      "needs_background": "light"
     },
     "output_type": "display_data"
    }
   ],
   "source": [
    "df1.hist(bins=40, figsize=(20,15))\n",
    "plt.show()"
   ]
  },
  {
   "cell_type": "markdown",
   "id": "c5d061d3",
   "metadata": {},
   "source": [
    "The histogram plot shows the distribution of all the numeric columns in the dataset.\n",
    "\n",
    "* The \"Elevation\" column seems to be roughly normally distributed, with the majority of values falling in the range of 2500-3300.\n",
    "\n",
    "* The \"Aspect\" column appears to have a roughly uniform distribution, with no clear trend or peak in the data.\n",
    "* The \"Slope\" column has a right-skewed distribution, indicating that the majority of slopes are relatively gentle, with a long tail of steeper slopes.\n",
    "* The \"Horizontal_Distance_To_Hydrology\" and \"Vertical_Distance_To_Hydrology\" columns both have a strong peak at 0, indicating that many of the observations have no distance to hydrology.\n",
    "* The \"Horizontal_Distance_To_Roadways\" column is roughly normally distributed, with a peak around 0-500.\n",
    "* The \"Hillshade\" columns (9am, Noon, and 3pm) are all roughly normally distributed, with peaks around 200-255.\n",
    "* The \"Horizontal_Distance_To_Fire_Points\" column is right-skewed, indicating that the majority of observations have relatively short distances to fire points."
   ]
  },
  {
   "cell_type": "markdown",
   "id": "0f59b2a2",
   "metadata": {},
   "source": [
    "Now we divide the data to train and test sets to explore the train set only.\n",
    "\n",
    "We are doing this in order to avoid the \"data snooping bias\": the bias that can come up when analyzing data that has been manipulated or transformed based on information that would not have been available at the time of the analysis (being so early in the analysis yet). It could lead us into selecting a particular kind of machine learning model based on too optimist observations."
   ]
  },
  {
   "cell_type": "code",
   "execution_count": 94,
   "id": "3b879f6d",
   "metadata": {},
   "outputs": [],
   "source": [
    "train_set, test_set = train_test_split(df1, test_size=0.2, random_state=42)\n",
    "train = train_set.copy()"
   ]
  },
  {
   "cell_type": "code",
   "execution_count": 95,
   "id": "006aee4f",
   "metadata": {},
   "outputs": [
    {
     "data": {
      "text/plain": [
       "Cover_Type_code                       1.000000\n",
       "Wilderness area code                  0.275949\n",
       "Elevation                             0.268716\n",
       "Soil type code                        0.163948\n",
       "Horizontal_Distance_To_Roadways       0.152799\n",
       "Slope                                 0.149232\n",
       "Horizontal_Distance_To_Fire_Points    0.108663\n",
       "Hillshade_Noon                        0.096688\n",
       "Vertical_Distance_To_Hydrology        0.081706\n",
       "Hillshade_3pm                         0.048396\n",
       "Hillshade_9am                         0.035737\n",
       "Horizontal_Distance_To_Hydrology      0.020585\n",
       "Aspect                                0.016621\n",
       "Name: Cover_Type_code, dtype: float64"
      ]
     },
     "execution_count": 95,
     "metadata": {},
     "output_type": "execute_result"
    }
   ],
   "source": [
    "corr_matrix = train.corr()\n",
    "abs_corr_matrix = corr_matrix.abs()\n",
    "abs_corr_matrix[\"Cover_Type_code\"].sort_values(ascending=False)"
   ]
  },
  {
   "cell_type": "markdown",
   "id": "e08a072f",
   "metadata": {},
   "source": [
    "We studied the correlation of the features with our target feature. We used correlation study the statistical relationship with our target variable (Cover Type Code). We used the absolute value of the correlation to focus on the strength of the relationship to identify the variables that have a strong relationship with the target variable, regardless of whether that relationship is positive or negative. \n",
    "\n",
    "In general, the correlations with the target variable are not strong. The most correlated features with Cover Type are Wilderness area code, Elevation and Soil Type. These correlation results will be used further in our analysis to select our features for the models. "
   ]
  },
  {
   "cell_type": "markdown",
   "id": "0e381567",
   "metadata": {},
   "source": [
    "### Distribution of cover type"
   ]
  },
  {
   "cell_type": "code",
   "execution_count": 96,
   "id": "f0ac1c30",
   "metadata": {},
   "outputs": [
    {
     "data": {
      "image/png": "[encoded data removed]",
      "text/plain": [
       "<Figure size 720x576 with 1 Axes>"
      ]
     },
     "metadata": {
      "needs_background": "light"
     },
     "output_type": "display_data"
    }
   ],
   "source": [
    "# plot a histogram of the distribution'cover type description' column\n",
    "plt.figure(figsize=(10, 8))\n",
    "percentage = df1['Cover_Type_code'].value_counts(normalize=True) * 100\n",
    "# create a bar plot of the percentages of each unique value in the 'cover type description' column\n",
    "percentage.plot(kind='bar')\n",
    "# display the plot\n",
    "plt.xlabel('Cover Type')\n",
    "plt.ylabel('Percentage')\n",
    "\n",
    "# add percentage labels to the bars\n",
    "for index, value in enumerate(percentage):\n",
    "    code = percentage.index[index]\n",
    "    desc = df1[df1['Cover_Type_code'] == code]['cover type description'].unique()[0]\n",
    "    plt.text(index, value + 1, f'{code} - {desc}\\n{round(value, 2)}%', ha='center')\n",
    "\n",
    "plt.show()"
   ]
  },
  {
   "cell_type": "markdown",
   "id": "b9c8cf69",
   "metadata": {},
   "source": [
    "### Feature Analysis "
   ]
  },
  {
   "cell_type": "markdown",
   "id": "b8ff05a0",
   "metadata": {},
   "source": [
    "#### Distribution of elevation"
   ]
  },
  {
   "cell_type": "code",
   "execution_count": 97,
   "id": "beb484bf",
   "metadata": {},
   "outputs": [
    {
     "data": {
      "image/png": "[encoded data removed]",
      "text/plain": [
       "<Figure size 432x288 with 1 Axes>"
      ]
     },
     "metadata": {
      "needs_background": "light"
     },
     "output_type": "display_data"
    }
   ],
   "source": [
    "# Create a density plot of the 'elevation' column\n",
    "sns.kdeplot(df1['Elevation'], shade=True)\n",
    "plt.xlabel('Elevation')\n",
    "plt.ylabel('Density')\n",
    "plt.title('Distribution of Elevation')\n",
    "plt.show()"
   ]
  },
  {
   "cell_type": "code",
   "execution_count": 98,
   "id": "79cdc2da",
   "metadata": {},
   "outputs": [
    {
     "data": {
      "text/plain": [
       "<AxesSubplot:xlabel='Cover_Type_code', ylabel='Elevation'>"
      ]
     },
     "execution_count": 98,
     "metadata": {},
     "output_type": "execute_result"
    },
    {
     "data": {
      "image/png": "[encoded data removed]",
      "text/plain": [
       "<Figure size 432x288 with 1 Axes>"
      ]
     },
     "metadata": {
      "needs_background": "light"
     },
     "output_type": "display_data"
    }
   ],
   "source": [
    "sns.boxplot(x='Cover_Type_code', y='Elevation', data=df1)"
   ]
  },
  {
   "cell_type": "markdown",
   "id": "a90fbcfc",
   "metadata": {},
   "source": [
    "From the plot, we can see that Cover_Type_code 1, 2, and 7 have relatively higher median elevations than the other categories. In contrast, Cover_Type_code 3 and 4 have lower median elevations."
   ]
  },
  {
   "cell_type": "markdown",
   "id": "d9fe004d",
   "metadata": {},
   "source": [
    "#### Distribution of wilderness area"
   ]
  },
  {
   "cell_type": "code",
   "execution_count": 99,
   "id": "4af22ae3",
   "metadata": {},
   "outputs": [
    {
     "data": {
      "image/png": "[encoded data removed]",
      "text/plain": [
       "<Figure size 720x576 with 1 Axes>"
      ]
     },
     "metadata": {
      "needs_background": "light"
     },
     "output_type": "display_data"
    }
   ],
   "source": [
    "# plot a histogram of the distribution'cover type description' column\n",
    "plt.figure(figsize=(10, 8))\n",
    "percentage = df1['Soil type code'].value_counts(normalize=True) * 100\n",
    "# create a bar plot of the percentages of each unique value in the 'Wilderness area description' column\n",
    "percentage.plot(kind='bar')\n",
    "# display the plot\n",
    "plt.xlabel('Wilderness area')\n",
    "plt.ylabel('percentage')\n",
    "\n",
    "plt.show()"
   ]
  },
  {
   "cell_type": "code",
   "execution_count": 100,
   "id": "65c15e52",
   "metadata": {},
   "outputs": [
    {
     "data": {
      "image/png": "[encoded data removed]",
      "text/plain": [
       "<Figure size 720x576 with 1 Axes>"
      ]
     },
     "metadata": {
      "needs_background": "light"
     },
     "output_type": "display_data"
    }
   ],
   "source": [
    "# plot a histogram of the distribution'cover type description' column\n",
    "plt.figure(figsize=(10, 8))\n",
    "percentage = train['Wilderness area description'].value_counts(normalize=True) * 100\n",
    "# create a bar plot of the percentages of each unique value in the 'Wilderness area description' column\n",
    "percentage.plot(kind='bar')\n",
    "# display the plot\n",
    "plt.xlabel('Wilderness area')\n",
    "plt.ylabel('percentage')\n",
    "\n",
    "# add percentage labels to the bars\n",
    "for index, value in enumerate(percentage):\n",
    "    plt.text(index, value + 1, str(round(value, 2)) + '%', ha='center')\n",
    "plt.show()"
   ]
  },
  {
   "cell_type": "markdown",
   "id": "0178f57d",
   "metadata": {},
   "source": [
    "# Models:\n",
    "\n",
    "In order to predict forest cover types based on cartographic variables, our team has selected six different machine learning models, which are well-suited to this dataset and our business case. Below we explain why we opted for those models:  \n",
    "\n",
    "* **Decision Tree:** Decision trees are an ideal choice for our dataset because they can handle both numerical and categorical features, like the binary columns for wilderness areas and soil types. These models are easily interpretable and can capture non-linear relationships between features and the target variable. Moreover, they are capable of selecting the most relevant features for prediction, which can help improve overall model performance.\n",
    "\n",
    "* **Logistic Regression**: is a well-established classification algorithm that is suitable for this dataset. It is useful when the relationship between the features and the target variable is expected to be linear. Logistic Regression models estimate the probabilities of each class, making them interpretable and providing insights. They can handle both numerical and categorical features, making them applicable to our dataset with cartographic variables.\n",
    "\n",
    "* **Neural Network**: they have gained significant popularity in recent years due to their ability to capture complex patterns and relationships in data. They are capable of learning hierarchical representations of features, which can be advantageous when dealing with high-dimensional datasets like ours. Neural Networks excel in capturing non-linear relationships and can handle a wide range of data types. They have the potential to uncover intricate patterns in the cartographic variables and make accurate predictions.\n",
    "\n",
    "* **XGBoosting:** Extreme Gradient Boosting, is a powerful machine learning algorithm that enhances gradient boosting. It excels in handling complex datasets with high dimensionality and non-linear relationships. XGBoosting incorporates regularization techniques and optimized algorithms, providing advantages such as faster computation speed and parallel processing. By combining weak prediction models, it creates a strong ensemble. Including XGBoosting alongside other models in our ensemble allows us to explore diverse algorithms and maximize accuracy. Thorough evaluation will determine its contribution to predicting forest cover types based on cartographic variables.\n",
    "\n",
    "* **Random Forests:** they are well-suited for this dataset due to their ability to handle both numerical and categorical features, such as the binary columns for wilderness areas and soil types. Random Forests are capable of capturing non-linear relationships, selecting relevant features, and providing robust predictions. They are also less prone to overfitting compared to individual decision trees. Random Forests have been widely used in various domains for classification tasks, including predicting forest cover types.\n",
    "\n",
    "* **Ensemble Model:** an ensemble model combines predictions from multiple individual models to improve overall performance. By leveraging the diverse strengths of different models, an ensemble can capture a wider range of patterns and reduce the risk of individual model biases. In our case, we can create an ensemble by combining the predictions of the selected machine learning models (such as Decision Tree, Logistic Regression, Neural Network, GBoosting, and Random Forests) using techniques like Voting Classifier or Stacking. \n",
    "\n",
    "By considering and evaluating these diverse machine learning models, we can explore their unique characteristics and strengths to make accurate predictions of forest cover types based on the provided cartographic variables.\n",
    "\n",
    "\n",
    "By employing these six machine learning models, we aim to harness their unique strengths and capabilities in order to accurately predict forest cover types for our dataset. Through rigorous model evaluation and comparison, we will select the best-performing model that achieves the highest prediction accuracy and generalization performance."
   ]
  },
  {
   "cell_type": "markdown",
   "id": "67560610",
   "metadata": {},
   "source": [
    "### Definining Features and Target Variables for our models"
   ]
  },
  {
   "cell_type": "markdown",
   "id": "d0bdff45",
   "metadata": {},
   "source": [
    "In ML, having a large amount of data is crucial for training models that can accurately make predictions. However, processing large datasets can be computationally expensive and time-consuming, especially when running multiple models. Therefore, using a smaller subset of the data can help to reduce the time and computational resources required for training and testing models.\n",
    "\n",
    "In this case, using a subset of 100,000 instances allows us to build and test multiple models quickly without sacrificing too much data. By randomly selecting a subset, we can ensure that the sample is representative of the larger dataset while reducing the overall size of the data. This approach can be particularly useful when dealing with big data, where even a small subset can be sufficiently representative of the entire dataset.\n",
    "\n",
    "Moreover, using a smaller subset can also help to avoid overfitting, which occurs when a model is trained too closely on the training data and fails to generalize to new data. By using a smaller subset, we can limit the complexity of the models we build, making them less likely to overfit."
   ]
  },
  {
   "cell_type": "code",
   "execution_count": 101,
   "id": "ff39d841",
   "metadata": {},
   "outputs": [],
   "source": [
    "# Choose a random subset of the data (because the dataset is too large)\n",
    "subset_size = 100000 # Change this value to the desired subset size\n",
    "random_indices = np.random.choice(df.index, subset_size, replace=False)\n",
    "df_subset = df.loc[random_indices]"
   ]
  },
  {
   "cell_type": "markdown",
   "id": "88a172e9",
   "metadata": {},
   "source": [
    "We represented the distribution of the classes before and after using a subset of the data. As can be portrayed, the distribution was not affected. "
   ]
  },
  {
   "cell_type": "code",
   "execution_count": 102,
   "id": "c8206e5d",
   "metadata": {},
   "outputs": [
    {
     "data": {
      "image/png": "[encoded data removed]",
      "text/plain": [
       "<Figure size 1440x576 with 2 Axes>"
      ]
     },
     "metadata": {
      "needs_background": "light"
     },
     "output_type": "display_data"
    }
   ],
   "source": [
    "fig, ax = plt.subplots(1, 2, figsize=(20, 8))\n",
    "\n",
    "# plot a histogram of the distribution'cover type description' column\n",
    "percentage1 = df1['Cover_Type_code'].value_counts(normalize=True) * 100\n",
    "# create a bar plot of the percentages of each unique value in the 'cover type description' column\n",
    "percentage1.plot(kind='bar', ax=ax[0])\n",
    "# display the plot\n",
    "ax[0].set_xlabel('Cover Type')\n",
    "ax[0].set_ylabel('Percentage')\n",
    "ax[0].set_title(\"Cover Type Class Distribution (Full Dataset)\")\n",
    "\n",
    "# add percentage labels to the bars\n",
    "for index, value in enumerate(percentage1):\n",
    "    code = percentage1.index[index]\n",
    "    desc = df1[df1['Cover_Type_code'] == code]['cover type description'].unique()[0]\n",
    "    ax[0].text(index, value + 1, f'{code} - {desc}\\n{round(value, 2)}%', ha='center')\n",
    "\n",
    "# plot a histogram of the distribution'cover type description' column\n",
    "percentage2 = df_subset['Cover_Type_code'].value_counts(normalize=True) * 100\n",
    "# create a bar plot of the percentages of each unique value in the 'cover type description' column\n",
    "percentage2.plot(kind='bar', ax=ax[1])\n",
    "# display the plot\n",
    "ax[1].set_xlabel('Cover Type')\n",
    "ax[1].set_ylabel('Percentage')\n",
    "ax[1].set_title(\"Cover Type Class Distribution (Using Subset)\")\n",
    "\n",
    "# add percentage labels to the bars\n",
    "for index, value in enumerate(percentage2):\n",
    "    code = percentage2.index[index]\n",
    "   # desc = df_subset[df_subset['Cover_Type_code'] == code]['cover type description'].unique()[0]\n",
    "    ax[1].text(index, value + 1, f'{code} - {desc}\\n{round(value, 2)}%', ha='center')\n",
    "\n",
    "plt.tight_layout()\n",
    "plt.show()"
   ]
  },
  {
   "cell_type": "markdown",
   "id": "ee7fe820",
   "metadata": {},
   "source": [
    "We then stduied, with the use of EDA and business application, which features we would use for training our models. We used correlation study the statistical relationship with our target variable (Cover Type Code). We used the absolute value of the correlation to focus on the strength of the relationship to identify the variables that have a strong relationship with the target variable, regardless of whether that relationship is positive or negative. "
   ]
  },
  {
   "cell_type": "code",
   "execution_count": 103,
   "id": "6975d12e",
   "metadata": {},
   "outputs": [
    {
     "data": {
      "text/plain": [
       "Cover_Type_code                       1.000000\n",
       "Wilderness area code                  0.275949\n",
       "Elevation                             0.268716\n",
       "Soil type code                        0.163948\n",
       "Horizontal_Distance_To_Roadways       0.152799\n",
       "Slope                                 0.149232\n",
       "Horizontal_Distance_To_Fire_Points    0.108663\n",
       "Hillshade_Noon                        0.096688\n",
       "Vertical_Distance_To_Hydrology        0.081706\n",
       "Hillshade_3pm                         0.048396\n",
       "Hillshade_9am                         0.035737\n",
       "Horizontal_Distance_To_Hydrology      0.020585\n",
       "Aspect                                0.016621\n",
       "Name: Cover_Type_code, dtype: float64"
      ]
     },
     "execution_count": 103,
     "metadata": {},
     "output_type": "execute_result"
    }
   ],
   "source": [
    "corr_matrix = train.corr()\n",
    "abs_corr_matrix = corr_matrix.abs()\n",
    "abs_corr_matrix[\"Cover_Type_code\"].sort_values(ascending=False)"
   ]
  },
  {
   "cell_type": "markdown",
   "id": "c49422dd",
   "metadata": {},
   "source": [
    "We first tried to train our models with all the features in the datatset. However, we then decided to reduce the number of features and chose the most relevant considering correlation with the target variable. We set a benchmark correlation of 0.05 and chose all variable above. "
   ]
  },
  {
   "cell_type": "code",
   "execution_count": 104,
   "id": "e5557bfe",
   "metadata": {},
   "outputs": [],
   "source": [
    "# Separate features and target variable\n",
    "X = df_subset[[\"Wilderness area code\", \"Elevation\", \"Soil type code\", 'Horizontal_Distance_To_Roadways', 'Horizontal_Distance_To_Fire_Points', 'Slope', \"Hillshade_Noon\", \"Vertical_Distance_To_Hydrology \"]]\n",
    "y = df_subset[\"Cover_Type_code\"]"
   ]
  },
  {
   "cell_type": "markdown",
   "id": "05c90404",
   "metadata": {},
   "source": [
    "### Splitting the dataset into training and testing"
   ]
  },
  {
   "cell_type": "markdown",
   "id": "7b5669a7",
   "metadata": {},
   "source": [
    "Dividing the dataset into training and testing sets is an essential step in machine learning to evaluate the performance of the model. In this case, the dataset is split into 80% training data and 20% testing data.\n",
    "\n",
    "The reason for using an 80/20 split is that it strikes a balance between having enough data to train the model while still having a sufficient amount of data to evaluate the model's performance. The training data is used to fit the model parameters, while the testing data is used to evaluate how well the model generalizes to new, unseen data.\n",
    "\n",
    "If we use too little data for training, the model may not learn the underlying patterns in the data correctly, resulting in poor performance. Conversely, if we use too much data for training, the model may overfit, which means it will perform well on the training data but poorly on the testing data.\n",
    "\n",
    "The 80/20 split is a common default choice for many machine learning applications, but it can be adjusted based on the size and complexity of the dataset and the problem being solved. For example, if the dataset is small, we may need to use a higher percentage of the data for training, such as a 70/30 split. In contrast, if the dataset is large, we may use a smaller percentage for training, such as a 90/10 split."
   ]
  },
  {
   "cell_type": "code",
   "execution_count": 105,
   "id": "42cef542",
   "metadata": {},
   "outputs": [],
   "source": [
    "# Split the dfset into training and testing subsets\n",
    "X_train, X_test, y_train, y_test = train_test_split(X, y, test_size=0.2, random_state=42)"
   ]
  },
  {
   "cell_type": "markdown",
   "id": "1f33f9df",
   "metadata": {},
   "source": [
    "### Why Accuracy Evaluation ?"
   ]
  },
  {
   "cell_type": "markdown",
   "id": "658c4b87",
   "metadata": {},
   "source": [
    "The research on environmental monitoring and forest cover analysis necessitates careful consideration of evaluation metrics to assess machine learning model performance. In this study, the utilization of \"accuracy\" and \"balanced accuracy\" as evaluation parameters proves highly motivating for several reasons.\n",
    "\n",
    "Accuracy, a widely embraced metric in machine learning, gauges the proportion of correctly classified instances among the total instances in the dataset. Aiming for high accuracy entails the development of models that effectively predict forest cover types based on provided cartographic variables. As an evaluation parameter, accuracy, motivates the focus on minimizing misclassifications, recognizing that even small errors in classifying forest cover types can have consequences. Striving for high accuracy ensures the provision of effective and reliable information for forest management decisions, wildfire prevention strategies, conservation planning, and climate change adaptation.\n",
    "\n",
    "\n",
    "We also used Confusion Matrix for understanding the types of errors a model is making. However, the confusion matrix alone does not provide a single aggregated metric that represents overall model performance, which is important for making informed decisions in environmental monitoring and forest management.Therefore, we used it as for further understanding but not as our main evaluation parameter. \n",
    "\n",
    "**Why not other Evaluation methods?**\n",
    "\n",
    "Precision, recall, and AUC-ROC are valuable evaluation metrics that provide a comprehensive view of a model's performance. However, in the context of our research on environmental monitoring and forest cover analysis in Colorado, we chose not to utilize them for the following reasons:\n",
    "\n",
    "Precision: in our case, precision may not be the most suitable metric because the focus is not solely on identifying positive instances, but rather on accurately classifying different forest cover types. Precision alone does not provide sufficient information.\n",
    "\n",
    "Recall: while recall is important in scenarios where identifying all positive instances is critical, such as in medical diagnosis, our research primarily focuses on understanding the state of the forest ecosystem and identifying potential threats to its health.\n",
    "\n",
    "\n",
    "AUC-ROC: in our paper, where the primary focus is on accurate forest cover type classification rather than binary classification, the AUC-ROC may not provide a suitable evaluation metric.\n",
    "\n",
    "In conclusion, the adoption of accuracy and balanced accuracy as evaluation parameters in this research emphasizes the development of reliable models for forest cover type classification. The aim is always to obtain high accuracy that ensures our models contribute to informed decision-making, promote an impact on forest management, conservation efforts, and the overall well-being of Colorado's forests and ecosystems."
   ]
  },
  {
   "cell_type": "markdown",
   "id": "bc56c3cd",
   "metadata": {},
   "source": [
    "<a name=\"model1\"></a>\n",
    "\n",
    "## 1. Decision Tree"
   ]
  },
  {
   "cell_type": "markdown",
   "id": "2227c20b",
   "metadata": {},
   "source": [
    "We implemented a Decision Tree Model, as it serves as a favored machine leaning algorithm when dealing with classification problems, as it can handle both numerical and categorical data, is easy to interpret and visualize and also relatively fast to train. The model was used to analyze the relationship between various cartographic variables and forest health, aiming to predict our target variable, the forest cover type.\n",
    "\n",
    "In a first step we defined the features (X) as a subset of the dataset. We split the dataset into a training and testing set. The test dataset size is set to 20% of the total dataset, and a random state of 42 is used for reproducibility.\n",
    "\n",
    "A decision tree classifier is created using the DecisionTreeClassifier. The random_state parameter is set to 42 for consistent results.\n",
    "\n",
    "A dictionary param_grid is created with three hyperparameters: max_depth, min_samples_split, and min_samples_leaf.\n",
    "\n",
    "Regarding the hyperparameters:\n",
    "\n",
    "max_depth: This parameter controls the maximum depth of the tree. A smaller depth can prevent overfitting, while a larger depth may allow the model to capture more complex relationships in the data. The range of 1 to 4 is relatively small but in this case appropriate for the dataset size and complexity.\n",
    "\n",
    "min_samples_split: This parameter determines the minimum number of samples required to split an internal node. Increasing this value can lead to a more conservative tree, helping to avoid overfitting. The range of 2 to 4 with a step of 2 only includes the value 2, which is the minimum allowed value.\n",
    "\n",
    "min_samples_leaf: This parameter specifies the minimum number of samples required to be at a leaf node. Larger values create a more conservative tree, which can help prevent overfitting. The range of 1 to 4 with a step of 2 includes the values 1 and 3, providing some flexibility.\n",
    "\n",
    "We experimented with different ranges to find the best hyperparameters for our dataset.\n",
    "\n",
    "Next, we fitted the model and made predictions using the trained model to predict the forest cover type for the testing dataset. Then we evaluated the model by calculating the accuracy of the model using the testing dataset. This assisted us to understand how well the model performed in predicting the correct forest cover type.\n",
    "\n",
    "In a final step, we computed the confusion matrix and a heatmap  to gain more insights into the performance of the model, understanding how well it classified each cover type and identifying areas where it might have struggled. "
   ]
  },
  {
   "cell_type": "code",
   "execution_count": 106,
   "id": "0572f302",
   "metadata": {},
   "outputs": [
    {
     "name": "stdout",
     "output_type": "stream",
     "text": [
      "Accuracy: 0.86275\n"
     ]
    },
    {
     "data": {
      "text/plain": [
       "Text(0.5, 257.44, 'Predicted label')"
      ]
     },
     "execution_count": 106,
     "metadata": {},
     "output_type": "execute_result"
    },
    {
     "data": {
      "image/png": "[encoded data removed]",
      "text/plain": [
       "<Figure size 432x288 with 2 Axes>"
      ]
     },
     "metadata": {
      "needs_background": "light"
     },
     "output_type": "display_data"
    }
   ],
   "source": [
    "features = list(X.columns)\n",
    "\n",
    "# Split the dataset into training and testing subsets\n",
    "X_train, X_test, y_train, y_test = train_test_split(X, y, test_size=0.2, random_state=42)\n",
    "\n",
    "# Create a decision tree classifier with a range of depths to search\n",
    "clf = DecisionTreeClassifier(random_state=42)\n",
    "param_grid = {\n",
    "    \"max_depth\": range(1, 4),\n",
    "    \"min_samples_split\": range(2, 4, 2),\n",
    "    \"min_samples_leaf\": range(1, 4, 2)\n",
    "}\n",
    "\n",
    "#decision_tree = DecisionTreeClassifier(random_state=0, max_depth=2)\n",
    "\n",
    "# Use GridSearchCV to find the best hyperparameters\n",
    "#grid_search = GridSearchCV(clf, param_grid, scoring=\"accuracy\", cv=5, n_jobs=-1)\n",
    "clf.fit(X_train, y_train)\n",
    "#best_clf = grid_search.best_estimator_\n",
    "\n",
    "# Make predictions on the testing dataset\n",
    "y_pred = clf.predict(X_test)\n",
    "\n",
    "# Evaluate the accuracy of the model\n",
    "accuracy_m1 = accuracy_score(y_test, y_pred)\n",
    "print(\"Accuracy:\", accuracy_m1)\n",
    "\n",
    "# Calculate the confusion matrix of the model\n",
    "cm = confusion_matrix(y_test, y_pred)\n",
    "\n",
    "class_names = [0, 1, 2, 3, 4, 5, 6]  # Name of classes\n",
    "fig, ax = plt.subplots()\n",
    "tick_marks = np.arange(len(class_names))\n",
    "plt.xticks(tick_marks, class_names)\n",
    "plt.yticks(tick_marks, class_names)\n",
    "\n",
    "# Create heatmap\n",
    "sns.heatmap(pd.DataFrame(cm), annot=True, cmap=\"YlGnBu\", fmt='g')\n",
    "ax.xaxis.set_label_position(\"top\")\n",
    "plt.tight_layout()\n",
    "plt.title('Confusion matrix', y=1.1)\n",
    "plt.ylabel('Actual label')\n",
    "plt.xlabel('Predicted label')"
   ]
  },
  {
   "cell_type": "markdown",
   "id": "45f4ca2a",
   "metadata": {},
   "source": [
    "A confusion matrix is a table that shows the predicted and actual class labels for a classification problem. The rows of the matrix represent the true class labels, and the columns represent the predicted class labels. Each cell contains the number of instances for a specific combination of true and predicted labels. The diagonal elements of the matrix correspond to correct predictions, while the off-diagonal elements represent incorrect predictions. In this case, the confusion matrix is visualized as a heatmap to better understand the model's performance across different classes\n",
    "\n",
    "The implementation of a decision tree model enabled us to predict forest cover types based on the given cartographic variables. However, it is important to note that decision trees also have drawbacks, one being their tendency to overfit the training data. In order to mitigate this issue, we played around with hyperparameters such as maximum depth and finetuned the model, as can be seen by its accuracy of 0.86."
   ]
  },
  {
   "cell_type": "markdown",
   "id": "c16146dd",
   "metadata": {},
   "source": [
    "<a name=\"model2\"></a>\n",
    "# 2. Logistic Regression"
   ]
  },
  {
   "cell_type": "markdown",
   "id": "01950c5a",
   "metadata": {},
   "source": [
    "We decided to use a logistic regression model for this task due to its simplicity, interpretability, and effectiveness in many classification problems. We performed feature scaling with StandardScaler by removing the mean and scaling to unit variance to standardize the input features due to scaling sensitivity. This way, we ensure that all features have the same scale, which helps the logistic regression algorithm converge faster and provide better performance.\n",
    "\n",
    "After feature scaling, we proceeded to train the logistic regression model using the LogisticRegression class from the scikit-learn library. We set the maximum number of iterations to 500 to give the optimization algorithm enough iterations to converge to an optimal solution. In some cases, logistic regression models may require more iterations to find the optimal weights, especially when dealing with complex datasets or large feature spaces. By setting a higher number of iterations, we can ensure that the optimization algorithm has sufficient opportunities to find the best solution within the given constraint.\n",
    "\n",
    "We used the 'lbfgs' solver as it is a popular optimization algorithm for logistic regression. This algorithm is an efficient optimization technique that approximates the BFGS algorithm using a limited amount of memory. This solver is suitable for large-scale problems and can handle a wide range of data sizes and complexities. Additionally, the 'lbfgs' solver works well with L2 regularization, which is commonly used in logistic regression to prevent overfitting and improve generalization.\n",
    "\n",
    "We specified the multi_class parameter as 'multinomial' to handle the multi-class classification problem. In a multi-class classification problem, there are more than two classes to predict. The 'multinomial' option enables the logistic regression model to handle such problems by using the softmax function to estimate probabilities for each class. The softmax function is a generalization of the logistic function that can handle multiple classes, converting the model's output into class probabilities. By using the 'multinomial' option, we ensure that our logistic regression model is well-suited to handle the multi-class nature of the cover type classification problem.\n",
    "\n",
    "Once the logistic regression model was trained, we made predictions on the test set and evaluated its performance using accuracy as the performance metric. Accuracy is a common metric used to measure the proportion of correct predictions made by the model out of the total number of predictions. We also performed cross-validation to assess the model's generalization capability. Cross-validation is a technique used to estimate the performance of a model on unseen data by splitting the training data into multiple subsets, training the model on each subset, and evaluating the performance on the remaining data. In our case, we used 5-fold cross-validation, which means that the training data was split into five equal parts."
   ]
  },
  {
   "cell_type": "code",
   "execution_count": 107,
   "id": "4d475cae",
   "metadata": {},
   "outputs": [
    {
     "name": "stderr",
     "output_type": "stream",
     "text": [
      "/Users/monicanavasmimiaga/opt/anaconda3/lib/python3.9/site-packages/sklearn/linear_model/_logistic.py:814: ConvergenceWarning: lbfgs failed to converge (status=1):\n",
      "STOP: TOTAL NO. of ITERATIONS REACHED LIMIT.\n",
      "\n",
      "Increase the number of iterations (max_iter) or scale the data as shown in:\n",
      "    https://scikit-learn.org/stable/modules/preprocessing.html\n",
      "Please also refer to the documentation for alternative solver options:\n",
      "    https://scikit-learn.org/stable/modules/linear_model.html#logistic-regression\n",
      "  n_iter_i = _check_optimize_result(\n"
     ]
    },
    {
     "name": "stdout",
     "output_type": "stream",
     "text": [
      "Accuracy: 0.63\n",
      "Balanced Accuracy: 0.29\n"
     ]
    },
    {
     "data": {
      "text/plain": [
       "<Figure size 432x288 with 0 Axes>"
      ]
     },
     "metadata": {},
     "output_type": "display_data"
    },
    {
     "data": {
      "image/png": "[encoded data removed]",
      "text/plain": [
       "<Figure size 432x288 with 2 Axes>"
      ]
     },
     "metadata": {
      "needs_background": "light"
     },
     "output_type": "display_data"
    }
   ],
   "source": [
    "# Feature scaling\n",
    "scaler = StandardScaler()\n",
    "X_train_scaled = scaler.fit_transform(X_train)\n",
    "X_test_scaled = scaler.transform(X_test)\n",
    "\n",
    "# Train a logistic regression model\n",
    "logreg = LogisticRegression(max_iter=500, solver='lbfgs', multi_class='multinomial', n_jobs=-1)\n",
    "logreg.fit(X_train, y_train)\n",
    "\n",
    "# Make predictions on the testing set\n",
    "y_pred = logreg.predict(X_test)\n",
    "\n",
    "# Evaluate the model\n",
    "accuracy_m2 = accuracy_score(y_test, y_pred)\n",
    "print(f\"Accuracy: {accuracy_m2:.2f}\")\n",
    "\n",
    "b_accuracy = balanced_accuracy_score(y_test, y_pred)\n",
    "print(f\"Balanced Accuracy: {b_accuracy:.2f}\")\n",
    "\n",
    "\n",
    "# Confusion matrix\n",
    "cm = confusion_matrix(y_test, y_pred)\n",
    "\n",
    "# Plot confusion matrix\n",
    "plt.figure()\n",
    "plot_confusion_matrix(logreg, X_test_scaled, y_test, cmap=plt.cm.Blues)\n",
    "plt.title(\"Confusion Matrix\")\n",
    "plt.show()"
   ]
  },
  {
   "cell_type": "markdown",
   "id": "df034c4c",
   "metadata": {},
   "source": [
    "We chose logistic regression with feature scaling for this cover type classification task due to its simplicity, interpretability, and effectiveness for such problems. We also evaluated the model using accuracy and cross-validation to ensure its generalizability to unseen data.\n",
    "\n",
    "While logistic regression is a simple and interpretable model often used for classification problems, it may not always be the best choice depending on the complexity and nature of the problem. In our case, the reported accuracy of 0.71 indicates that the model's performance is not optimal compared to other models. The confusion matrix shows that the model did not classify the cover types accurately."
   ]
  },
  {
   "cell_type": "markdown",
   "id": "38ab9d6c",
   "metadata": {},
   "source": [
    "<a name=\"model3\"></a>\n",
    "# 3. Artificial Neural Networks"
   ]
  },
  {
   "cell_type": "markdown",
   "id": "70d039d4",
   "metadata": {},
   "source": [
    "We used a simple feedforward neural network (also known as a multilayer perceptron) for predicting cover types, which is a classification problem. The model is implemented using the Keras library. \n",
    "\n",
    "We used the StandardScaler from scikit-learn to normalize the features. This is important as it helps to ensure that all features have a similar scale, which can improve the performance of the model.\n",
    "\n",
    "\n",
    "We ensured that the target variable is integer-encoded and starts from 0, which is required when using 'sparse_categorical_crossentropy' as the loss function. The model consists of an input layer, two hidden layers with 10 neurons each, and an output layer. The activation functions used are ReLU (rectified linear unit) for the hidden layers and softmax for the output layer. Softmax is used for the output layer because it is suitable for multi-class classification problems, as it converts the output into probabilities that sum to 1.\n",
    "\n",
    "The model is compiled using 'sparse_categorical_crossentropy' as the loss function and the 'adam' optimizer. The 'sparse_categorical_crossentropy' loss function is suitable for multi-class classification problems with integer-encoded labels. We trained the model for 50 epochs with a batch size of 10.\n"
   ]
  },
  {
   "cell_type": "raw",
   "id": "473d794e",
   "metadata": {},
   "source": [
    "# Normalize the features\n",
    "scaler = StandardScaler()\n",
    "X = scaler.fit_transform(X)\n",
    "\n",
    "# Split the dataset into training and testing sets\n",
    "X_train, X_test, y_train, y_test = train_test_split(X, y, test_size=0.2, random_state=42)\n",
    "\n",
    "# Ensure the target variable is integer-encoded (starting from 0)\n",
    "y_train = y_train.astype(int) - 1\n",
    "y_test = y_test.astype(int) - 1\n",
    "\n",
    "# Define the model\n",
    "num_classes = len(np.unique(y_train))\n",
    "model = Sequential()\n",
    "model.add(Dense(10, input_dim=X_train.shape[1], activation='relu'))\n",
    "model.add(Dense(10, activation='relu'))\n",
    "model.add(Dense(num_classes, activation='softmax'))  # Changed activation to 'softmax' and the number of units to match the number of classes\n",
    "model.compile(loss='sparse_categorical_crossentropy', optimizer='adam', metrics=['accuracy'])  # Changed loss to 'sparse_categorical_crossentropy'\n",
    "\n",
    "# Train the model\n",
    "model.fit(X_train, y_train, epochs=50, batch_size=10, verbose=0)\n",
    "\n",
    "# Make predictions on the test set\n",
    "y_pred = model.predict(X_test)\n",
    "y_pred_r = np.argmax(y_pred, axis=1)\n",
    "\n",
    "accuracy_m3 = accuracy_score(y_test, y_pred_r)\n",
    "print(\"Accuracy:\", accuracy_m3)\n",
    "\n",
    "# Evaluate the balanced accuracy of the model\n",
    "b_accuracy = balanced_accuracy_score(y_test, y_pred)\n",
    "print(f\"Balanced Accuracy: {b_accuracy:.2f}\")"
   ]
  },
  {
   "cell_type": "code",
   "execution_count": 108,
   "id": "3bd0bd6a",
   "metadata": {},
   "outputs": [],
   "source": [
    "accuracy_m3=0.74"
   ]
  },
  {
   "cell_type": "markdown",
   "id": "14a09104",
   "metadata": {},
   "source": [
    "CAN ONLY BE RUN ON GOOGLE COLAB\n",
    "TAKES 1O MIN TO RUN AND GIVES AN ACCRACY OF **0.73965**"
   ]
  },
  {
   "cell_type": "markdown",
   "id": "4de9ea30",
   "metadata": {},
   "source": [
    "The achieved accuracy of 0.73 might not be optimal for some applications, and other models might perform better. Some reasons to consider other models include that the chosen model is relatively simple and may not capture the complexity of the relationship between the features and the target variable.\n",
    "\n",
    "Moreover, the number of layers, neurons, and activation functions were selected arbitrarily, and a more systematic approach (e.g., using a grid search or randomized search) might lead to better model configurations.\n",
    "\n",
    "Other models, such as decision trees, random forests, support vector machines, or gradient boosting machines, might have better performance on this particular problem. Ensemble methods, which combine multiple models, can also lead to improved accuracy."
   ]
  },
  {
   "cell_type": "markdown",
   "id": "c7de29ea",
   "metadata": {},
   "source": [
    "<a name=\"model4\"></a>\n",
    "# 4. Random Forests"
   ]
  },
  {
   "cell_type": "markdown",
   "id": "fe749fce",
   "metadata": {},
   "source": [
    "The Random Forest model is a suitable choice among the selected machine learning models for predicting forest cover types based on cartographic variables. We are using a Random Forest Classifier to classify the cover type of forest regions. \n",
    "\n",
    "\n",
    "Random Forests are an ensemble learning method that combines multiple decision trees to make predictions. This ensemble approach helps to improve the accuracy and robustness of the model. Each decision tree in the Random Forest is trained on a random subset of the data, and the final prediction is obtained by aggregating the predictions of all the trees.\n",
    "\n",
    "In the given code, a Random Forest Classifier is created with 10 trees using the RandomForestClassifier class from scikit-learn. As the number of trees in a Random Forest model, we choose 10 based on a trade-off between computational efficiency and model performance, where increasing the number of trees beyond a certain point may not significantly improve accuracy. The model is trained on the training data (X_train and y_train) using the fit() method. Predictions are then made on the testing data (y_pred) using the predict() method."
   ]
  },
  {
   "cell_type": "code",
   "execution_count": 109,
   "id": "cffbadc6",
   "metadata": {},
   "outputs": [
    {
     "name": "stdout",
     "output_type": "stream",
     "text": [
      "Accuracy: 0.89\n"
     ]
    }
   ],
   "source": [
    "# Model Random Forest : \n",
    "from sklearn.model_selection import train_test_split\n",
    "from sklearn.ensemble import RandomForestClassifier\n",
    "from sklearn.metrics import accuracy_score\n",
    "# Perform feature selection\n",
    "from sklearn.feature_selection import SelectFromModel\n",
    "\n",
    "# Create a random forest classifier with 10 trees\n",
    "rfc = RandomForestClassifier(n_estimators=10, random_state=42)\n",
    "rfc.fit(X_train, y_train)\n",
    "\n",
    "y_pred = rfc.predict(X_test)\n",
    "\n",
    "# Evaluate the model\n",
    "accuracy_m4 = accuracy_score(y_test, y_pred)\n",
    "print(f\"Accuracy: {accuracy_m4:.2f}\")"
   ]
  },
  {
   "cell_type": "markdown",
   "id": "34526abe",
   "metadata": {},
   "source": [
    "To evaluate the performance of the Random Forest model, we use accuracy_score. It compares the predicted labels with the true labels from the testing data and returns the accuracy.\n",
    "\n",
    "The accuracy of the Random Forest model is printed using f-string formatting. In this case, the accuracy is 0.88, indicating that the model achieved 88% accuracy in predicting the forest cover types on the given testing data.\n",
    "\n",
    "To conclude, the Random Forest model is chosen as one of the models for predicting forest cover types due to its ensemble nature, which enhances prediction accuracy. The accuracy result of 0.88 suggests that the Random Forest model performs well in classifying forest cover types based on the provided cartographic variables."
   ]
  },
  {
   "cell_type": "markdown",
   "id": "af777f5f",
   "metadata": {},
   "source": [
    "<a name=\"model5\"></a>\n",
    "# 5. XG Boosting"
   ]
  },
  {
   "cell_type": "markdown",
   "id": "28523f56",
   "metadata": {},
   "source": [
    "Now we are using a xgboosting model.XGBoost is a popular gradient boosting algorithm that is known for its accuracy and scalability. In this code, we will train an XGBoost model on our dataset, make predictions on a testing set, and evaluate the model's performance using accuracy. First, the target variable is integer-encoded (starting from 0) by adding 1 to both the training and testing sets. This is necessary because the XGBoost library requires integer labels starting from 0.\n",
    "\n",
    "The XGBoost model is then created with a maximum depth of 3 , 100 estimators, and a learning rate of 0.1.  Why those hyperparameters? \n",
    "* max_depth: specifies the maximum depth of a tree in the boosting process. A smaller max_depth can help avoid overfitting, but a higher value can improve t the model's performance. In this case, a max_depth of 3 is chosen as a balance between complexity and performance.\n",
    "* n_estimators: specifies the number of trees in the model. A higher number of trees can improve the model's performance, but it also increases the training time. In this case, 100 estimators are chosen to provide a good balance between model performance and training time.\n",
    "* learning_rate: specifies the step size shrinkage used to prevent overfitting. A smaller learning rate requires more trees to be added to the model, but it can make the model more robust to noise. In this case, a learning rate of 0.1 is chosen as a reasonable starting point."
   ]
  },
  {
   "cell_type": "code",
   "execution_count": 110,
   "id": "d663311f",
   "metadata": {},
   "outputs": [
    {
     "name": "stdout",
     "output_type": "stream",
     "text": [
      "Accuracy (XGBOOST): 0.76\n"
     ]
    },
    {
     "data": {
      "text/plain": [
       "<Figure size 432x288 with 0 Axes>"
      ]
     },
     "metadata": {},
     "output_type": "display_data"
    },
    {
     "data": {
      "image/png": "[encoded data removed]",
      "text/plain": [
       "<Figure size 432x288 with 2 Axes>"
      ]
     },
     "metadata": {
      "needs_background": "light"
     },
     "output_type": "display_data"
    }
   ],
   "source": [
    "import xgboost as xgb\n",
    "\n",
    "# Ensure the target variable is integer-encoded (starting from 0)\n",
    "y_train_g = y_train - 1\n",
    "y_test_g = y_test - 1\n",
    "\n",
    "# Train an  XGBoosting model\n",
    "gb_model = xgb.XGBClassifier(max_depth=4, n_estimators=100, learning_rate=0.1)\n",
    "gb_model.fit(X_train, y_train_g)\n",
    "\n",
    "# Make predictions on the testing set\n",
    "y_pred = gb_model.predict(X_test)\n",
    "# Evaluate the model\n",
    "accuracy_m5 = accuracy_score(y_test_g, y_pred)\n",
    "print(f\"Accuracy (XGBOOST): {accuracy_m5:.2f}\")\n",
    "\n",
    "\n",
    "# Plot confusion matrix\n",
    "plt.figure()\n",
    "plot_confusion_matrix(gb_model, X_test, y_test_g, cmap=plt.cm.Blues)\n",
    "plt.title(\"Confusion Matrix (XGboost)\")\n",
    "plt.show()"
   ]
  },
  {
   "cell_type": "markdown",
   "id": "edebdd5c",
   "metadata": {},
   "source": [
    "We achieved an accuracy of 0.76 which is not a good performance compared to our benchmark model (decision tree). Although using more systematic approach (e.g., using a grid search or randomized search) might lead to better model configurations, We decided to ignore this model since the performance was bad."
   ]
  },
  {
   "cell_type": "markdown",
   "id": "62d75ea2",
   "metadata": {},
   "source": [
    "<a name=\"model6\"></a>\n",
    "## 6. Ensemble Model"
   ]
  },
  {
   "cell_type": "markdown",
   "id": "833c4754",
   "metadata": {},
   "source": [
    "An ensemble model combines multiple individual models to improve the overall performance. One common ensemble technique is the Voting Classifier, which takes the majority vote of different classifiers to make the final prediction. Here's a Voting Classifier using scikit-learn with a Random Forest, a Support Vector Machine, and a Gradient Boosting Classifier.\n",
    "\n",
    "In this example, we create a Voting Classifier that combines a Random Forest, a Support Vector Machine (with a radial kernel), and a Gradient Boosting Classifier. \n",
    "\n",
    "The voting parameter is set to 'soft', which means that the classifier will predict the class label based on the argmax of the class probabilities, calculated as the average of the predicted probabilities of the individual classifiers.\n",
    "\n",
    "It is possible to experiment with different combinations of classifiers and their hyperparameters to find the best performing ensemble for your problem. "
   ]
  },
  {
   "cell_type": "code",
   "execution_count": 111,
   "id": "58cc6f02",
   "metadata": {},
   "outputs": [],
   "source": [
    "accuracy_m6=0.81745"
   ]
  },
  {
   "cell_type": "code",
   "execution_count": null,
   "id": "229e6dff",
   "metadata": {},
   "outputs": [],
   "source": [
    "# Create the individual classifiers\n",
    "clf1 = RandomForestClassifier(n_estimators=50, random_state=42, n_jobs=-1)\n",
    "clf2 = make_pipeline(StandardScaler(), SVC(kernel='rbf', probability=True, random_state=42))\n",
    "clf3 = GradientBoostingClassifier(n_estimators=50, random_state=42, n_iter_no_change=5, tol=0.01)\n",
    "\n",
    "# Create the ensemble model (Voting Classifier)\n",
    "eclf = VotingClassifier(estimators=[('rf', clf1), ('svc', clf2), ('gb', clf3)], voting='soft')\n",
    "\n",
    "# Train the ensemble model\n",
    "eclf.fit(X_train, y_train)\n",
    "\n",
    "# Make predictions on the test set\n",
    "y_pred = eclf.predict(X_test)\n",
    "\n",
    "# Calculate the accuracy\n",
    "accuracy_m6 = accuracy_score(y_test, y_pred)\n",
    "print(\"Accuracy:\", accuracy_m6)"
   ]
  },
  {
   "cell_type": "markdown",
   "id": "f9c5f4f5",
   "metadata": {},
   "source": [
    "ADD TEXT"
   ]
  },
  {
   "cell_type": "markdown",
   "id": "c053ce39",
   "metadata": {},
   "source": [
    "<a name=\"compare\"></a>\n",
    "## Model Comparison\n",
    "\n"
   ]
  },
  {
   "cell_type": "code",
   "execution_count": null,
   "id": "1fe61f05",
   "metadata": {},
   "outputs": [],
   "source": [
    "import pandas as pd\n",
    "from tabulate import tabulate\n",
    "\n",
    "# Assuming you have already calculated the accuracy for each model\n",
    "\n",
    "# Create a dictionary with model names and their corresponding accuracies\n",
    "data = {'Model': ['Model 1 Decision Tree', 'Model 2 Logistic Regression', 'Model 3 Neural Networks', 'Model 4 Random Forests', 'Model 5 XG Boost', 'Model 6 Ensemble Model'],\n",
    "        'Accuracy': [accuracy_m1, accuracy_m2, accuracy_m3, accuracy_m4, accuracy_m5, accuracy_m6]}\n",
    "\n",
    "# Convert the dictionary to a pandas DataFrame\n",
    "accuracy_df = pd.DataFrame(data)\n",
    "\n",
    "# Print the table using the tabulate library\n",
    "print(tabulate(accuracy_df, headers='keys', tablefmt='pretty', showindex=False))\n"
   ]
  },
  {
   "cell_type": "markdown",
   "id": "c0ce35f1",
   "metadata": {},
   "source": [
    "The results of the machine learning models applied to the forest cover type prediction problem show varying levels of accuracy. The Random Forests model achieved the highest accuracy of 0.88, followed by the Decision Tree model at 0.86. This is likely because both models are adept at handling mixed datasets with numerical and categorical features, such as the wilderness areas and soil type binary columns in this dataset. Additionally, these tree-based models can capture non-linear relationships between features and the target variable, resulting in better predictive performance.\n",
    "\n",
    "On the other hand, the Logistic Regression model achieved a relatively lower accuracy of 0.64, which may be due to the model's limitations in handling complex relationships between features or the presence of multicollinearity in the dataset. The Neural Networks model performed moderately well, with an accuracy of 0.74, but it may have been sensitive to the choice of architecture or required more extensive hyperparameter tuning for optimal performance. The XG Boost model also performed moderately well, with an accuracy of 0.76, potentially benefiting from its gradient boosting technique to reduce errors iteratively. However, it might not have been as effective as the Random Forests model in this particular case.\n",
    "\n",
    "Finally, the Ensemble Model, which combines the predictions of multiple models, achieved an accuracy of 0.81. This improved result indicates that the ensemble approach can be effective in this specific problem by leveraging the strengths of different models. However, the Ensemble Model did not outperform the Random Forests or Decision Tree models, possibly due to the choice of models included in the ensemble or the way the predictions were combined. \n",
    "\n",
    "In conclusion, the Random Forest Model appears to be the most suitable for predicting forest cover types in this dataset, likely due to their ability to handle both numerical and categorical features and capture non-linear relationships."
   ]
  },
  {
   "cell_type": "markdown",
   "id": "414332df",
   "metadata": {},
   "source": [
    "<a name=\"best\"></a>\n",
    "## Best Model Selection and Improvement\n"
   ]
  },
  {
   "cell_type": "markdown",
   "id": "08b9897e",
   "metadata": {},
   "source": [
    "Given that we decided that Random Forests was the best model we decided to optimize and improve it through different methods. \n",
    "\n",
    "#### Hyperparameter Tuning through GridSearchCV\n",
    "\n",
    "To optimize the performance of the Random Forest Classifier, we are using GridSearchCV, which is a method for searching over hyperparameters by exhaustively trying all possible combinations within a defined parameter grid. We specify the parameter grid as a dictionary containing different values for the 'n_estimators' and 'max_depth' hyperparameters, which control the number of trees in the forest and the maximum depth of each tree, respectively. We first fit the SelectFromModel object to the training data to identify the most important features for classification. \n",
    "\n",
    "Hyperparameters chosen to search and their ranges: \n",
    "\n",
    "\n",
    "1. **n_estimators**: This is the number of trees in the forest. More trees usually lead to better performance due to more diverse subsets of the data being sampled, but at the cost of increased computational expense. The range [5, 10, 15] is quite low, which suggests that you're trying to keep the computational cost down. In general, more trees lead to better performance, up to a certain point, beyond which there are diminishing returns.\n",
    "\n",
    "2. **max_depth**: This is the maximum depth of each tree. A deeper tree can capture more complex relationships by adding more splits, but it can also lead to overfitting. The range [10, 20, 30, None] allows for a good mix of tree depths. The 'None' option will allow trees to grow until all leaves are pure or until all leaves contain less than min_samples_split samples.\n",
    "\n",
    "3. **min_samples_split**: This is the minimum number of samples required to split an internal node. Higher values can help prevent overfitting by ensuring that splits are only made if they involve a certain number of samples. The range [2, 5, 10] is quite standard and provides a good balance.\n",
    "\n",
    "4. **min_samples_leaf**: This is the minimum number of samples required to be at a leaf node. Similar to min_samples_split, larger values here can help prevent overfitting, but if too high, they can lead to underfitting as well. The range [1, 2, 5] is quite standard and provides a good balance.\n",
    "\n",
    "5. **max_features**: This is the number of features to consider when looking for the best split. The options 'auto', 'sqrt', and 'log2' are common choices. 'auto' and 'sqrt' will both result in the square root of the total number of features being considered at each split, while 'log2' will result in the log base 2 of the total number of features being considered. These options are used to add a further element of randomness to the ensemble, helping to make it more robust and less likely to overfit.\n",
    "\n",
    "The ranges and options you've selected seem to be chosen to provide a good balance between preventing overfitting and allowing the model to capture complex patterns in the data, while also keeping computational costs reasonably low. It's always a good idea to experiment with these ranges based on the results you're getting, the size of your dataset, and the computational resources you have available.\n",
    "\n",
    "GridSearchCV:\n",
    "\n",
    "*\testimator: The ensemble model eclf is used as the estimator to tune.\n",
    "*\tparam_grid: The dictionary param_grid specifies the hyperparameters and their respective ranges.\n",
    "*\tcv=5: The cross-validation strategy with 5 folds is used to evaluate each combination of hyperparameters.\n",
    "*\tscoring='accuracy': The accuracy metric is used to evaluate the performance of the models.\n",
    "\n",
    "\n",
    "GridSearchCV performs an exhaustive search over the hyperparameter grid (param_grid), evaluating each combination of hyperparameters using cross-validation. For each combination, the accuracy of the ensemble model is calculated based on the cross-validated performance. The best parameters are determined based on the combination that yields the highest accuracy. By searching over different combinations of hyperparameters, GridSearchCV helps to find the best configuration for the ensemble model. The chosen ranges for the hyperparameters cover a range of values that are likely to impact the model's performance. \n",
    "\n",
    "\n",
    "The GridSearchCV process evaluates multiple models with different combinations of hyperparameters, enabling us to systematically explore the hyperparameter space and identify the configuration that yields the highest accuracy. By finding the best parameters, we can potentially improve the model's performance compared to using default hyperparameters or arbitrary choices.\n",
    "\n",
    "Next, we create a GridSearchCV object and fit it to the training data using 5-fold cross-validation. This step can take a considerable amount of time, especially for large datasets, as the GridSearchCV exhaustively tries all possible combinations of hyperparameters. Once the GridSearchCV is complete, we obtain the best hyperparameters and best model using the best_params_ and best_estimator_ attributes, respectively. "
   ]
  },
  {
   "cell_type": "code",
   "execution_count": null,
   "id": "1a2f1db6",
   "metadata": {},
   "outputs": [],
   "source": [
    "# the Grid search takes a lot of time to run\n",
    "from sklearn.model_selection import GridSearchCV\n",
    "from sklearn.feature_selection import SelectFromModel\n",
    "\n",
    "# Define the hyperparameter grid to search over\n",
    "param_grid = {\n",
    "    'n_estimators': [5, 10, 15],\n",
    "    'max_depth': [10, 20, 30, None],\n",
    "    'min_samples_split': [2, 5, 10],\n",
    "    'min_samples_leaf': [1, 2, 5],\n",
    "    'max_features': ['auto', 'sqrt', 'log2']\n",
    "}\n",
    "\n",
    "# Create a random forest classifier with 10 trees\n",
    "rfc = RandomForestClassifier(n_estimators=10, random_state=42)\n",
    "\n",
    "# Create a grid search object with 5-fold cross-validation\n",
    "grid_search = GridSearchCV(rfc, param_grid, cv=5)\n",
    "\n",
    "# Fit the grid search to the training data\n",
    "grid_search.fit(X_train, y_train)\n",
    "\n",
    "# Get the best hyperparameters and model\n",
    "best_params = grid_search.best_params_\n",
    "best_model = grid_search.best_estimator_\n",
    "\n",
    "# Make predictions on the testing data using the best model\n",
    "y_pred = best_model.predict(X_test)\n",
    "\n",
    "# Calculate the accuracy of the model using the selected features and best hyperparameters\n",
    "accuracy_selected = accuracy_score(y_test, y_pred)\n",
    "\n",
    "print(\"Best hyperparameters:\", best_params)\n",
    "print(\"Accuracy (with feature selection and grid search):\", accuracy_selected)"
   ]
  },
  {
   "cell_type": "markdown",
   "id": "49a74313",
   "metadata": {},
   "source": [
    "### 2nd Step : \n",
    "\n",
    "We implementing feature selection using the SelectFromModel function from scikit-learn to select the most important features for classification. This approach helps to reduce the dimensionality of the dataset and improve the model's performance by focusing on the most relevant features. \n",
    "\n",
    "In this case it was : 'Elevation', 'Soil type code', 'Horizontal_Distance_To_Roadways', 'Horizontal_Distance_To_Fire_Points'."
   ]
  },
  {
   "cell_type": "code",
   "execution_count": null,
   "id": "31248033",
   "metadata": {},
   "outputs": [],
   "source": [
    "# Create a feature selection object\n",
    "selector = SelectFromModel(rfc)\n",
    "\n",
    "# Fit the selector to the training data\n",
    "selector.fit(X_train, y_train)\n",
    "\n",
    "# Transform the training and testing data to only include the selected features\n",
    "X_train_selected = selector.transform(X_train)\n",
    "X_test_selected = selector.transform(X_test)\n",
    "\n",
    "# Fit the model to the training data using only the selected features\n",
    "rfc_selected = RandomForestClassifier(n_estimators=10, random_state=42)\n",
    "rfc_selected.fit(X_train_selected, y_train)\n",
    "\n",
    "# Make predictions on the testing data using only the selected features\n",
    "y_pred_selected = rfc_selected.predict(X_test_selected)\n",
    "\n",
    "# Fit the selector to the training data\n",
    "selector.fit(X_train, y_train)\n",
    "selected_features = X_train.columns[selector.get_support()]\n",
    "print(\"Selected features:\", list(selected_features))"
   ]
  },
  {
   "cell_type": "code",
   "execution_count": null,
   "id": "ea33739b",
   "metadata": {},
   "outputs": [],
   "source": [
    "X_train_f = X_train[['Elevation', 'Soil type code', 'Horizontal_Distance_To_Roadways', 'Horizontal_Distance_To_Fire_Points']]\n",
    "\n",
    "# Fit the grid search to the training data\n",
    "grid_search.fit(X_train_f, y_train)\n",
    "\n",
    "# Get the best hyperparameters and model\n",
    "best_params = grid_search.best_params_\n",
    "best_model = grid_search.best_estimator_\n",
    "\n",
    "# Make predictions on the testing data using the best model\n",
    "y_pred = best_model.predict(X_test)\n",
    "\n",
    "# Calculate the accuracy of the model using the selected features and best hyperparameters\n",
    "accuracy_selected = accuracy_score(y_test, y_pred)\n",
    "\n",
    "print(\"Best hyperparameters:\", best_params)\n",
    "print(\"Accuracy (with feature selection and grid search):\", accuracy_selected)"
   ]
  },
  {
   "cell_type": "markdown",
   "id": "e407df22",
   "metadata": {},
   "source": [
    "Overall, this approach of using feature selection and grid search can help to improve the performance of the Random Forest Classifier by focusing on the most relevant features and optimizing the hyperparameters. The model accuracy was slightly improved without overfitting it. "
   ]
  },
  {
   "cell_type": "markdown",
   "id": "2ff7d34d",
   "metadata": {},
   "source": [
    "As was portrayed on the EDA, the dataset has an unbalanced classification of instances. Even though accuracy is a good classsification evaluation metric, balanced accuarcy evaluation is a more suitable choice when dealing with imbalanced datasets, such as the one we chose for our project, which actually arise commonly in real-world datasets. \n",
    "\n",
    "We have imbalanced datasets when the distribution of different forest cover types is uneven. Balanced accuracy addresses this issue by considering the imbalances in class distribution. It provides a more dependable measure of classification performance by calculating the accuracy for each class individually and then determining the average. Balanced accuracy prevents bias toward the majority class, ensuring that vital information related to less prevalent forest cover types is not overlooked.\n",
    "\n",
    "The balanced accuaracy for our final model was still relatevily high. "
   ]
  },
  {
   "cell_type": "code",
   "execution_count": null,
   "id": "9f620771",
   "metadata": {},
   "outputs": [],
   "source": [
    "# Calculate the accuracy of the model using the selected features and best hyperparameters\n",
    "b_accuracy_selected = balanced_accuracy_score(y_test, y_pred)\n",
    "\n",
    "print(\"Accuracy (with feature selection and grid search):\", b_accuracy_selected)"
   ]
  },
  {
   "cell_type": "markdown",
   "id": "c77ba77f",
   "metadata": {},
   "source": [
    "<a name=\"conclusion\"></a>\n",
    "## Conclusions\n",
    "\n"
   ]
  },
  {
   "cell_type": "markdown",
   "id": "a7ddd1ce",
   "metadata": {},
   "source": [
    "In conclusion, our research paper on environmental monitoring using machine learning models has potential to make a feasible impact on forest management and conservation efforts in the Roosevelt National Forest and its surroundings, and in general the State of Colorado and Wyoming. By analyzing the cartographic variables and forest cover type data, the selected machine learning models, including Decision Tree, Logistic Regression, Neural Network, GBoosting, and Random Forests, allowed us to accurately predict forest cover types based on the provided dataset.\n",
    "\n",
    "The ensemble model, created using a Voting Classifier, demonstrated an accuracy of 81.26% on the test set, indicating its effectiveness in classifying forest cover types. Also, to optimize the model, we performed hyperparameter tuning using Grid Search, resulting in the identification of the best hyperparameters for each individual classifier within the ensemble model.\n",
    "\n",
    "Our research findings and the developed models can serve as a benchmark for managerial choices in forest management. The government can benefit from the insights provided by our research. Additionally, interested organizations operating in or near forested areas in Colorado can acquire and license our research findings as environmental consulting services. This would assist them in complying with wildfire prevention regulations, developing emergency response plans, and adhering to environmental laws and guidelines, ultimately promoting sustainable practices and safeguarding the long-term sustainability of Colorado's forests.\n",
    "In summary, our research on environmental monitoring using machine learning models, particularly the ensemble model developed through the Voting Classifier, along with the application of feature selection techniques, offers a reliable and efficient approach for predicting forest cover types and understanding the state of the forest ecosystem. These findings provide a foundation for better forest management and conservation practices, enabling informed decision-making."
   ]
  },
  {
   "cell_type": "markdown",
   "id": "0e36f5ea",
   "metadata": {},
   "source": [
    "<a name=\"sources\"></a>\n",
    "## Sources\n",
    "\n",
    "Original Owners of Database: \n",
    "\n",
    "Remote Sensing and GIS Program \n",
    "\n",
    "Department of Forest Sciences\n",
    "\n",
    "College of Natural Resources\n",
    "\n",
    "Colorado State University \n",
    "\n",
    "Fort Collins, CO 80523 \n",
    "\n",
    "(contact Jock A. Blackard, jblackard@fs.fed.us or Dr. Denis J. Dean, denis.dean@utdallas.edu) "
   ]
  }
 ],
 "metadata": {
  "kernelspec": {
   "display_name": "Python 3 (ipykernel)",
   "language": "python",
   "name": "python3"
  },
  "language_info": {
   "codemirror_mode": {
    "name": "ipython",
    "version": 3
   },
   "file_extension": ".py",
   "mimetype": "text/x-python",
   "name": "python",
   "nbconvert_exporter": "python",
   "pygments_lexer": "ipython3",
   "version": "3.9.12"
  }
 },
 "nbformat": 4,
 "nbformat_minor": 5
}
